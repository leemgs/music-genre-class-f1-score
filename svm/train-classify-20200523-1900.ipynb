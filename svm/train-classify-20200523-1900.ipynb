{
 "cells": [
  {
   "cell_type": "markdown",
   "metadata": {},
   "source": [
    "### Script reads from fft and mfcc files and trains using logistic regression and knn\n",
    "* Author: Geunsik Lim <leemgs@gmail.com> \n",
    "* Evaluation Environment: Ubuntu 18.04 , Anaconda3 (202002, conda activate cnn), Python 3.6\n",
    "* Usage: $ python train-classify.py  genres.FFT/ genres.MFCC/\n",
    "*   - IN: Paths to directories consisting of FFT files, and MFCC files.\n",
    "*   - OUT: Splits dataset as per code into train and test sets, performs training and tests. Displays classification accuracy along with confusion matrix.\n"
   ]
  },
  {
   "cell_type": "code",
   "execution_count": 1,
   "metadata": {},
   "outputs": [
    {
     "name": "stdout",
     "output_type": "stream",
     "text": [
      "Collecting package metadata (current_repodata.json): done\n",
      "Solving environment: \\ \n",
      "The environment is inconsistent, please check the package plan carefully\n",
      "The following packages are causing the inconsistency:\n",
      "\n",
      "  - defaults/noarch::ipywidgets==7.5.1=py_0\n",
      "  - defaults/linux-64::cryptography==2.9.2=py37h1ba5d50_0\n",
      "  - defaults/noarch::python-dateutil==2.8.1=py_0\n",
      "  - defaults/noarch::zipp==3.1.0=py_0\n",
      "  - defaults/noarch::parso==0.7.0=py_0\n",
      "  - defaults/linux-64::mkl_fft==1.0.15=py37ha843d7b_0\n",
      "  - defaults/linux-64::ipython==7.13.0=py37h5ca1d4c_0\n",
      "  - defaults/noarch::pygments==2.6.1=py_0\n",
      "  - defaults/linux-64::gast==0.2.2=py37_0\n",
      "  - defaults/noarch::decorator==4.4.2=py_0\n",
      "  - defaults/linux-64::astor==0.8.0=py37_0\n",
      "  - defaults/noarch::jupyter_client==6.1.3=py_0\n",
      "  - defaults/linux-64::mkl_random==1.1.0=py37hd6b4f25_0\n",
      "  - defaults/linux-64::pickleshare==0.7.5=py37_0\n",
      "  - defaults/linux-64::h5py==2.10.0=py37h7918eee_0\n",
      "  - defaults/noarch::prompt-toolkit==3.0.4=py_0\n",
      "  - defaults/linux-64::pandocfilters==1.4.2=py37_1\n",
      "  - defaults/linux-64::traitlets==4.3.3=py37_0\n",
      "  - defaults/noarch::pycparser==2.20=py_0\n",
      "  - defaults/noarch::google-auth-oauthlib==0.4.1=py_2\n",
      "  - defaults/linux-64::send2trash==1.5.0=py37_0\n",
      "  - defaults/linux-64::python==3.7.7=hcff3b4d_5\n",
      "  - defaults/noarch::pyasn1-modules==0.2.7=py_0\n",
      "  - defaults/noarch::qtconsole==4.7.4=py_0\n",
      "  - defaults/linux-64::ptyprocess==0.6.0=py37_0\n",
      "  - defaults/linux-64::wrapt==1.12.1=py37h7b6447c_1\n",
      "  - defaults/noarch::keras-applications==1.0.8=py_0\n",
      "  - defaults/linux-64::grpcio==1.27.2=py37hf8bcb03_0\n",
      "  - defaults/noarch::keras-preprocessing==1.1.0=py_1\n",
      "  - defaults/linux-64::protobuf==3.11.4=py37he6710b0_0\n",
      "  - defaults/linux-64::notebook==6.0.3=py37_0\n",
      "  - defaults/linux-64::jupyter==1.0.0=py37_7\n",
      "  - defaults/linux-64::urllib3==1.25.8=py37_0\n",
      "  - defaults/noarch::oauthlib==3.1.0=py_0\n",
      "  - defaults/linux-64::requests==2.23.0=py37_0\n",
      "  - defaults/linux-64::ipython_genutils==0.2.0=py37_0\n",
      "  - defaults/linux-64::jsonschema==2.6.0=py37_0\n",
      "  - defaults/linux-64::certifi==2020.4.5.1=py37_0\n",
      "  - defaults/noarch::wcwidth==0.1.9=py_0\n",
      "  - defaults/noarch::idna==2.9=py_1\n",
      "  - defaults/linux-64::webencodings==0.5.1=py37_1\n",
      "  - defaults/noarch::google-auth==1.14.1=py_0\n",
      "  - defaults/linux-64::setuptools==46.4.0=py37_0\n",
      "  - defaults/linux-64::nbconvert==5.6.1=py37_0\n",
      "  - defaults/linux-64::pexpect==4.8.0=py37_0\n",
      "  - defaults/linux-64::pysocks==1.7.1=py37_0\n",
      "  - defaults/noarch::bleach==3.1.4=py_0\n",
      "  - defaults/noarch::prometheus_client==0.7.1=py_0\n",
      "  - defaults/linux-64::jupyter_core==4.6.3=py37_0\n",
      "  - defaults/linux-64::chardet==3.0.4=py37_1003\n",
      "  - defaults/noarch::prompt_toolkit==3.0.4=0\n",
      "  - defaults/noarch::click==7.1.2=py_0\n",
      "  - defaults/linux-64::cffi==1.14.0=py37he30daa8_1\n",
      "  - defaults/linux-64::entrypoints==0.3=py37_0\n",
      "  - defaults/noarch::qtpy==1.9.0=py_0\n",
      "  - defaults/noarch::attrs==19.3.0=py_0\n",
      "  - defaults/linux-64::terminado==0.8.3=py37_0\n",
      "  - defaults/linux-64::widgetsnbextension==3.5.1=py37_0\n",
      "  - defaults/linux-64::sip==4.19.8=py37hf484d3e_0\n",
      "  - defaults/noarch::jupyter_console==6.1.0=py_0\n",
      "  - defaults/linux-64::pyqt==5.9.2=py37h05f1152_2\n",
      "  - defaults/linux-64::six==1.14.0=py37_0\n",
      "  - defaults/linux-64::mkl-service==2.3.0=py37he904b0f_0\n",
      "  - defaults/noarch::defusedxml==0.6.0=py_0\n",
      "  - defaults/noarch::pyasn1==0.4.8=py_0\n",
      "  - defaults/noarch::werkzeug==1.0.1=py_0\n",
      "  - defaults/linux-64::markupsafe==1.1.1=py37h7b6447c_0\n",
      "  - defaults/linux-64::numpy==1.18.1=py37h4f9e942_0\n",
      "  - defaults/linux-64::absl-py==0.9.0=py37_0\n",
      "  - defaults/noarch::rsa==4.0=py_0\n",
      "  - defaults/linux-64::tornado==6.0.4=py37h7b6447c_1\n",
      "  - defaults/noarch::jinja2==2.11.2=py_0\n",
      "  - defaults/noarch::nbformat==5.0.6=py_0\n",
      "  - defaults/linux-64::pyjwt==1.7.1=py37_0\n",
      "  - defaults/noarch::google-pasta==0.2.0=py_0\n",
      "  - defaults/linux-64::tensorflow==2.1.0=mkl_py37h80a91df_0\n",
      "  - defaults/linux-64::blinker==1.4=py37_0\n",
      "  - defaults/noarch::opt_einsum==3.1.0=py_0\n",
      "  - defaults/linux-64::mistune==0.8.4=py37h7b6447c_0\n",
      "  - defaults/linux-64::backcall==0.1.0=py37_0\n",
      "  - defaults/noarch::cachetools==3.1.1=py_0\n",
      "  - defaults/linux-64::ipykernel==5.1.4=py37h39e3cac_0\n",
      "  - defaults/noarch::testpath==0.4.4=py_0\n",
      "  - defaults/linux-64::markdown==3.1.1=py37_0\n",
      "  - defaults/linux-64::pip==20.0.2=py37_3\n",
      "  - defaults/linux-64::termcolor==1.1.0=py37_1\n",
      "  - defaults/linux-64::pyopenssl==19.1.0=py37_0\n",
      "  - defaults/linux-64::jedi==0.17.0=py37_0\n",
      "  - defaults/linux-64::pyzmq==18.1.1=py37he6710b0_0\n",
      "  - defaults/noarch::requests-oauthlib==1.3.0=py_0\n",
      "done\n",
      "\n",
      "## Package Plan ##\n",
      "\n",
      "  environment location: /var/www/invain/anaconda3/envs/cnn\n",
      "\n",
      "  added / updated specs:\n",
      "    - lightgbm\n",
      "\n",
      "\n",
      "The following packages will be downloaded:\n",
      "\n",
      "    package                    |            build\n",
      "    ---------------------------|-----------------\n",
      "    astunparse-1.6.3           |             py_0          17 KB\n",
      "    tensorboard-2.2.1          |     pyh532a8cf_0         2.4 MB\n",
      "    tensorboard-plugin-wit-1.6.0|             py_0         630 KB\n",
      "    tensorflow-2.2.0           |mkl_py37h6e9ce2d_0           4 KB\n",
      "    tensorflow-base-2.2.0      |mkl_py37hd506778_0       129.6 MB\n",
      "    tensorflow-estimator-2.2.0 |     pyh208ff02_0         254 KB\n",
      "    ------------------------------------------------------------\n",
      "                                           Total:       132.9 MB\n",
      "\n",
      "The following NEW packages will be INSTALLED:\n",
      "\n",
      "  astunparse         pkgs/main/noarch::astunparse-1.6.3-py_0\n",
      "  joblib             pkgs/main/noarch::joblib-0.15.1-py_0\n",
      "  lightgbm           pkgs/main/linux-64::lightgbm-2.3.0-py37he6710b0_0\n",
      "  numpy-base         pkgs/main/linux-64::numpy-base-1.18.1-py37hde5b4d6_1\n",
      "  scikit-learn       pkgs/main/linux-64::scikit-learn-0.22.1-py37hd81dba3_0\n",
      "  scipy              pkgs/main/linux-64::scipy-1.4.1-py37h0b6359f_0\n",
      "  tensorboard        pkgs/main/noarch::tensorboard-2.2.1-pyh532a8cf_0\n",
      "  tensorboard-plugi~ pkgs/main/noarch::tensorboard-plugin-wit-1.6.0-py_0\n",
      "  tensorflow-base    pkgs/main/linux-64::tensorflow-base-2.2.0-mkl_py37hd506778_0\n",
      "  tensorflow-estima~ pkgs/main/noarch::tensorflow-estimator-2.2.0-pyh208ff02_0\n",
      "  wheel              pkgs/main/linux-64::wheel-0.34.2-py37_0\n",
      "\n",
      "The following packages will be UPDATED:\n",
      "\n",
      "  gast                pkgs/main/linux-64::gast-0.2.2-py37_0 --> pkgs/main/noarch::gast-0.3.3-py_0\n",
      "  tensorflow                       2.1.0-mkl_py37h80a91df_0 --> 2.2.0-mkl_py37h6e9ce2d_0\n",
      "\n",
      "\n",
      "\n",
      "Downloading and Extracting Packages\n",
      "tensorboard-plugin-w | 630 KB    | ##################################### | 100% \n",
      "tensorboard-2.2.1    | 2.4 MB    | ##################################### | 100% \n",
      "tensorflow-estimator | 254 KB    | ##################################### | 100% \n",
      "astunparse-1.6.3     | 17 KB     | ##################################### | 100% \n",
      "tensorflow-base-2.2. | 129.6 MB  | ##################################### | 100% \n",
      "tensorflow-2.2.0     | 4 KB      | ##################################### | 100% \n",
      "Preparing transaction: done\n",
      "Verifying transaction: done\n",
      "Executing transaction: done\n"
     ]
    }
   ],
   "source": [
    "!conda install lightgbm -y\n"
   ]
  },
  {
   "cell_type": "code",
   "execution_count": 2,
   "metadata": {},
   "outputs": [],
   "source": [
    "import itertools\n",
    "\n",
    "import sklearn \n",
    "from sklearn import linear_model\n",
    "from sklearn.neighbors import KNeighborsClassifier\n",
    "# from sklearn.cross_validation import train_test_split\n",
    "from sklearn.model_selection import train_test_split\n",
    "from sklearn.metrics import confusion_matrix\n",
    "from sklearn.metrics import classification_report\n",
    "from sklearn.metrics import accuracy_score\n",
    "from sklearn.pipeline import Pipeline\n",
    "from sklearn.preprocessing import StandardScaler\n",
    "from sklearn.feature_selection import VarianceThreshold\n",
    "from sklearn.feature_selection import SelectFromModel\n",
    "import lightgbm as lgbm\n",
    "from sklearn.svm import SVC\n",
    "from sklearn.model_selection import GridSearchCV\n",
    "\n",
    "import matplotlib.pyplot as plt\n",
    "import scipy\n",
    "import os\n",
    "import sys\n",
    "import glob\n",
    "import numpy as np\n",
    "\n"
   ]
  },
  {
   "cell_type": "markdown",
   "metadata": {},
   "source": [
    "Reads FFT-files and prepares X_train and y_train. genre_list must consist of names of folders/genres consisting of the required FFT-files. base_dir must contain genre_list of directories"
   ]
  },
  {
   "cell_type": "code",
   "execution_count": 3,
   "metadata": {},
   "outputs": [],
   "source": [
    "\n",
    "def read_fft(genre_list, base_dir):\n",
    "\tX = []\n",
    "\ty = []\n",
    "\tfor label, genre in enumerate(genre_list):\n",
    "\t\t# create UNIX pathnames to id FFT-files.\n",
    "\t\tgenre_dir = os.path.join(base_dir, genre, \"*.fft.npy\")\n",
    "\t\t# get path names that math genre-dir\n",
    "\t\tfile_list = glob.glob(genre_dir)\n",
    "\t\tfor file in file_list:\n",
    "\t\t\tfft_features = np.load(file)\n",
    "\t\t\tX.append(fft_features)\n",
    "\t\t\ty.append(label)\n",
    "\t\n",
    "\t# print(X)\n",
    "\t# print(y)\n",
    "\t# print(len(X))\n",
    "\t# print(len(y))\n",
    "\n",
    "\treturn np.array(X), np.array(y)\n"
   ]
  },
  {
   "cell_type": "markdown",
   "metadata": {},
   "source": [
    "Rreads MFCC-files and prepares X_train and y_train.\n",
    "genre_list must consist of names of folders/genres consisting of the required MFCC-files\n",
    "base_dir must contain genre_list of directories"
   ]
  },
  {
   "cell_type": "code",
   "execution_count": 4,
   "metadata": {},
   "outputs": [],
   "source": [
    "\n",
    "def read_ceps(genre_list, base_dir):\n",
    "\tX, y = [], []\n",
    "\tfor label, genre in enumerate(genre_list):\n",
    "\t\tfor fn in glob.glob(os.path.join(base_dir, genre, \"*.ceps.npy\")):\n",
    "\t\t\tceps = np.load(fn)\n",
    "\t\t\tnum_ceps = len(ceps)\n",
    "\t\t\tX.append(np.mean(ceps[int(num_ceps*1/10):int(num_ceps*9/10)], axis=0))\n",
    "\t\t\ty.append(label)\n",
    "\t\n",
    "\treturn np.array(X), np.array(y)"
   ]
  },
  {
   "cell_type": "code",
   "execution_count": 5,
   "metadata": {},
   "outputs": [],
   "source": [
    "def train_score(classifier, Xtrain, Xtest, ytrain, ytest):\n",
    "        train_acc = classifier.score(Xtrain, ytrain)\n",
    "        test_acc = classifier.score(Xtest, ytest)\n",
    "        print(\"Training Data Accuracy: %0.2f\" % (train_acc))\n",
    "        print(\"Test Data Accuracy:     %0.2f\" % (test_acc))\n",
    "        ypred = classifier.predict(Xtest)\n",
    "        conf = confusion_matrix(ytest, ypred)\n",
    "        precision = (conf[0, 0] / (conf[0, 0] + conf[1, 0]))\n",
    "        recall = (conf[0, 0] / (conf[0, 0] + conf[0, 1]))\n",
    "        f1_score = 2 * ((precision * recall)/(precision + recall))\n",
    "        print(\"Precision:              %0.2f\" % precision)\n",
    "        print(\"Recall:                 %0.2f\" % recall)\n",
    "        print(\"F1 Score:                 %0.2f\" % f1_score)\n",
    "        print('\\n')\n"
   ]
  },
  {
   "cell_type": "code",
   "execution_count": 6,
   "metadata": {},
   "outputs": [],
   "source": [
    "def plot_confusion_matrix(cm, title, genre_list, cmap=plt.cm.Blues):\n",
    "        plt.imshow(cm, interpolation='nearest', cmap=cmap)\n",
    "        plt.title(title)\n",
    "        plt.colorbar()\n",
    "        tick_marks = np.arange(len(genre_list))\n",
    "        plt.xticks(tick_marks, genre_list, rotation=45)\n",
    "        plt.yticks(tick_marks, genre_list)\n",
    "        plt.tight_layout()\n",
    "        plt.ylabel('True label')\n",
    "        plt.xlabel('Predicted label')\n",
    "        plt.show()"
   ]
  },
  {
   "cell_type": "code",
   "execution_count": 7,
   "metadata": {},
   "outputs": [],
   "source": [
    "# Helper to plot confusion matrix -- from Scikit-learn website\n",
    "def plot_confusion_matrix_02(cm, classes,\n",
    "                          normalize=False,\n",
    "                          title='Confusion matrix',\n",
    "                          cmap=plt.cm.Blues):\n",
    "    \"\"\"\n",
    "    This function prints and plots the confusion matrix.\n",
    "    Normalization can be applied by setting `normalize=True`.\n",
    "    \"\"\"\n",
    "    if normalize:\n",
    "        cm = cm.astype('float') / cm.sum(axis=1)[:, np.newaxis]\n",
    "\n",
    "    plt.imshow(cm, interpolation='nearest', cmap=cmap)\n",
    "    plt.title(title)\n",
    "    plt.colorbar()\n",
    "    tick_marks = np.arange(len(classes))\n",
    "    plt.xticks(tick_marks, classes, rotation=45)\n",
    "    plt.yticks(tick_marks, classes)\n",
    "\n",
    "    fmt = '.2f' if normalize else 'd'\n",
    "    thresh = cm.max() / 2.\n",
    "    for i, j in itertools.product(range(cm.shape[0]), range(cm.shape[1])):\n",
    "        plt.text(j, i, format(cm[i, j], fmt),\n",
    "                 horizontalalignment=\"center\",\n",
    "                 color=\"white\" if cm[i, j] > thresh else \"black\")\n",
    "\n",
    "    plt.ylabel('True label')\n",
    "    plt.xlabel('Predicted label')\n",
    "    plt.show()"
   ]
  },
  {
   "cell_type": "markdown",
   "metadata": {},
   "source": [
    "### From now on,  the program will be started actually. a main routine  is as follows. \n"
   ]
  },
  {
   "cell_type": "code",
   "execution_count": 8,
   "metadata": {},
   "outputs": [],
   "source": [
    "# List of genres (these must be folder names consisting .wav of respective genre in the base_dir) Change list if needed.\n",
    "# For example, IF YOU WANT TO CLASSIFY ONLY CLASSICAL AND JAZZ,  specify genre_list = [\"classical\", \"jazz\"] \n",
    "genre_list = [\"classical\", \"hiphop\", \"jazz\", \"pop\", \"rock\", \"metal\"]\n",
    "#target_names = genre_list"
   ]
  },
  {
   "cell_type": "code",
   "execution_count": 9,
   "metadata": {},
   "outputs": [],
   "source": [
    "# use FFT\n",
    "# base_dir_fft  = \"genres.FFT/\"\n",
    "#X, y = read_fft(genre_list, base_dir_fft)\n",
    "#X_train, X_test, y_train, y_test = train_test_split(X, y, test_size = .25)\n",
    "#print('\\n******USING FFT******')\n",
    "\n",
    "# print(\"X_train = \" + str(len(X_train)), \"y_train = \" + str(len(y_train)), \"X_test = \" + str(len(X_test)), \"y_test = \" + str(len(y_test)))"
   ]
  },
  {
   "cell_type": "code",
   "execution_count": 10,
   "metadata": {},
   "outputs": [
    {
     "name": "stdout",
     "output_type": "stream",
     "text": [
      "******USING MFCC******\n"
     ]
    }
   ],
   "source": [
    "# use MFCC\n",
    "base_dir_mfcc = \"genres.MFCC/\"\n",
    "X, y = read_ceps(genre_list, base_dir_mfcc)\n",
    "X_train, X_test, y_train, y_test = train_test_split(X, y, test_size = 0.25)\n",
    "print('******USING MFCC******')\n"
   ]
  },
  {
   "cell_type": "code",
   "execution_count": 11,
   "metadata": {},
   "outputs": [
    {
     "name": "stdout",
     "output_type": "stream",
     "text": [
      "######## CLASSIFICATION REPORT with Logistic Regression ########\n",
      "logistic accuracy (test set)= 0.7266666666666667\n",
      "logistic confusion matrix:\n",
      "[[22  0  1  0  0  1]\n",
      " [ 0 15  0  3  1  6]\n",
      " [ 2  2 13  1  5  0]\n",
      " [ 0  2  1 21  2  0]\n",
      " [ 1  6  4  1 11  1]\n",
      " [ 0  0  0  0  1 27]]\n",
      "              precision    recall  f1-score   support\n",
      "\n",
      "   classical       0.88      0.92      0.90        24\n",
      "      hiphop       0.60      0.60      0.60        25\n",
      "        jazz       0.68      0.57      0.62        23\n",
      "         pop       0.81      0.81      0.81        26\n",
      "        rock       0.55      0.46      0.50        24\n",
      "       metal       0.77      0.96      0.86        28\n",
      "\n",
      "    accuracy                           0.73       150\n",
      "   macro avg       0.72      0.72      0.71       150\n",
      "weighted avg       0.72      0.73      0.72       150\n",
      "\n"
     ]
    },
    {
     "name": "stderr",
     "output_type": "stream",
     "text": [
      "/var/www/invain/anaconda3/envs/cnn/lib/python3.7/site-packages/sklearn/linear_model/_logistic.py:940: ConvergenceWarning: lbfgs failed to converge (status=1):\n",
      "STOP: TOTAL NO. of ITERATIONS REACHED LIMIT.\n",
      "\n",
      "Increase the number of iterations (max_iter) or scale the data as shown in:\n",
      "    https://scikit-learn.org/stable/modules/preprocessing.html\n",
      "Please also refer to the documentation for alternative solver options:\n",
      "    https://scikit-learn.org/stable/modules/linear_model.html#logistic-regression\n",
      "  extra_warning_msg=_LOGISTIC_SOLVER_CONVERGENCE_MSG)\n"
     ]
    }
   ],
   "source": [
    "\n",
    "# print(\"X_train = \" + str(len(X_train)), \"y_train = \" + str(len(y_train)), \"X_test = \" + str(len(X_test)), \"y_test = \" + str(len(y_test)))\n",
    "\n",
    "print(\"######## CLASSIFICATION REPORT with Logistic Regression ########\")\n",
    "logistic_classifier = linear_model.LogisticRegression()\n",
    "logistic_classifier.fit(X_train, y_train)\n",
    "\n",
    "logistic_predictions = logistic_classifier.predict(X_test)\n",
    "logistic_accuracy = accuracy_score(y_test, logistic_predictions)\n",
    "logistic_cm = confusion_matrix(y_test, logistic_predictions)\n",
    "# print(\"logistic accuracy (validation set)= \" + str(logistic_classifier.best_score_))\n",
    "print(\"logistic accuracy (test set)= \" + str(logistic_accuracy))\n",
    "print(\"logistic confusion matrix:\")\n",
    "print(logistic_cm)\n",
    "\n",
    "print(classification_report(y_test, logistic_predictions,target_names=genre_list))\n"
   ]
  },
  {
   "cell_type": "code",
   "execution_count": 12,
   "metadata": {},
   "outputs": [
    {
     "data": {
      "image/png": "[encoded data removed]",
      "text/plain": [
       "<Figure size 432x288 with 2 Axes>"
      ]
     },
     "metadata": {
      "needs_background": "light"
     },
     "output_type": "display_data"
    }
   ],
   "source": [
    "plot_confusion_matrix_02(logistic_cm, genre_list, normalize=True, title=\"Confusion matrix for classification (Logistic)\")"
   ]
  },
  {
   "cell_type": "code",
   "execution_count": 13,
   "metadata": {},
   "outputs": [
    {
     "name": "stdout",
     "output_type": "stream",
     "text": [
      "######## CLASSIFICATION REPORT with KNeighbors Classifier ########\n",
      "knn accuracy (test set)= 0.6933333333333334\n",
      "knn confusion matrix:\n",
      "[[23  0  0  0  1  0]\n",
      " [ 0  9  2  3  5  6]\n",
      " [ 4  2 13  1  3  0]\n",
      " [ 1  1  1 22  1  0]\n",
      " [ 1  6  3  1 12  1]\n",
      " [ 0  1  0  0  2 25]]\n",
      "              precision    recall  f1-score   support\n",
      "\n",
      "   classical       0.79      0.96      0.87        24\n",
      "      hiphop       0.47      0.36      0.41        25\n",
      "        jazz       0.68      0.57      0.62        23\n",
      "         pop       0.81      0.85      0.83        26\n",
      "        rock       0.50      0.50      0.50        24\n",
      "       metal       0.78      0.89      0.83        28\n",
      "\n",
      "    accuracy                           0.69       150\n",
      "   macro avg       0.67      0.69      0.68       150\n",
      "weighted avg       0.68      0.69      0.68       150\n",
      "\n"
     ]
    }
   ],
   "source": [
    "print(\"######## CLASSIFICATION REPORT with KNeighbors Classifier ########\")\n",
    "knn_classifier = KNeighborsClassifier()\n",
    "knn_classifier.fit(X_train, y_train)\n",
    "knn_predictions = knn_classifier.predict(X_test)\n",
    "knn_accuracy = accuracy_score(y_test, knn_predictions)\n",
    "knn_cm = confusion_matrix(y_test, knn_predictions)\n",
    "\n",
    "#print(\"knn accuracy (validation set)= \" + str(knn_classifier.best_score_))\n",
    "print(\"knn accuracy (test set)= \" + str(knn_accuracy))\n",
    "print(\"knn confusion matrix:\") \n",
    "print(knn_cm)\n",
    "\n",
    "print(classification_report(y_test, knn_predictions,target_names=genre_list))"
   ]
  },
  {
   "cell_type": "code",
   "execution_count": 14,
   "metadata": {},
   "outputs": [
    {
     "data": {
      "image/png": "[encoded data removed]",
      "text/plain": [
       "<Figure size 432x288 with 2 Axes>"
      ]
     },
     "metadata": {
      "needs_background": "light"
     },
     "output_type": "display_data"
    }
   ],
   "source": [
    "plot_confusion_matrix_02(knn_cm, genre_list, normalize=True, title=\"Confusion matrix for classification (KNN)\")"
   ]
  },
  {
   "cell_type": "code",
   "execution_count": 15,
   "metadata": {
    "scrolled": true
   },
   "outputs": [
    {
     "name": "stdout",
     "output_type": "stream",
     "text": [
      "######## CLASSIFICATION REPORT with SVM (Support Vector Machine)########\n",
      "svm accuracy (test set)= 0.7533333333333333\n",
      "svm confusion matrix:\n",
      "[[21  0  0  0  3  0]\n",
      " [ 0 14  1  3  1  6]\n",
      " [ 3  0 17  0  3  0]\n",
      " [ 0  1  1 23  1  0]\n",
      " [ 0  4  3  1 16  0]\n",
      " [ 0  1  1  0  4 22]]\n",
      "              precision    recall  f1-score   support\n",
      "\n",
      "   classical       0.88      0.88      0.88        24\n",
      "      hiphop       0.70      0.56      0.62        25\n",
      "        jazz       0.74      0.74      0.74        23\n",
      "         pop       0.85      0.88      0.87        26\n",
      "        rock       0.57      0.67      0.62        24\n",
      "       metal       0.79      0.79      0.79        28\n",
      "\n",
      "    accuracy                           0.75       150\n",
      "   macro avg       0.75      0.75      0.75       150\n",
      "weighted avg       0.76      0.75      0.75       150\n",
      "\n"
     ]
    }
   ],
   "source": [
    "print(\"######## CLASSIFICATION REPORT with SVM (Support Vector Machine)########\")\n",
    "params = {\n",
    "\t\"cls__C\": [0.5, 1, 2, 5],\n",
    "\t\"cls__kernel\": ['rbf', 'linear', 'sigmoid'],\n",
    "}\n",
    "\n",
    "pipe_svm = Pipeline([\n",
    "\t('scale', StandardScaler()),\n",
    "\t('var_tresh', VarianceThreshold(threshold=(.8 * (1 - .8)))),\n",
    "\t('feature_selection', SelectFromModel(lgbm.LGBMClassifier())),\n",
    "\t('cls', SVC())\n",
    "])\n",
    "\n",
    "svm_classifier = GridSearchCV(pipe_svm, params, scoring='accuracy', n_jobs=6, cv=5)\n",
    "svm_classifier.fit(X_train, y_train)\n",
    "svm_predictions = svm_classifier.predict(X_test)\n",
    "svm_cm = confusion_matrix(y_test, svm_predictions)\n",
    "svm_accuracy = accuracy_score(y_test, svm_predictions)\n",
    "#print(\"svm accuracy (validation set)= \" + str(svm_classifier.best_score_))\n",
    "print(\"svm accuracy (test set)= \" + str(svm_accuracy))\n",
    "print(\"svm confusion matrix:\") \n",
    "print(svm_cm)\n",
    "\n",
    "print(classification_report(y_test, svm_predictions,target_names=genre_list))\n",
    "\n"
   ]
  },
  {
   "cell_type": "code",
   "execution_count": 16,
   "metadata": {},
   "outputs": [
    {
     "data": {
      "image/png": "[encoded data removed]",
      "text/plain": [
       "<Figure size 432x288 with 2 Axes>"
      ]
     },
     "metadata": {
      "needs_background": "light"
     },
     "output_type": "display_data"
    }
   ],
   "source": [
    "plot_confusion_matrix_02(svm_cm, genre_list, normalize=True, title=\"Confusion matrix for classification (SVM)\")"
   ]
  },
  {
   "cell_type": "code",
   "execution_count": 17,
   "metadata": {},
   "outputs": [
    {
     "name": "stdout",
     "output_type": "stream",
     "text": [
      "This lie is last statement. All tasks are successfully done.\n"
     ]
    }
   ],
   "source": [
    "print (\"This lie is last statement. All tasks are successfully done.\")"
   ]
  },
  {
   "cell_type": "code",
   "execution_count": null,
   "metadata": {},
   "outputs": [],
   "source": []
  }
 ],
 "metadata": {
  "kernelspec": {
   "display_name": "Python 3",
   "language": "python",
   "name": "python3"
  },
  "language_info": {
   "codemirror_mode": {
    "name": "ipython",
    "version": 3
   },
   "file_extension": ".py",
   "mimetype": "text/x-python",
   "name": "python",
   "nbconvert_exporter": "python",
   "pygments_lexer": "ipython3",
   "version": "3.7.7"
  }
 },
 "nbformat": 4,
 "nbformat_minor": 4
}
