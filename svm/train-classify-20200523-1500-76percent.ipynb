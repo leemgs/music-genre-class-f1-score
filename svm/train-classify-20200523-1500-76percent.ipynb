{
 "cells": [
  {
   "cell_type": "markdown",
   "metadata": {},
   "source": [
    "### Script reads from fft and mfcc files and trains using logistic regression and knn\n",
    "* Author: Geunsik Lim <leemgs@gmail.com> \n",
    "* Evaluation Environment: Ubuntu 18.04 , Anaconda3 (202002), Python 3.6\n",
    "* Usage: $ python train-classify.py  genres.FFT/ genres.MFCC/\n",
    "*   - IN: Paths to directories consisting of FFT files, and MFCC files.\n",
    "*   - OUT: Splits dataset as per code into train and test sets, performs training and tests. Displays classification accuracy along with confusion matrix.\n"
   ]
  },
  {
   "cell_type": "code",
   "execution_count": 1,
   "metadata": {},
   "outputs": [
    {
     "name": "stdout",
     "output_type": "stream",
     "text": [
      "Collecting package metadata (current_repodata.json): done\n",
      "Solving environment: done\n",
      "\n",
      "# All requested packages already installed.\n",
      "\n"
     ]
    }
   ],
   "source": [
    "!conda install lightgbm -y\n"
   ]
  },
  {
   "cell_type": "code",
   "execution_count": 2,
   "metadata": {},
   "outputs": [],
   "source": [
    "import itertools\n",
    "\n",
    "import sklearn \n",
    "from sklearn import linear_model\n",
    "from sklearn.neighbors import KNeighborsClassifier\n",
    "# from sklearn.cross_validation import train_test_split\n",
    "from sklearn.model_selection import train_test_split\n",
    "from sklearn.metrics import confusion_matrix\n",
    "from sklearn.metrics import classification_report\n",
    "from sklearn.metrics import accuracy_score\n",
    "from sklearn.pipeline import Pipeline\n",
    "from sklearn.preprocessing import StandardScaler\n",
    "from sklearn.feature_selection import VarianceThreshold\n",
    "from sklearn.feature_selection import SelectFromModel\n",
    "import lightgbm as lgbm\n",
    "from sklearn.svm import SVC\n",
    "from sklearn.model_selection import GridSearchCV\n",
    "\n",
    "import matplotlib.pyplot as plt\n",
    "import scipy\n",
    "import os\n",
    "import sys\n",
    "import glob\n",
    "import numpy as np\n",
    "\n"
   ]
  },
  {
   "cell_type": "markdown",
   "metadata": {},
   "source": [
    "Reads FFT-files and prepares X_train and y_train. genre_list must consist of names of folders/genres consisting of the required FFT-files. base_dir must contain genre_list of directories"
   ]
  },
  {
   "cell_type": "code",
   "execution_count": 3,
   "metadata": {},
   "outputs": [],
   "source": [
    "\n",
    "def read_fft(genre_list, base_dir):\n",
    "\tX = []\n",
    "\ty = []\n",
    "\tfor label, genre in enumerate(genre_list):\n",
    "\t\t# create UNIX pathnames to id FFT-files.\n",
    "\t\tgenre_dir = os.path.join(base_dir, genre, \"*.fft.npy\")\n",
    "\t\t# get path names that math genre-dir\n",
    "\t\tfile_list = glob.glob(genre_dir)\n",
    "\t\tfor file in file_list:\n",
    "\t\t\tfft_features = np.load(file)\n",
    "\t\t\tX.append(fft_features)\n",
    "\t\t\ty.append(label)\n",
    "\t\n",
    "\t# print(X)\n",
    "\t# print(y)\n",
    "\t# print(len(X))\n",
    "\t# print(len(y))\n",
    "\n",
    "\treturn np.array(X), np.array(y)\n"
   ]
  },
  {
   "cell_type": "markdown",
   "metadata": {},
   "source": [
    "Rreads MFCC-files and prepares X_train and y_train.\n",
    "genre_list must consist of names of folders/genres consisting of the required MFCC-files\n",
    "base_dir must contain genre_list of directories"
   ]
  },
  {
   "cell_type": "code",
   "execution_count": 4,
   "metadata": {},
   "outputs": [],
   "source": [
    "\n",
    "def read_ceps(genre_list, base_dir):\n",
    "\tX, y = [], []\n",
    "\tfor label, genre in enumerate(genre_list):\n",
    "\t\tfor fn in glob.glob(os.path.join(base_dir, genre, \"*.ceps.npy\")):\n",
    "\t\t\tceps = np.load(fn)\n",
    "\t\t\tnum_ceps = len(ceps)\n",
    "\t\t\tX.append(np.mean(ceps[int(num_ceps*1/10):int(num_ceps*9/10)], axis=0))\n",
    "\t\t\ty.append(label)\n",
    "\t\n",
    "\treturn np.array(X), np.array(y)"
   ]
  },
  {
   "cell_type": "code",
   "execution_count": 5,
   "metadata": {},
   "outputs": [],
   "source": [
    "def train_score(classifier, Xtrain, Xtest, ytrain, ytest):\n",
    "        train_acc = classifier.score(Xtrain, ytrain)\n",
    "        test_acc = classifier.score(Xtest, ytest)\n",
    "        print(\"Training Data Accuracy: %0.2f\" % (train_acc))\n",
    "        print(\"Test Data Accuracy:     %0.2f\" % (test_acc))\n",
    "        ypred = classifier.predict(Xtest)\n",
    "        conf = confusion_matrix(ytest, ypred)\n",
    "        precision = (conf[0, 0] / (conf[0, 0] + conf[1, 0]))\n",
    "        recall = (conf[0, 0] / (conf[0, 0] + conf[0, 1]))\n",
    "        f1_score = 2 * ((precision * recall)/(precision + recall))\n",
    "        print(\"Precision:              %0.2f\" % precision)\n",
    "        print(\"Recall:                 %0.2f\" % recall)\n",
    "        print(\"F1 Score:                 %0.2f\" % f1_score)\n",
    "        print('\\n')\n"
   ]
  },
  {
   "cell_type": "code",
   "execution_count": 6,
   "metadata": {},
   "outputs": [],
   "source": [
    "def plot_confusion_matrix(cm, title, genre_list, cmap=plt.cm.Blues):\n",
    "        plt.imshow(cm, interpolation='nearest', cmap=cmap)\n",
    "        plt.title(title)\n",
    "        plt.colorbar()\n",
    "        tick_marks = np.arange(len(genre_list))\n",
    "        plt.xticks(tick_marks, genre_list, rotation=45)\n",
    "        plt.yticks(tick_marks, genre_list)\n",
    "        plt.tight_layout()\n",
    "        plt.ylabel('True label')\n",
    "        plt.xlabel('Predicted label')\n",
    "        plt.show()"
   ]
  },
  {
   "cell_type": "code",
   "execution_count": 7,
   "metadata": {},
   "outputs": [],
   "source": [
    "# Helper to plot confusion matrix -- from Scikit-learn website\n",
    "def plot_confusion_matrix_02(cm, classes,\n",
    "                          normalize=False,\n",
    "                          title='Confusion matrix',\n",
    "                          cmap=plt.cm.Blues):\n",
    "    \"\"\"\n",
    "    This function prints and plots the confusion matrix.\n",
    "    Normalization can be applied by setting `normalize=True`.\n",
    "    \"\"\"\n",
    "    if normalize:\n",
    "        cm = cm.astype('float') / cm.sum(axis=1)[:, np.newaxis]\n",
    "\n",
    "    plt.imshow(cm, interpolation='nearest', cmap=cmap)\n",
    "    plt.title(title)\n",
    "    plt.colorbar()\n",
    "    tick_marks = np.arange(len(classes))\n",
    "    plt.xticks(tick_marks, classes, rotation=45)\n",
    "    plt.yticks(tick_marks, classes)\n",
    "\n",
    "    fmt = '.2f' if normalize else 'd'\n",
    "    thresh = cm.max() / 2.\n",
    "    for i, j in itertools.product(range(cm.shape[0]), range(cm.shape[1])):\n",
    "        plt.text(j, i, format(cm[i, j], fmt),\n",
    "                 horizontalalignment=\"center\",\n",
    "                 color=\"white\" if cm[i, j] > thresh else \"black\")\n",
    "\n",
    "    plt.ylabel('True label')\n",
    "    plt.xlabel('Predicted label')\n",
    "    plt.show()"
   ]
  },
  {
   "cell_type": "markdown",
   "metadata": {},
   "source": [
    "### From now on,  the program will be started actually. a main routine  is as follows. \n"
   ]
  },
  {
   "cell_type": "code",
   "execution_count": 8,
   "metadata": {},
   "outputs": [],
   "source": [
    "# List of genres (these must be folder names consisting .wav of respective genre in the base_dir) Change list if needed.\n",
    "# For example, IF YOU WANT TO CLASSIFY ONLY CLASSICAL AND JAZZ,  specify genre_list = [\"classical\", \"jazz\"] \n",
    "genre_list = [\"classical\", \"hiphop\", \"jazz\", \"pop\", \"rock\", \"metal\"]\n",
    "#target_names = genre_list"
   ]
  },
  {
   "cell_type": "code",
   "execution_count": 9,
   "metadata": {},
   "outputs": [],
   "source": [
    "# use FFT\n",
    "# base_dir_fft  = \"genres.FFT/\"\n",
    "#X, y = read_fft(genre_list, base_dir_fft)\n",
    "#X_train, X_test, y_train, y_test = train_test_split(X, y, test_size = .25)\n",
    "#print('\\n******USING FFT******')\n",
    "\n",
    "# print(\"X_train = \" + str(len(X_train)), \"y_train = \" + str(len(y_train)), \"X_test = \" + str(len(X_test)), \"y_test = \" + str(len(y_test)))"
   ]
  },
  {
   "cell_type": "code",
   "execution_count": 10,
   "metadata": {},
   "outputs": [
    {
     "name": "stdout",
     "output_type": "stream",
     "text": [
      "******USING MFCC******\n"
     ]
    }
   ],
   "source": [
    "# use MFCC\n",
    "base_dir_mfcc = \"genres.MFCC/\"\n",
    "X, y = read_ceps(genre_list, base_dir_mfcc)\n",
    "X_train, X_test, y_train, y_test = train_test_split(X, y, test_size = 0.25)\n",
    "print('******USING MFCC******')\n"
   ]
  },
  {
   "cell_type": "code",
   "execution_count": 11,
   "metadata": {},
   "outputs": [
    {
     "name": "stdout",
     "output_type": "stream",
     "text": [
      "######## CLASSIFICATION REPORT with Logistic Regression ########\n",
      "logistic accuracy (test set)= 0.6733333333333333\n",
      "logistic confusion matrix:\n",
      "[[24  0  0  0  1  1]\n",
      " [ 1  9  1  2  5  4]\n",
      " [ 4  4 17  3  1  0]\n",
      " [ 1  2  1 20  1  0]\n",
      " [ 0  4  3  0 13  1]\n",
      " [ 0  7  0  0  2 18]]\n",
      "              precision    recall  f1-score   support\n",
      "\n",
      "   classical       0.80      0.92      0.86        26\n",
      "      hiphop       0.35      0.41      0.38        22\n",
      "        jazz       0.77      0.59      0.67        29\n",
      "         pop       0.80      0.80      0.80        25\n",
      "        rock       0.57      0.62      0.59        21\n",
      "       metal       0.75      0.67      0.71        27\n",
      "\n",
      "    accuracy                           0.67       150\n",
      "   macro avg       0.67      0.67      0.67       150\n",
      "weighted avg       0.69      0.67      0.68       150\n",
      "\n"
     ]
    },
    {
     "name": "stderr",
     "output_type": "stream",
     "text": [
      "/var/www/invain/anaconda3/envs/python374/lib/python3.7/site-packages/sklearn/linear_model/_logistic.py:940: ConvergenceWarning: lbfgs failed to converge (status=1):\n",
      "STOP: TOTAL NO. of ITERATIONS REACHED LIMIT.\n",
      "\n",
      "Increase the number of iterations (max_iter) or scale the data as shown in:\n",
      "    https://scikit-learn.org/stable/modules/preprocessing.html\n",
      "Please also refer to the documentation for alternative solver options:\n",
      "    https://scikit-learn.org/stable/modules/linear_model.html#logistic-regression\n",
      "  extra_warning_msg=_LOGISTIC_SOLVER_CONVERGENCE_MSG)\n"
     ]
    }
   ],
   "source": [
    "\n",
    "# print(\"X_train = \" + str(len(X_train)), \"y_train = \" + str(len(y_train)), \"X_test = \" + str(len(X_test)), \"y_test = \" + str(len(y_test)))\n",
    "\n",
    "print(\"######## CLASSIFICATION REPORT with Logistic Regression ########\")\n",
    "logistic_classifier = linear_model.LogisticRegression()\n",
    "logistic_classifier.fit(X_train, y_train)\n",
    "\n",
    "logistic_predictions = logistic_classifier.predict(X_test)\n",
    "logistic_accuracy = accuracy_score(y_test, logistic_predictions)\n",
    "logistic_cm = confusion_matrix(y_test, logistic_predictions)\n",
    "# print(\"logistic accuracy (validation set)= \" + str(logistic_classifier.best_score_))\n",
    "print(\"logistic accuracy (test set)= \" + str(logistic_accuracy))\n",
    "print(\"logistic confusion matrix:\")\n",
    "print(logistic_cm)\n",
    "\n",
    "print(classification_report(y_test, logistic_predictions,target_names=genre_list))\n"
   ]
  },
  {
   "cell_type": "code",
   "execution_count": 12,
   "metadata": {},
   "outputs": [
    {
     "data": {
      "image/png": "[encoded data removed]",
      "text/plain": [
       "<Figure size 432x288 with 2 Axes>"
      ]
     },
     "metadata": {
      "needs_background": "light"
     },
     "output_type": "display_data"
    }
   ],
   "source": [
    "plot_confusion_matrix_02(logistic_cm, genre_list, normalize=True, title=\"Confusion matrix for classification (Logistic)\")"
   ]
  },
  {
   "cell_type": "code",
   "execution_count": 13,
   "metadata": {},
   "outputs": [
    {
     "name": "stdout",
     "output_type": "stream",
     "text": [
      "######## CLASSIFICATION REPORT with KNeighbors Classifier ########\n",
      "knn accuracy (test set)= 0.6933333333333334\n",
      "knn confusion matrix:\n",
      "[[25  0  0  0  0  1]\n",
      " [ 0 10  1  5  3  3]\n",
      " [ 6  2 17  2  2  0]\n",
      " [ 0  2  2 21  0  0]\n",
      " [ 1  2  1  2 13  2]\n",
      " [ 1  2  0  2  4 18]]\n",
      "              precision    recall  f1-score   support\n",
      "\n",
      "   classical       0.76      0.96      0.85        26\n",
      "      hiphop       0.56      0.45      0.50        22\n",
      "        jazz       0.81      0.59      0.68        29\n",
      "         pop       0.66      0.84      0.74        25\n",
      "        rock       0.59      0.62      0.60        21\n",
      "       metal       0.75      0.67      0.71        27\n",
      "\n",
      "    accuracy                           0.69       150\n",
      "   macro avg       0.69      0.69      0.68       150\n",
      "weighted avg       0.70      0.69      0.69       150\n",
      "\n"
     ]
    }
   ],
   "source": [
    "print(\"######## CLASSIFICATION REPORT with KNeighbors Classifier ########\")\n",
    "knn_classifier = KNeighborsClassifier()\n",
    "knn_classifier.fit(X_train, y_train)\n",
    "knn_predictions = knn_classifier.predict(X_test)\n",
    "knn_accuracy = accuracy_score(y_test, knn_predictions)\n",
    "knn_cm = confusion_matrix(y_test, knn_predictions)\n",
    "\n",
    "#print(\"knn accuracy (validation set)= \" + str(knn_classifier.best_score_))\n",
    "print(\"knn accuracy (test set)= \" + str(knn_accuracy))\n",
    "print(\"knn confusion matrix:\") \n",
    "print(knn_cm)\n",
    "\n",
    "print(classification_report(y_test, knn_predictions,target_names=genre_list))"
   ]
  },
  {
   "cell_type": "code",
   "execution_count": 14,
   "metadata": {},
   "outputs": [
    {
     "data": {
      "image/png": "[encoded data removed]",
      "text/plain": [
       "<Figure size 432x288 with 2 Axes>"
      ]
     },
     "metadata": {
      "needs_background": "light"
     },
     "output_type": "display_data"
    }
   ],
   "source": [
    "plot_confusion_matrix_02(knn_cm, genre_list, normalize=True, title=\"Confusion matrix for classification (KNN)\")"
   ]
  },
  {
   "cell_type": "code",
   "execution_count": 15,
   "metadata": {
    "scrolled": true
   },
   "outputs": [
    {
     "name": "stdout",
     "output_type": "stream",
     "text": [
      "######## CLASSIFICATION REPORT with SVM (Support Vector Machine)########\n",
      "svm accuracy (test set)= 0.7666666666666667\n",
      "svm confusion matrix:\n",
      "[[26  0  0  0  0  0]\n",
      " [ 1 13  1  4  1  2]\n",
      " [ 4  2 17  2  4  0]\n",
      " [ 0  1  1 22  1  0]\n",
      " [ 0  1  2  0 16  2]\n",
      " [ 0  4  0  0  2 21]]\n",
      "              precision    recall  f1-score   support\n",
      "\n",
      "   classical       0.84      1.00      0.91        26\n",
      "      hiphop       0.62      0.59      0.60        22\n",
      "        jazz       0.81      0.59      0.68        29\n",
      "         pop       0.79      0.88      0.83        25\n",
      "        rock       0.67      0.76      0.71        21\n",
      "       metal       0.84      0.78      0.81        27\n",
      "\n",
      "    accuracy                           0.77       150\n",
      "   macro avg       0.76      0.77      0.76       150\n",
      "weighted avg       0.77      0.77      0.76       150\n",
      "\n"
     ]
    }
   ],
   "source": [
    "print(\"######## CLASSIFICATION REPORT with SVM (Support Vector Machine)########\")\n",
    "params = {\n",
    "\t\"cls__C\": [0.5, 1, 2, 5],\n",
    "\t\"cls__kernel\": ['rbf', 'linear', 'sigmoid'],\n",
    "}\n",
    "\n",
    "pipe_svm = Pipeline([\n",
    "\t('scale', StandardScaler()),\n",
    "\t('var_tresh', VarianceThreshold(threshold=(.8 * (1 - .8)))),\n",
    "\t('feature_selection', SelectFromModel(lgbm.LGBMClassifier())),\n",
    "\t('cls', SVC())\n",
    "])\n",
    "\n",
    "svm_classifier = GridSearchCV(pipe_svm, params, scoring='accuracy', n_jobs=6, cv=5)\n",
    "svm_classifier.fit(X_train, y_train)\n",
    "svm_predictions = svm_classifier.predict(X_test)\n",
    "svm_cm = confusion_matrix(y_test, svm_predictions)\n",
    "svm_accuracy = accuracy_score(y_test, svm_predictions)\n",
    "#print(\"svm accuracy (validation set)= \" + str(svm_classifier.best_score_))\n",
    "print(\"svm accuracy (test set)= \" + str(svm_accuracy))\n",
    "print(\"svm confusion matrix:\") \n",
    "print(svm_cm)\n",
    "\n",
    "print(classification_report(y_test, svm_predictions,target_names=genre_list))\n",
    "\n"
   ]
  },
  {
   "cell_type": "code",
   "execution_count": 16,
   "metadata": {},
   "outputs": [
    {
     "data": {
      "image/png": "[encoded data removed]",
      "text/plain": [
       "<Figure size 432x288 with 2 Axes>"
      ]
     },
     "metadata": {
      "needs_background": "light"
     },
     "output_type": "display_data"
    }
   ],
   "source": [
    "plot_confusion_matrix_02(svm_cm, genre_list, normalize=True, title=\"Confusion matrix for classification (SVM)\")"
   ]
  },
  {
   "cell_type": "code",
   "execution_count": 17,
   "metadata": {},
   "outputs": [
    {
     "name": "stdout",
     "output_type": "stream",
     "text": [
      "This lie is last statement. All tasks are successfully done.\n"
     ]
    }
   ],
   "source": [
    "print (\"This lie is last statement. All tasks are successfully done.\")"
   ]
  },
  {
   "cell_type": "code",
   "execution_count": null,
   "metadata": {},
   "outputs": [],
   "source": []
  }
 ],
 "metadata": {
  "kernelspec": {
   "display_name": "Python 3",
   "language": "python",
   "name": "python3"
  },
  "language_info": {
   "codemirror_mode": {
    "name": "ipython",
    "version": 3
   },
   "file_extension": ".py",
   "mimetype": "text/x-python",
   "name": "python",
   "nbconvert_exporter": "python",
   "pygments_lexer": "ipython3",
   "version": "3.7.4"
  }
 },
 "nbformat": 4,
 "nbformat_minor": 4
}
