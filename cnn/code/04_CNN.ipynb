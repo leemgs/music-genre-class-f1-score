{
 "cells": [
  {
   "cell_type": "markdown",
   "metadata": {},
   "source": [
    "# Convolutional Neural Network (CNN)\n",
    "\n",
    "An automatic genre classification algorithm could greatly increase efficiency for music databases. \n",
    "\n",
    "* 1. Data Preprocessing\n",
    "* 2. Feed Forward Neural Network (FFNN)\n",
    "* 3. Convolutional Neural Network (CNN)\n",
    "* 4. Conclusion\n",
    "\n",
    "This file is created by Geunsik Lim <leemgs@gmail.com>.\n",
    "\n",
    "* Requirement:\n",
    "  - Python 3.7.6, Keras 2.3.1, Tensorflow 2.0.1\n",
    "  - ~/.keras/keras.json \n",
    "    - You must use a \"image_data_format: **channels_last**\" statement.\n",
    "    - https://keras.io/api/utils/backend_utils/\n",
    "```bash\n",
    "$ cat ~/.keras/keras.json\n",
    "{\n",
    "    \"epsilon\": 1e-07,\n",
    "    \"floatx\": \"float32\",\n",
    "    \"image_data_format\": \"channels_last\",\n",
    "    \"backend\": \"tensorflow\"\n",
    "}\n",
    "```\n",
    "\n"
   ]
  },
  {
   "cell_type": "markdown",
   "metadata": {},
   "source": [
    "## 1. Data Preprocessing\n",
    "I will use the function \"extract_mel_spectrogram\" created in the first notebook to get the features and targets. Before constructing the model though, a few additional steps have to be taken:\n",
    "1. Values of the mel spectrograms should be scaled so that they are between 0 and 1 for computational efficiency.\n",
    "2. The data is currently 1000 rows of mel spectrograms that are 128 x 660. We need to reshape this to be 1000 rows of 128 x 660 x 1 to represent that there is a single color channel. If our image had three color channels, RGB, we would need this additional dimension to be 3.\n",
    "3. Target values have to be one-hot-encoded in order to be fed into a neural network."
   ]
  },
  {
   "cell_type": "code",
   "execution_count": 1,
   "metadata": {},
   "outputs": [
    {
     "name": "stdout",
     "output_type": "stream",
     "text": [
      "* Tensorflow 2.0.1\n",
      "* Keras 2.3.1\n"
     ]
    },
    {
     "name": "stderr",
     "output_type": "stream",
     "text": [
      "Using TensorFlow backend.\n"
     ]
    }
   ],
   "source": [
    "# !pip install tensorflow==2.0.1\n",
    "import tensorflow as tf \n",
    "print(\"* Tensorflow\", tf.__version__)\n",
    "\n",
    "tf.keras.backend.image_data_format()\n",
    "\n",
    "# !pip install keras==2.3.1\n",
    "import keras\n",
    "print(\"* Keras\", keras.__version__)"
   ]
  },
  {
   "cell_type": "code",
   "execution_count": 2,
   "metadata": {},
   "outputs": [],
   "source": [
    "# Imports\n",
    "import os\n",
    "import librosa\n",
    "import pandas as pd\n",
    "import numpy as np\n",
    "import seaborn as sns\n",
    "import matplotlib.pyplot as plt\n",
    "from sklearn.model_selection import train_test_split\n",
    "from sklearn.metrics import confusion_matrix\n",
    "from sklearn.metrics import classification_report\n",
    "from tensorflow.python.keras.models import Sequential\n",
    "from tensorflow.python.keras.layers import Dense, Dropout, Flatten, Conv2D, MaxPooling2D\n",
    "from tensorflow.python.keras import utils\n",
    "from keras.utils import to_categorical\n"
   ]
  },
  {
   "cell_type": "code",
   "execution_count": 3,
   "metadata": {},
   "outputs": [],
   "source": [
    "label_dict = {\n",
    "    'classical': 0,\n",
    "    'hiphop': 1,\n",
    "    'jazz': 2,\n",
    "    'metal': 3,\n",
    "    'pop': 4,\n",
    "    'rock': 5\n",
    "}"
   ]
  },
  {
   "cell_type": "code",
   "execution_count": 4,
   "metadata": {},
   "outputs": [],
   "source": [
    "def extract_mel_spectrogram(directory):\n",
    "    '''\n",
    "    This function takes in a directory of audio files in .wav format, computes the\n",
    "    mel spectrogram for each audio file, reshapes them so that they are all the \n",
    "    same size, and stores them in a numpy array. \n",
    "    \n",
    "    It also creates a list of genre labels and maps them to numeric values.\n",
    "    \n",
    "    Parameters:\n",
    "    directory (int): a directory of audio files in .wav format\n",
    "    \n",
    "    Returns:\n",
    "    X (array): array of mel spectrogram data from all audio files in the given\n",
    "    directory\n",
    "    y (array): array of the corresponding genre labels in numeric form\n",
    "    '''\n",
    "    \n",
    "    # Creating empty lists for mel spectrograms and labels\n",
    "    labels = []\n",
    "    mel_specs = []\n",
    "    \n",
    "    \n",
    "    # Looping through each file in the directory\n",
    "    for file in os.scandir(directory):\n",
    "        \n",
    "        # Loading in the audio file\n",
    "        y, sr = librosa.core.load(file)\n",
    "        \n",
    "        # Extracting the label and adding it to the list\n",
    "        label = str(file).split('.')[0][11:]\n",
    "        labels.append(label)\n",
    "        \n",
    "        # Computing the mel spectrograms\n",
    "        spect = librosa.feature.melspectrogram(y=y, sr=sr, n_fft=2048, hop_length=1024)\n",
    "        spect = librosa.power_to_db(spect, ref=np.max)\n",
    "        \n",
    "        # Adjusting the size to be 128 x 660\n",
    "        if spect.shape[1] != 660:\n",
    "            spect.resize(128,660, refcheck=False)\n",
    "            \n",
    "        # Adding the mel spectrogram to the list\n",
    "        mel_specs.append(spect)\n",
    "        \n",
    "    # Converting the list or arrays to an array\n",
    "    X = np.array(mel_specs)\n",
    "    \n",
    "    # Converting labels to numeric values\n",
    "    labels = pd.Series(labels)\n",
    "\n",
    "    y = labels.map(label_dict).values\n",
    "    \n",
    "    # Returning the mel spectrograms and labels\n",
    "    return X, y"
   ]
  },
  {
   "cell_type": "code",
   "execution_count": 5,
   "metadata": {},
   "outputs": [],
   "source": [
    "# Using the function to read and extract mel spectrograms from the GTZAN Genre Dataset audio files\n",
    "X, y = extract_mel_spectrogram('../data/wavfiles')"
   ]
  },
  {
   "cell_type": "code",
   "execution_count": 6,
   "metadata": {},
   "outputs": [],
   "source": [
    "# Train test split\n",
    "X_train, X_test, y_train, y_test = train_test_split(X, y, random_state=42, stratify=y, test_size=.2)"
   ]
  },
  {
   "cell_type": "markdown",
   "metadata": {},
   "source": [
    "**Note:** It is important that we train test split before scaling and reshaping the data to avoid data leakage."
   ]
  },
  {
   "cell_type": "code",
   "execution_count": 7,
   "metadata": {},
   "outputs": [
    {
     "data": {
      "text/plain": [
       "-80.0"
      ]
     },
     "execution_count": 7,
     "metadata": {},
     "output_type": "execute_result"
    }
   ],
   "source": [
    "# Checking the minimum value (the scale ranges from zero to some negative value) to see how we should scale the data\n",
    "X_train.min()"
   ]
  },
  {
   "cell_type": "code",
   "execution_count": 8,
   "metadata": {},
   "outputs": [],
   "source": [
    "# Scaling our data to be between 0 and 1 using the minimum value from above\n",
    "X_train /= -80\n",
    "X_test /= -80"
   ]
  },
  {
   "cell_type": "code",
   "execution_count": 9,
   "metadata": {},
   "outputs": [],
   "source": [
    "# Reshaping images to be 128 x 660 x 1, where the 1 represents the single color channel\n",
    "X_train = X_train.reshape(X_train.shape[0], 128, 660, 1)\n",
    "X_test = X_test.reshape(X_test.shape[0], 128, 660, 1)"
   ]
  },
  {
   "cell_type": "code",
   "execution_count": 10,
   "metadata": {},
   "outputs": [],
   "source": [
    "# One hot encoding our labels\n",
    "y_train = to_categorical(y_train, 10)\n",
    "y_test = to_categorical(y_test, 10)"
   ]
  },
  {
   "cell_type": "markdown",
   "metadata": {},
   "source": [
    "## 2. Feed Forward Neural Network (FFNN)\n",
    "Before running a CNN, I wanted to train a feed forward neural network (FFNN) for comparison. CNNs have additional layers for edge detection that make them well suited for image classification problems, but they tend to be more computationally expensive than FFNNs. If a FFNN could perform just as well, there would be no need to use a CNN."
   ]
  },
  {
   "cell_type": "code",
   "execution_count": 11,
   "metadata": {},
   "outputs": [],
   "source": [
    "#### FFNN: Model"
   ]
  },
  {
   "cell_type": "code",
   "execution_count": 12,
   "metadata": {
    "scrolled": false
   },
   "outputs": [],
   "source": [
    "# Initializing a random seed for replication purposes\n",
    "np.random.seed(23456)\n",
    "\n",
    "# Initiating an empty neural network\n",
    "model = Sequential()\n",
    "\n",
    "# Adding a flattened layer to input our image data\n",
    "model.add(Flatten(input_shape = (128, 660, 1)))\n",
    "\n",
    "# Adding a dense layer with 128 neurons\n",
    "model.add(Dense(128, activation='relu'))\n",
    "\n",
    "# Adding a dense layer with 128 neurons\n",
    "model.add(Dense(128, activation='relu'))\n",
    "\n",
    "# Adding a dense layer with 64 neurons\n",
    "model.add(Dense(64, activation='relu'))\n",
    "\n",
    "# Adding an output layer\n",
    "model.add(Dense(10, activation='softmax'))\n",
    "\n",
    "# Compiling our neural network\n",
    "model.compile(loss='categorical_crossentropy',\n",
    "              optimizer='adam',\n",
    "              metrics=['accuracy'])\n"
   ]
  },
  {
   "cell_type": "code",
   "execution_count": 13,
   "metadata": {},
   "outputs": [
    {
     "name": "stdout",
     "output_type": "stream",
     "text": [
      "Model: \"sequential\"\n",
      "_________________________________________________________________\n",
      "Layer (type)                 Output Shape              Param #   \n",
      "=================================================================\n",
      "flatten (Flatten)            (None, 84480)             0         \n",
      "_________________________________________________________________\n",
      "dense (Dense)                (None, 128)               10813568  \n",
      "_________________________________________________________________\n",
      "dense_1 (Dense)              (None, 128)               16512     \n",
      "_________________________________________________________________\n",
      "dense_2 (Dense)              (None, 64)                8256      \n",
      "_________________________________________________________________\n",
      "dense_3 (Dense)              (None, 10)                650       \n",
      "=================================================================\n",
      "Total params: 10,838,986\n",
      "Trainable params: 10,838,986\n",
      "Non-trainable params: 0\n",
      "_________________________________________________________________\n"
     ]
    }
   ],
   "source": [
    "# Checking the model summary\n",
    "model.summary()"
   ]
  },
  {
   "cell_type": "markdown",
   "metadata": {},
   "source": [
    "#### FFNN: Train"
   ]
  },
  {
   "cell_type": "code",
   "execution_count": 14,
   "metadata": {},
   "outputs": [
    {
     "name": "stdout",
     "output_type": "stream",
     "text": [
      "Train on 480 samples, validate on 120 samples\n",
      "Epoch 1/40\n",
      "480/480 [==============================] - 2s 4ms/sample - loss: 9.6633 - accuracy: 0.1937 - val_loss: 3.7116 - val_accuracy: 0.1667\n",
      "Epoch 2/40\n",
      "480/480 [==============================] - 1s 3ms/sample - loss: 3.3115 - accuracy: 0.2458 - val_loss: 2.2113 - val_accuracy: 0.3167\n",
      "Epoch 3/40\n",
      "480/480 [==============================] - 1s 3ms/sample - loss: 1.6978 - accuracy: 0.4062 - val_loss: 1.6192 - val_accuracy: 0.3750\n",
      "Epoch 4/40\n",
      "480/480 [==============================] - 1s 3ms/sample - loss: 1.6519 - accuracy: 0.4187 - val_loss: 1.5158 - val_accuracy: 0.4833\n",
      "Epoch 5/40\n",
      "480/480 [==============================] - 1s 3ms/sample - loss: 1.2372 - accuracy: 0.4875 - val_loss: 1.2074 - val_accuracy: 0.5167\n",
      "Epoch 6/40\n",
      "480/480 [==============================] - 1s 3ms/sample - loss: 1.1307 - accuracy: 0.5688 - val_loss: 1.1512 - val_accuracy: 0.5750\n",
      "Epoch 7/40\n",
      "480/480 [==============================] - 1s 3ms/sample - loss: 1.0395 - accuracy: 0.6000 - val_loss: 1.3044 - val_accuracy: 0.4500\n",
      "Epoch 8/40\n",
      "480/480 [==============================] - 1s 3ms/sample - loss: 1.1559 - accuracy: 0.5354 - val_loss: 1.2633 - val_accuracy: 0.5167\n",
      "Epoch 9/40\n",
      "480/480 [==============================] - 1s 3ms/sample - loss: 1.1057 - accuracy: 0.5792 - val_loss: 1.0028 - val_accuracy: 0.6250\n",
      "Epoch 10/40\n",
      "480/480 [==============================] - 1s 3ms/sample - loss: 0.9373 - accuracy: 0.5938 - val_loss: 1.3278 - val_accuracy: 0.5333\n",
      "Epoch 11/40\n",
      "480/480 [==============================] - 1s 3ms/sample - loss: 1.3224 - accuracy: 0.5125 - val_loss: 1.1472 - val_accuracy: 0.5500\n",
      "Epoch 12/40\n",
      "480/480 [==============================] - 1s 3ms/sample - loss: 0.9814 - accuracy: 0.6083 - val_loss: 2.1530 - val_accuracy: 0.3667\n",
      "Epoch 13/40\n",
      "480/480 [==============================] - 1s 3ms/sample - loss: 1.2562 - accuracy: 0.5208 - val_loss: 1.0560 - val_accuracy: 0.6000\n",
      "Epoch 14/40\n",
      "480/480 [==============================] - 1s 3ms/sample - loss: 1.2013 - accuracy: 0.5333 - val_loss: 1.2108 - val_accuracy: 0.5583\n",
      "Epoch 15/40\n",
      "480/480 [==============================] - 1s 3ms/sample - loss: 0.7574 - accuracy: 0.7083 - val_loss: 1.2658 - val_accuracy: 0.5250\n",
      "Epoch 16/40\n",
      "480/480 [==============================] - 1s 3ms/sample - loss: 0.9099 - accuracy: 0.6229 - val_loss: 1.1294 - val_accuracy: 0.5917\n",
      "Epoch 17/40\n",
      "480/480 [==============================] - 1s 3ms/sample - loss: 1.1635 - accuracy: 0.5292 - val_loss: 1.3819 - val_accuracy: 0.4833\n",
      "Epoch 18/40\n",
      "480/480 [==============================] - 1s 3ms/sample - loss: 1.0129 - accuracy: 0.6167 - val_loss: 1.0771 - val_accuracy: 0.5083\n",
      "Epoch 19/40\n",
      "480/480 [==============================] - 1s 3ms/sample - loss: 1.0111 - accuracy: 0.5958 - val_loss: 1.3176 - val_accuracy: 0.4583\n",
      "Epoch 20/40\n",
      "480/480 [==============================] - 1s 3ms/sample - loss: 0.7711 - accuracy: 0.6917 - val_loss: 0.9172 - val_accuracy: 0.6083\n",
      "Epoch 21/40\n",
      "480/480 [==============================] - 1s 3ms/sample - loss: 0.6657 - accuracy: 0.7437 - val_loss: 0.8996 - val_accuracy: 0.6583\n",
      "Epoch 22/40\n",
      "480/480 [==============================] - 1s 3ms/sample - loss: 0.5469 - accuracy: 0.7896 - val_loss: 0.8133 - val_accuracy: 0.6833\n",
      "Epoch 23/40\n",
      "480/480 [==============================] - 1s 3ms/sample - loss: 0.5326 - accuracy: 0.7854 - val_loss: 0.8320 - val_accuracy: 0.6750\n",
      "Epoch 24/40\n",
      "480/480 [==============================] - 1s 3ms/sample - loss: 0.6276 - accuracy: 0.7437 - val_loss: 1.1676 - val_accuracy: 0.5667\n",
      "Epoch 25/40\n",
      "480/480 [==============================] - 1s 3ms/sample - loss: 0.7528 - accuracy: 0.7167 - val_loss: 0.9953 - val_accuracy: 0.6333\n",
      "Epoch 26/40\n",
      "480/480 [==============================] - 1s 3ms/sample - loss: 0.6124 - accuracy: 0.7646 - val_loss: 1.0765 - val_accuracy: 0.6167\n",
      "Epoch 27/40\n",
      "480/480 [==============================] - 1s 3ms/sample - loss: 0.8398 - accuracy: 0.6729 - val_loss: 1.1174 - val_accuracy: 0.5917\n",
      "Epoch 28/40\n",
      "480/480 [==============================] - 1s 3ms/sample - loss: 0.6732 - accuracy: 0.7167 - val_loss: 1.4603 - val_accuracy: 0.5500\n",
      "Epoch 29/40\n",
      "480/480 [==============================] - 1s 3ms/sample - loss: 0.6008 - accuracy: 0.7750 - val_loss: 0.8064 - val_accuracy: 0.6750\n",
      "Epoch 30/40\n",
      "480/480 [==============================] - 1s 3ms/sample - loss: 0.4337 - accuracy: 0.8479 - val_loss: 0.8826 - val_accuracy: 0.6750\n",
      "Epoch 31/40\n",
      "480/480 [==============================] - 1s 3ms/sample - loss: 0.4036 - accuracy: 0.8562 - val_loss: 1.1389 - val_accuracy: 0.5750\n",
      "Epoch 32/40\n",
      "480/480 [==============================] - 1s 3ms/sample - loss: 0.5320 - accuracy: 0.7875 - val_loss: 0.9044 - val_accuracy: 0.6750\n",
      "Epoch 33/40\n",
      "480/480 [==============================] - 1s 3ms/sample - loss: 0.4866 - accuracy: 0.8062 - val_loss: 0.9349 - val_accuracy: 0.6667\n",
      "Epoch 34/40\n",
      "480/480 [==============================] - 1s 3ms/sample - loss: 0.4793 - accuracy: 0.8042 - val_loss: 1.2426 - val_accuracy: 0.6417\n",
      "Epoch 35/40\n",
      "480/480 [==============================] - 1s 3ms/sample - loss: 0.3156 - accuracy: 0.8875 - val_loss: 0.7759 - val_accuracy: 0.7250\n",
      "Epoch 36/40\n",
      "480/480 [==============================] - 1s 3ms/sample - loss: 0.3548 - accuracy: 0.8708 - val_loss: 0.9258 - val_accuracy: 0.6667\n",
      "Epoch 37/40\n",
      "480/480 [==============================] - 1s 3ms/sample - loss: 0.3317 - accuracy: 0.8625 - val_loss: 0.7882 - val_accuracy: 0.7417\n",
      "Epoch 38/40\n",
      "480/480 [==============================] - 1s 3ms/sample - loss: 0.4135 - accuracy: 0.8479 - val_loss: 1.7769 - val_accuracy: 0.5250\n",
      "Epoch 39/40\n",
      "480/480 [==============================] - 1s 3ms/sample - loss: 0.5547 - accuracy: 0.8021 - val_loss: 1.1695 - val_accuracy: 0.6250\n",
      "Epoch 40/40\n",
      "480/480 [==============================] - 1s 3ms/sample - loss: 0.2438 - accuracy: 0.9229 - val_loss: 1.0159 - val_accuracy: 0.7000\n"
     ]
    }
   ],
   "source": [
    "_epochs=40\n",
    "# Fitting our neural network\n",
    "history = model.fit(X_train,\n",
    "                    y_train, \n",
    "                    batch_size=16,\n",
    "                    validation_data=(X_test, y_test),\n",
    "                    epochs=_epochs)"
   ]
  },
  {
   "cell_type": "markdown",
   "metadata": {},
   "source": [
    "**Note:** After trying several different architectures, the best model (based on test accuracy) achieved a training score of 69% and a test score of 45%."
   ]
  },
  {
   "cell_type": "markdown",
   "metadata": {},
   "source": [
    "#### FFNN: Plot"
   ]
  },
  {
   "cell_type": "code",
   "execution_count": 15,
   "metadata": {},
   "outputs": [
    {
     "data": {
      "image/png": "[encoded data removed]",
      "text/plain": [
       "<Figure size 576x432 with 1 Axes>"
      ]
     },
     "metadata": {
      "needs_background": "light"
     },
     "output_type": "display_data"
    }
   ],
   "source": [
    "# The code in this cell was adapted from a lecture at General Assembly\n",
    "\n",
    "# Check out our train loss and test loss over epochs.\n",
    "train_loss = history.history['loss']\n",
    "test_loss = history.history['val_loss']\n",
    "\n",
    "# Set figure size.\n",
    "plt.figure(figsize=(8, 6))\n",
    "\n",
    "# Generate line plot of training, testing loss over epochs.\n",
    "plt.plot(train_loss, label='Training Loss', color='blue')\n",
    "plt.plot(test_loss, label='Testing Loss', color='red')\n",
    "\n",
    "# Set title\n",
    "plt.title('Training and Testing Loss by Epoch', fontsize = 20)\n",
    "plt.xlabel('Epoch', fontsize = 18)\n",
    "plt.ylabel('Categorical Crossentropy', fontsize = 18)\n",
    "plt.xticks(range(1,40), range(1,40))\n",
    "\n",
    "plt.legend(fontsize = 18);"
   ]
  },
  {
   "cell_type": "code",
   "execution_count": 16,
   "metadata": {},
   "outputs": [
    {
     "data": {
      "image/png": "[encoded data removed]",
      "text/plain": [
       "<Figure size 576x432 with 1 Axes>"
      ]
     },
     "metadata": {
      "needs_background": "light"
     },
     "output_type": "display_data"
    }
   ],
   "source": [
    "# The code in this cell was adapted from a lecture at General Assembly\n",
    "\n",
    "# Check out our train accuracy and test accuracy over epochs.\n",
    "train_loss = history.history['accuracy']\n",
    "test_loss = history.history['val_accuracy']\n",
    "\n",
    "# Set figure size.\n",
    "plt.figure(figsize=(8, 6))\n",
    "\n",
    "# Generate line plot of training, testing loss over epochs.\n",
    "plt.plot(train_loss, label='Training Accuracy', color='blue')\n",
    "plt.plot(test_loss, label='Testing Accuracy', color='red')\n",
    "\n",
    "# Set title\n",
    "plt.title('Training and Testing Accuracy by Epoch', fontsize = 20)\n",
    "plt.xlabel('Epoch', fontsize = 18)\n",
    "plt.ylabel('Accuracy', fontsize = 18)\n",
    "plt.xticks(range(1,40), range(1,40))\n",
    "\n",
    "plt.legend(fontsize = 18);"
   ]
  },
  {
   "cell_type": "code",
   "execution_count": 17,
   "metadata": {},
   "outputs": [],
   "source": [
    "# Making predictions from the cnn model\n",
    "fnn_predictions = model.predict(X_test, verbose=0)"
   ]
  },
  {
   "cell_type": "markdown",
   "metadata": {},
   "source": [
    "#### FFNN: F-Score"
   ]
  },
  {
   "cell_type": "code",
   "execution_count": 18,
   "metadata": {},
   "outputs": [
    {
     "name": "stdout",
     "output_type": "stream",
     "text": [
      "              precision    recall  f1-score   support\n",
      "\n",
      "   classical       1.00      0.65      0.79        20\n",
      "      hiphop       0.68      0.65      0.67        20\n",
      "        jazz       0.54      0.70      0.61        20\n",
      "       metal       0.79      0.95      0.86        20\n",
      "         pop       0.93      0.70      0.80        20\n",
      "        rock       0.48      0.55      0.51        20\n",
      "\n",
      "    accuracy                           0.70       120\n",
      "   macro avg       0.74      0.70      0.71       120\n",
      "weighted avg       0.74      0.70      0.71       120\n",
      "\n"
     ]
    }
   ],
   "source": [
    "# Making precision, recall, and f1-score\n",
    "#print(classification_report(y_test, fnn_predictions,target_names=label_dict))\n",
    "print(classification_report(np.argmax(y_test, 1), np.argmax(fnn_predictions, 1),target_names=label_dict))\n"
   ]
  },
  {
   "cell_type": "markdown",
   "metadata": {},
   "source": [
    "## 3. Convolutional Neural Network (CNN\n",
    "\n",
    "As suspected, the CNN model did much better! The best CNN model (based on test score accuracy) achieved a score of 68%. That’s not too shabby, especially considering the difficulty of the problem, but it still isn’t great. The training score was 84%, so the model was overfit. This means that it was tuning really well to the training data and not generalizing as well to new data. Even so, it’s certainly learning."
   ]
  },
  {
   "cell_type": "markdown",
   "metadata": {},
   "source": [
    "#### CNN: Model"
   ]
  },
  {
   "cell_type": "code",
   "execution_count": 19,
   "metadata": {},
   "outputs": [],
   "source": [
    "# Initializing a random seed for replication purposes\n",
    "np.random.seed(23456)\n",
    "tf.random.set_seed(123)\n",
    "\n",
    "# Initiating an empty neural network\n",
    "cnn_model = Sequential(name='cnn_1')\n",
    "\n",
    "# Adding convolutional layer\n",
    "# https://www.programcreek.com/python/example/89658/keras.layers.Conv2D  ( EXAMPLE 15)\n",
    "# https://www.programcreek.com/python/example/89662/keras.layers.Convolution2D\n",
    "\n",
    "cnn_model.add(Conv2D(filters=16,\n",
    "                     kernel_size=(3,3),\n",
    "                     activation='relu',\n",
    "                     input_shape=(128,660,1)))\n",
    "\n",
    "# Adding max pooling layer\n",
    "cnn_model.add(MaxPooling2D(pool_size=(2,4)))\n",
    "\n",
    "# Adding convolutional layer\n",
    "cnn_model.add(Conv2D(filters=32,\n",
    "                     kernel_size=(3,3),\n",
    "                     activation='relu'))\n",
    "\n",
    "# Adding max pooling layer\n",
    "cnn_model.add(MaxPooling2D(pool_size=(2,4)))\n",
    "\n",
    "# Adding a flattened layer to input our image data\n",
    "cnn_model.add(Flatten())\n",
    "\n",
    "# Adding a dense layer with 64 neurons\n",
    "cnn_model.add(Dense(64, activation='relu'))\n",
    "\n",
    "# Adding a dropout layer for regularization\n",
    "cnn_model.add(Dropout(0.25))\n",
    "\n",
    "# Adding an output layer\n",
    "cnn_model.add(Dense(10, activation='softmax'))\n",
    "\n",
    "# Compiling our neural network\n",
    "cnn_model.compile(loss='categorical_crossentropy',\n",
    "                  optimizer='adam',\n",
    "                  metrics=['accuracy'])\n"
   ]
  },
  {
   "cell_type": "code",
   "execution_count": 20,
   "metadata": {},
   "outputs": [
    {
     "name": "stdout",
     "output_type": "stream",
     "text": [
      "Model: \"cnn_1\"\n",
      "_________________________________________________________________\n",
      "Layer (type)                 Output Shape              Param #   \n",
      "=================================================================\n",
      "conv2d (Conv2D)              (None, 126, 658, 16)      160       \n",
      "_________________________________________________________________\n",
      "max_pooling2d (MaxPooling2D) (None, 63, 164, 16)       0         \n",
      "_________________________________________________________________\n",
      "conv2d_1 (Conv2D)            (None, 61, 162, 32)       4640      \n",
      "_________________________________________________________________\n",
      "max_pooling2d_1 (MaxPooling2 (None, 30, 40, 32)        0         \n",
      "_________________________________________________________________\n",
      "flatten_1 (Flatten)          (None, 38400)             0         \n",
      "_________________________________________________________________\n",
      "dense_4 (Dense)              (None, 64)                2457664   \n",
      "_________________________________________________________________\n",
      "dropout (Dropout)            (None, 64)                0         \n",
      "_________________________________________________________________\n",
      "dense_5 (Dense)              (None, 10)                650       \n",
      "=================================================================\n",
      "Total params: 2,463,114\n",
      "Trainable params: 2,463,114\n",
      "Non-trainable params: 0\n",
      "_________________________________________________________________\n"
     ]
    }
   ],
   "source": [
    "# Checking the model summary\n",
    "cnn_model.summary()"
   ]
  },
  {
   "cell_type": "markdown",
   "metadata": {},
   "source": [
    "#### CNN: Train"
   ]
  },
  {
   "cell_type": "code",
   "execution_count": null,
   "metadata": {},
   "outputs": [
    {
     "name": "stdout",
     "output_type": "stream",
     "text": [
      "Train on 480 samples, validate on 120 samples\n",
      "Epoch 1/25\n",
      "480/480 [==============================] - 9s 19ms/sample - loss: 2.1404 - accuracy: 0.1750 - val_loss: 1.8895 - val_accuracy: 0.1667\n",
      "Epoch 2/25\n",
      "480/480 [==============================] - 8s 17ms/sample - loss: 1.8869 - accuracy: 0.2167 - val_loss: 1.6465 - val_accuracy: 0.1667\n",
      "Epoch 3/25\n",
      "480/480 [==============================] - 8s 17ms/sample - loss: 1.6235 - accuracy: 0.3604 - val_loss: 1.3456 - val_accuracy: 0.4667\n",
      "Epoch 4/25\n",
      "480/480 [==============================] - 8s 18ms/sample - loss: 1.3849 - accuracy: 0.4604 - val_loss: 1.1526 - val_accuracy: 0.4833\n",
      "Epoch 5/25\n",
      "480/480 [==============================] - 8s 17ms/sample - loss: 1.1646 - accuracy: 0.5271 - val_loss: 1.0453 - val_accuracy: 0.5333\n",
      "Epoch 6/25\n",
      "480/480 [==============================] - 8s 17ms/sample - loss: 0.9592 - accuracy: 0.6167 - val_loss: 0.8037 - val_accuracy: 0.7500\n",
      "Epoch 7/25\n",
      "480/480 [==============================] - 8s 18ms/sample - loss: 0.8335 - accuracy: 0.6875 - val_loss: 0.6926 - val_accuracy: 0.7083\n",
      "Epoch 8/25\n",
      "480/480 [==============================] - 8s 17ms/sample - loss: 0.7413 - accuracy: 0.7063 - val_loss: 0.6384 - val_accuracy: 0.7750\n",
      "Epoch 9/25\n",
      "480/480 [==============================] - 8s 17ms/sample - loss: 0.6775 - accuracy: 0.7646 - val_loss: 0.6100 - val_accuracy: 0.8083\n",
      "Epoch 10/25\n",
      "480/480 [==============================] - 8s 17ms/sample - loss: 0.5806 - accuracy: 0.7896 - val_loss: 0.5393 - val_accuracy: 0.7833\n",
      "Epoch 11/25\n",
      "480/480 [==============================] - 8s 18ms/sample - loss: 0.6281 - accuracy: 0.7479 - val_loss: 0.5838 - val_accuracy: 0.8083\n",
      "Epoch 12/25\n",
      "480/480 [==============================] - 9s 18ms/sample - loss: 0.5132 - accuracy: 0.8208 - val_loss: 0.4926 - val_accuracy: 0.8333\n",
      "Epoch 13/25\n",
      "480/480 [==============================] - 9s 18ms/sample - loss: 0.4548 - accuracy: 0.8396 - val_loss: 0.4851 - val_accuracy: 0.8250\n",
      "Epoch 14/25\n",
      "480/480 [==============================] - 8s 18ms/sample - loss: 0.3952 - accuracy: 0.8542 - val_loss: 0.5686 - val_accuracy: 0.8000\n",
      "Epoch 15/25\n",
      "480/480 [==============================] - 8s 18ms/sample - loss: 0.3567 - accuracy: 0.8667 - val_loss: 0.5842 - val_accuracy: 0.7667\n"
     ]
    }
   ],
   "source": [
    "# Fitting our neural network\n",
    "_epochs=25\n",
    "history = cnn_model.fit(X_train,\n",
    "                        y_train, \n",
    "                        batch_size=16,\n",
    "                        validation_data=(X_test, y_test),\n",
    "                        epochs=_epochs)"
   ]
  },
  {
   "cell_type": "markdown",
   "metadata": {},
   "source": [
    "#### CNN: Plot"
   ]
  },
  {
   "cell_type": "code",
   "execution_count": null,
   "metadata": {
    "scrolled": true
   },
   "outputs": [],
   "source": [
    "# The code in this cell was adapted from a lecture at General Assembly\n",
    "\n",
    "# Check out our train loss and test loss over epochs.\n",
    "train_loss = history.history['loss']\n",
    "test_loss = history.history['val_loss']\n",
    "\n",
    "# Set figure size.\n",
    "plt.figure(figsize=(8, 6))\n",
    "\n",
    "# Generate line plot of training, testing loss over epochs.\n",
    "plt.plot(train_loss, label='Training Loss', color='blue')\n",
    "plt.plot(test_loss, label='Testing Loss', color='red')\n",
    "\n",
    "# Set title\n",
    "plt.title('Training and Testing Loss by Epoch', fontsize = 18)\n",
    "plt.xlabel('Epoch', fontsize = 14)\n",
    "plt.ylabel('Categorical Crossentropy', fontsize = 14)\n",
    "plt.xticks(range(1,16), range(1,16))\n",
    "\n",
    "plt.legend(fontsize = 14);"
   ]
  },
  {
   "cell_type": "code",
   "execution_count": null,
   "metadata": {
    "scrolled": false
   },
   "outputs": [],
   "source": [
    "# The code in this cell was adapted from a lecture at General Assembly\n",
    "\n",
    "# Check out our train accuracy and test accuracy over epochs.\n",
    "train_loss = history.history['accuracy']\n",
    "test_loss = history.history['val_accuracy']\n",
    "\n",
    "# Set figure size.\n",
    "plt.figure(figsize=(8, 6))\n",
    "\n",
    "# Generate line plot of training, testing loss over epochs.\n",
    "plt.plot(train_loss, label='Training Accuracy', color='blue')\n",
    "plt.plot(test_loss, label='Testing Accuracy', color='red')\n",
    "\n",
    "# Set title\n",
    "plt.title('Training and Testing Accuracy by Epoch', fontsize = 20)\n",
    "plt.xlabel('Epoch', fontsize = 18)\n",
    "plt.ylabel('Accuracy', fontsize = 18)\n",
    "plt.xticks(range(1,16), range(1,16))\n",
    "\n",
    "plt.legend(fontsize = 18);"
   ]
  },
  {
   "cell_type": "markdown",
   "metadata": {},
   "source": [
    "**Note:** Most of the models I ran became increasingly overfit after about 15-20 epochs, so increasing the number of epochs would likely not improve the model."
   ]
  },
  {
   "cell_type": "code",
   "execution_count": null,
   "metadata": {},
   "outputs": [],
   "source": [
    "# Making predictions from the cnn model\n",
    "predictions = cnn_model.predict(X_test, verbose=0)"
   ]
  },
  {
   "cell_type": "markdown",
   "metadata": {},
   "source": [
    "#### CNN: Confusion Matrix\n",
    "To look deeper into what was happening with the model, I computed a confusion matrix to visualize the model's predictions against the actual values.\n",
    "\n",
    "**Note:** since the confusion matrix function from sklearn does not return the labels for predicted values and actual values, I checked how many predicted and actual values there were for each genre to be able to figure it out."
   ]
  },
  {
   "cell_type": "code",
   "execution_count": null,
   "metadata": {},
   "outputs": [],
   "source": [
    "# Checking the number of targets per class\n",
    "for i in range(6): \n",
    "    print(f'{i}: {sum([1 for target in y_test if target[i] == 1])}')"
   ]
  },
  {
   "cell_type": "code",
   "execution_count": null,
   "metadata": {
    "scrolled": true
   },
   "outputs": [],
   "source": [
    "# Checking the number of predicted values in each class\n",
    "for i in range(6): \n",
    "    print(f'{i}: {sum([1 for prediction in predictions if np.argmax(prediction) == i])}')"
   ]
  },
  {
   "cell_type": "code",
   "execution_count": null,
   "metadata": {},
   "outputs": [],
   "source": [
    "# Calculating the confusion matrix \n",
    "# row: actual\n",
    "# columns: predicted\n",
    "conf_matrix = confusion_matrix(np.argmax(y_test, 1), np.argmax(predictions, 1))\n",
    "conf_matrix"
   ]
  },
  {
   "cell_type": "code",
   "execution_count": null,
   "metadata": {
    "scrolled": true
   },
   "outputs": [],
   "source": [
    "# Creating a dataframe of the confusion matrix with labels for readability \n",
    "confusion_df = pd.DataFrame(conf_matrix)\n",
    "confusion_df"
   ]
  },
  {
   "cell_type": "code",
   "execution_count": null,
   "metadata": {},
   "outputs": [],
   "source": [
    "# Renaming rows and columns with labels\n",
    "confusion_df = confusion_df.rename(columns=label_dict)\n",
    "confusion_df.index = confusion_df.columns\n",
    "confusion_df"
   ]
  },
  {
   "cell_type": "code",
   "execution_count": null,
   "metadata": {
    "scrolled": false
   },
   "outputs": [],
   "source": [
    "# Creating a heatmap for the confusion matrix for display\n",
    "plt.figure(figsize= (8,6))\n",
    "sns.set(font_scale = 2);\n",
    "ax = sns.heatmap(confusion_df,   annot=True, cmap=\"YlGnBu\");\n",
    "ax.set(xlabel='Predicted Values', ylabel='Actual Values');"
   ]
  },
  {
   "cell_type": "code",
   "execution_count": null,
   "metadata": {},
   "outputs": [],
   "source": [
    "import itertools\n",
    "# Helper to plot confusion matrix -- from Scikit-learn website\n",
    "def plot_confusion_matrix_02(cm, classes,\n",
    "                          normalize=False,\n",
    "                          title='Confusion matrix',\n",
    "                          cmap=plt.cm.Blues):\n",
    "    \"\"\"\n",
    "    This function prints and plots the confusion matrix.\n",
    "    Normalization can be applied by setting `normalize=True`.\n",
    "    \"\"\"\n",
    "    if normalize:\n",
    "        cm = cm.astype('float') / cm.sum(axis=1)[:, np.newaxis]\n",
    "\n",
    "    plt.figure(figsize= (10, 8))\n",
    "    plt.imshow(cm, interpolation='nearest', cmap=cmap)\n",
    "    plt.title(title)\n",
    "    plt.colorbar()\n",
    "    \n",
    "    tick_marks = np.arange(len(classes))\n",
    "    plt.xticks(tick_marks, classes, rotation=45)\n",
    "    plt.yticks(tick_marks, classes)\n",
    "\n",
    "    fmt = '.2f' if normalize else 'd'\n",
    "    thresh = cm.max() / 2.\n",
    "    for i, j in itertools.product(range(cm.shape[0]), range(cm.shape[1])):\n",
    "        plt.text(j, i, format(cm[i, j], fmt),\n",
    "                 horizontalalignment=\"center\",\n",
    "                 color=\"white\" if cm[i, j] > thresh else \"black\")\n",
    "\n",
    "    plt.ylabel('True label')\n",
    "    plt.xlabel('Predicted label')\n",
    "    plt.show()\n",
    "    \n",
    "plot_confusion_matrix_02(conf_matrix, label_dict, normalize=True, title=\"Confusion matrix for classification (CNN) - Normalization\")"
   ]
  },
  {
   "cell_type": "markdown",
   "metadata": {},
   "source": [
    "#### CNN: F1-Score"
   ]
  },
  {
   "cell_type": "code",
   "execution_count": null,
   "metadata": {},
   "outputs": [],
   "source": [
    "# Making precision, recall, and f1-score\n",
    "print(classification_report(np.argmax(y_test, 1), np.argmax(predictions, 1),target_names=label_dict))"
   ]
  },
  {
   "cell_type": "markdown",
   "metadata": {},
   "source": [
    "## 4. Conclusion\n",
    "\n",
    "I tried several different architectures to improve the F1-score of 6 genres. From my experiment, I could get F1-score until 83% with my CNN model. Most of the models became increasingly overfit after about 15-20 epochs, so increasing the number of epochs likely would not improve the model.\n",
    "\n"
   ]
  },
  {
   "cell_type": "code",
   "execution_count": null,
   "metadata": {},
   "outputs": [],
   "source": [
    "print (\"The tasks (FFNN and CNN) is successfully completed.\")"
   ]
  },
  {
   "cell_type": "code",
   "execution_count": null,
   "metadata": {},
   "outputs": [],
   "source": []
  }
 ],
 "metadata": {
  "kernelspec": {
   "display_name": "Python 3",
   "language": "python",
   "name": "python3"
  },
  "language_info": {
   "codemirror_mode": {
    "name": "ipython",
    "version": 3
   },
   "file_extension": ".py",
   "mimetype": "text/x-python",
   "name": "python",
   "nbconvert_exporter": "python",
   "pygments_lexer": "ipython3",
   "version": "3.7.7"
  }
 },
 "nbformat": 4,
 "nbformat_minor": 2
}
