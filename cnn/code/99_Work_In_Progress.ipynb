{
 "cells": [
  {
   "cell_type": "markdown",
   "metadata": {},
   "source": [
    "# Modeling with Numeric Features\n",
    "\n",
    "#### Important Note!\n",
    "This notebook was temporarily put to the side because I decided to use a CNN with the mel specgrograms as features instead. I would like to return to this notebook on a later date and do some more research on numeric features to see how well they do."
   ]
  },
  {
   "cell_type": "code",
   "execution_count": 1,
   "metadata": {},
   "outputs": [],
   "source": [
    "# Imports\n",
    "import pandas as pd\n",
    "from sklearn.model_selection import train_test_split\n",
    "from sklearn.preprocessing import StandardScaler\n",
    "from sklearn.svm import SVC\n",
    "from sklearn.ensemble import RandomForestClassifier"
   ]
  },
  {
   "cell_type": "code",
   "execution_count": 2,
   "metadata": {},
   "outputs": [],
   "source": [
    "# Reading in the data\n",
    "genre = pd.read_csv('../data/genre_clean.csv')"
   ]
  },
  {
   "cell_type": "code",
   "execution_count": 3,
   "metadata": {},
   "outputs": [
    {
     "data": {
      "text/html": [
       "<div>\n",
       "<style scoped>\n",
       "    .dataframe tbody tr th:only-of-type {\n",
       "        vertical-align: middle;\n",
       "    }\n",
       "\n",
       "    .dataframe tbody tr th {\n",
       "        vertical-align: top;\n",
       "    }\n",
       "\n",
       "    .dataframe thead th {\n",
       "        text-align: right;\n",
       "    }\n",
       "</style>\n",
       "<table border=\"1\" class=\"dataframe\">\n",
       "  <thead>\n",
       "    <tr style=\"text-align: right;\">\n",
       "      <th></th>\n",
       "      <th>files</th>\n",
       "      <th>zero_crossing_rate</th>\n",
       "      <th>spectral_centroid</th>\n",
       "      <th>spectral_rolloff</th>\n",
       "      <th>mfcc_1</th>\n",
       "      <th>mfcc_2</th>\n",
       "      <th>mfcc_3</th>\n",
       "      <th>mfcc_4</th>\n",
       "      <th>mfcc_5</th>\n",
       "      <th>mfcc_6</th>\n",
       "      <th>mfcc_7</th>\n",
       "      <th>mfcc_8</th>\n",
       "      <th>mfcc_9</th>\n",
       "      <th>mfcc_10</th>\n",
       "      <th>mfcc_11</th>\n",
       "      <th>mfcc_12</th>\n",
       "      <th>mfcc_13</th>\n",
       "      <th>labels</th>\n",
       "      <th>y</th>\n",
       "    </tr>\n",
       "  </thead>\n",
       "  <tbody>\n",
       "    <tr>\n",
       "      <th>0</th>\n",
       "      <td>reggae.00080.wav</td>\n",
       "      <td>0.094298</td>\n",
       "      <td>2539.121009</td>\n",
       "      <td>5260.771360</td>\n",
       "      <td>-103.136673</td>\n",
       "      <td>67.205032</td>\n",
       "      <td>2.212647</td>\n",
       "      <td>28.504496</td>\n",
       "      <td>4.172197</td>\n",
       "      <td>11.874951</td>\n",
       "      <td>14.244764</td>\n",
       "      <td>14.292829</td>\n",
       "      <td>3.261752</td>\n",
       "      <td>15.854269</td>\n",
       "      <td>8.042967</td>\n",
       "      <td>4.469097</td>\n",
       "      <td>8.679431</td>\n",
       "      <td>reggae</td>\n",
       "      <td>9</td>\n",
       "    </tr>\n",
       "    <tr>\n",
       "      <th>1</th>\n",
       "      <td>jazz.00016.wav</td>\n",
       "      <td>0.069845</td>\n",
       "      <td>1465.857446</td>\n",
       "      <td>2822.406728</td>\n",
       "      <td>-259.876740</td>\n",
       "      <td>123.187164</td>\n",
       "      <td>-6.390842</td>\n",
       "      <td>37.570335</td>\n",
       "      <td>-2.977656</td>\n",
       "      <td>13.057896</td>\n",
       "      <td>-14.083035</td>\n",
       "      <td>5.310007</td>\n",
       "      <td>-11.961549</td>\n",
       "      <td>3.524627</td>\n",
       "      <td>-9.633516</td>\n",
       "      <td>5.333287</td>\n",
       "      <td>-7.843499</td>\n",
       "      <td>jazz</td>\n",
       "      <td>6</td>\n",
       "    </tr>\n",
       "    <tr>\n",
       "      <th>2</th>\n",
       "      <td>disco.00052.wav</td>\n",
       "      <td>0.169775</td>\n",
       "      <td>2590.650686</td>\n",
       "      <td>5060.527559</td>\n",
       "      <td>-70.502701</td>\n",
       "      <td>90.517845</td>\n",
       "      <td>-48.066078</td>\n",
       "      <td>36.687813</td>\n",
       "      <td>-17.691069</td>\n",
       "      <td>21.595446</td>\n",
       "      <td>-30.198866</td>\n",
       "      <td>24.046898</td>\n",
       "      <td>-20.459778</td>\n",
       "      <td>14.487847</td>\n",
       "      <td>-18.499725</td>\n",
       "      <td>9.128921</td>\n",
       "      <td>-12.056172</td>\n",
       "      <td>disco</td>\n",
       "      <td>4</td>\n",
       "    </tr>\n",
       "    <tr>\n",
       "      <th>3</th>\n",
       "      <td>jazz.00002.wav</td>\n",
       "      <td>0.057857</td>\n",
       "      <td>1064.668667</td>\n",
       "      <td>1895.729578</td>\n",
       "      <td>-256.959015</td>\n",
       "      <td>175.358765</td>\n",
       "      <td>-44.822285</td>\n",
       "      <td>25.650620</td>\n",
       "      <td>-4.255735</td>\n",
       "      <td>-0.222764</td>\n",
       "      <td>-11.312749</td>\n",
       "      <td>-9.189112</td>\n",
       "      <td>-4.095360</td>\n",
       "      <td>-8.308260</td>\n",
       "      <td>-22.548216</td>\n",
       "      <td>-7.608586</td>\n",
       "      <td>-7.651291</td>\n",
       "      <td>jazz</td>\n",
       "      <td>6</td>\n",
       "    </tr>\n",
       "    <tr>\n",
       "      <th>4</th>\n",
       "      <td>disco.00046.wav</td>\n",
       "      <td>0.114198</td>\n",
       "      <td>2259.565542</td>\n",
       "      <td>4889.552594</td>\n",
       "      <td>-125.681534</td>\n",
       "      <td>101.784462</td>\n",
       "      <td>-17.478100</td>\n",
       "      <td>33.672756</td>\n",
       "      <td>-15.236323</td>\n",
       "      <td>23.703140</td>\n",
       "      <td>-8.659072</td>\n",
       "      <td>18.544029</td>\n",
       "      <td>-14.054308</td>\n",
       "      <td>19.970242</td>\n",
       "      <td>-15.139117</td>\n",
       "      <td>12.969249</td>\n",
       "      <td>-14.306309</td>\n",
       "      <td>disco</td>\n",
       "      <td>4</td>\n",
       "    </tr>\n",
       "  </tbody>\n",
       "</table>\n",
       "</div>"
      ],
      "text/plain": [
       "              files  zero_crossing_rate  spectral_centroid  spectral_rolloff  \\\n",
       "0  reggae.00080.wav            0.094298        2539.121009       5260.771360   \n",
       "1    jazz.00016.wav            0.069845        1465.857446       2822.406728   \n",
       "2   disco.00052.wav            0.169775        2590.650686       5060.527559   \n",
       "3    jazz.00002.wav            0.057857        1064.668667       1895.729578   \n",
       "4   disco.00046.wav            0.114198        2259.565542       4889.552594   \n",
       "\n",
       "       mfcc_1      mfcc_2     mfcc_3     mfcc_4     mfcc_5     mfcc_6  \\\n",
       "0 -103.136673   67.205032   2.212647  28.504496   4.172197  11.874951   \n",
       "1 -259.876740  123.187164  -6.390842  37.570335  -2.977656  13.057896   \n",
       "2  -70.502701   90.517845 -48.066078  36.687813 -17.691069  21.595446   \n",
       "3 -256.959015  175.358765 -44.822285  25.650620  -4.255735  -0.222764   \n",
       "4 -125.681534  101.784462 -17.478100  33.672756 -15.236323  23.703140   \n",
       "\n",
       "      mfcc_7     mfcc_8     mfcc_9    mfcc_10    mfcc_11    mfcc_12  \\\n",
       "0  14.244764  14.292829   3.261752  15.854269   8.042967   4.469097   \n",
       "1 -14.083035   5.310007 -11.961549   3.524627  -9.633516   5.333287   \n",
       "2 -30.198866  24.046898 -20.459778  14.487847 -18.499725   9.128921   \n",
       "3 -11.312749  -9.189112  -4.095360  -8.308260 -22.548216  -7.608586   \n",
       "4  -8.659072  18.544029 -14.054308  19.970242 -15.139117  12.969249   \n",
       "\n",
       "     mfcc_13  labels  y  \n",
       "0   8.679431  reggae  9  \n",
       "1  -7.843499    jazz  6  \n",
       "2 -12.056172   disco  4  \n",
       "3  -7.651291    jazz  6  \n",
       "4 -14.306309   disco  4  "
      ]
     },
     "execution_count": 3,
     "metadata": {},
     "output_type": "execute_result"
    }
   ],
   "source": [
    "# First five rows of the data for reference\n",
    "genre.head()"
   ]
  },
  {
   "cell_type": "code",
   "execution_count": 10,
   "metadata": {},
   "outputs": [],
   "source": [
    "# Defining our features and predictor variable\n",
    "X = genre.drop(['files', 'labels', 'y'], axis=1)\n",
    "y = genre['y']"
   ]
  },
  {
   "cell_type": "code",
   "execution_count": 11,
   "metadata": {},
   "outputs": [
    {
     "data": {
      "text/plain": [
       "10    0.1\n",
       "9     0.1\n",
       "8     0.1\n",
       "7     0.1\n",
       "6     0.1\n",
       "5     0.1\n",
       "4     0.1\n",
       "3     0.1\n",
       "2     0.1\n",
       "1     0.1\n",
       "Name: y, dtype: float64"
      ]
     },
     "execution_count": 11,
     "metadata": {},
     "output_type": "execute_result"
    }
   ],
   "source": [
    "# Getting our baseline accuracy\n",
    "y.value_counts(normalize=True)"
   ]
  },
  {
   "cell_type": "code",
   "execution_count": 12,
   "metadata": {},
   "outputs": [],
   "source": [
    "# Train test split\n",
    "X_train, X_test, y_train, y_test = train_test_split(X, y, random_state=42, stratify=y)"
   ]
  },
  {
   "cell_type": "code",
   "execution_count": 7,
   "metadata": {},
   "outputs": [],
   "source": [
    "# Scaling the features\n",
    "ss = StandardScaler()\n",
    "X_train_sc = ss.fit_transform(X_train)\n",
    "X_test_sc = ss.transform(X_test)"
   ]
  },
  {
   "cell_type": "markdown",
   "metadata": {},
   "source": [
    "## Support Vector Machine"
   ]
  },
  {
   "cell_type": "code",
   "execution_count": 8,
   "metadata": {},
   "outputs": [
    {
     "data": {
      "text/plain": [
       "SVC(C=1.0, break_ties=False, cache_size=200, class_weight=None, coef0=0.0,\n",
       "    decision_function_shape='ovr', degree=3, gamma='scale', kernel='rbf',\n",
       "    max_iter=-1, probability=False, random_state=None, shrinking=True,\n",
       "    tol=0.001, verbose=False)"
      ]
     },
     "execution_count": 8,
     "metadata": {},
     "output_type": "execute_result"
    }
   ],
   "source": [
    "# Instantiating and fitting a basic svc model\n",
    "svc = SVC()\n",
    "svc.fit(X_train_sc, y_train)"
   ]
  },
  {
   "cell_type": "code",
   "execution_count": 9,
   "metadata": {},
   "outputs": [
    {
     "name": "stdout",
     "output_type": "stream",
     "text": [
      "Score on the training set: 0.7146666666666667\n",
      "Score on the test set: 0.604\n"
     ]
    }
   ],
   "source": [
    "# Checking the accuracy\n",
    "print(f'Score on the training set: {svc.score(X_train_sc, y_train)}')\n",
    "print(f'Score on the test set: {svc.score(X_test_sc, y_test)}')"
   ]
  },
  {
   "cell_type": "markdown",
   "metadata": {},
   "source": [
    "## Random Forest"
   ]
  },
  {
   "cell_type": "code",
   "execution_count": 25,
   "metadata": {},
   "outputs": [
    {
     "data": {
      "text/plain": [
       "RandomForestClassifier(bootstrap=True, ccp_alpha=0.0, class_weight=None,\n",
       "                       criterion='gini', max_depth=None, max_features='auto',\n",
       "                       max_leaf_nodes=None, max_samples=None,\n",
       "                       min_impurity_decrease=0.0, min_impurity_split=None,\n",
       "                       min_samples_leaf=1, min_samples_split=2,\n",
       "                       min_weight_fraction_leaf=0.0, n_estimators=100,\n",
       "                       n_jobs=None, oob_score=False, random_state=None,\n",
       "                       verbose=0, warm_start=False)"
      ]
     },
     "execution_count": 25,
     "metadata": {},
     "output_type": "execute_result"
    }
   ],
   "source": [
    "# Instantiating and fitting a basic random forest model\n",
    "rf = RandomForestClassifier()\n",
    "rf.fit(X_train, y_train)"
   ]
  },
  {
   "cell_type": "code",
   "execution_count": 27,
   "metadata": {},
   "outputs": [
    {
     "name": "stdout",
     "output_type": "stream",
     "text": [
      "Score on the training set: 0.9986666666666667\n",
      "Score on the test set: 0.608\n"
     ]
    }
   ],
   "source": [
    "# Checking the accuracy\n",
    "print(f'Score on the training set: {rf.score(X_train, y_train)}')\n",
    "print(f'Score on the test set: {rf.score(X_test, y_test)}')"
   ]
  },
  {
   "cell_type": "code",
   "execution_count": null,
   "metadata": {},
   "outputs": [],
   "source": []
  }
 ],
 "metadata": {
  "kernelspec": {
   "display_name": "Python 3",
   "language": "python",
   "name": "python3"
  },
  "language_info": {
   "codemirror_mode": {
    "name": "ipython",
    "version": 3
   },
   "file_extension": ".py",
   "mimetype": "text/x-python",
   "name": "python",
   "nbconvert_exporter": "python",
   "pygments_lexer": "ipython3",
   "version": "3.7.4"
  }
 },
 "nbformat": 4,
 "nbformat_minor": 2
}
