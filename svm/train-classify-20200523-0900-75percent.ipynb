{
 "cells": [
  {
   "cell_type": "markdown",
   "metadata": {},
   "source": [
    "### Script reads from fft and mfcc files and trains using logistic regression and knn\n",
    "* Author: Geunsik Lim <leemgs@gmail.com> \n",
    "* Evaluation Environment: Ubuntu 18.04 , Anaconda3 (202002), Python 2.7\n",
    "* IN: Paths to directories consisting of FFT files, and MFCC files.\n",
    "* OUT: Splits dataset as per code into train and test sets, performs training and tests. Displays classification accuracy along with confusion matrix.\n"
   ]
  },
  {
   "cell_type": "code",
   "execution_count": 1,
   "metadata": {},
   "outputs": [],
   "source": [
    "import sklearn \n",
    "from sklearn import linear_model\n",
    "from sklearn.neighbors import KNeighborsClassifier\n",
    "# from sklearn.cross_validation import train_test_split\n",
    "from sklearn.model_selection import train_test_split\n",
    "from sklearn.metrics import confusion_matrix\n",
    "from sklearn.metrics import classification_report\n",
    "from sklearn.metrics import accuracy_score\n",
    "from sklearn.pipeline import Pipeline\n",
    "from sklearn.preprocessing import StandardScaler\n",
    "from sklearn.feature_selection import VarianceThreshold\n",
    "from sklearn.feature_selection import SelectFromModel\n",
    "import lightgbm as lgbm\n",
    "from sklearn.svm import SVC\n",
    "from sklearn.model_selection import GridSearchCV\n",
    "\n",
    "import matplotlib.pyplot as plt\n",
    "import scipy\n",
    "import os\n",
    "import sys\n",
    "import glob\n",
    "import numpy as np\n",
    "\n"
   ]
  },
  {
   "cell_type": "markdown",
   "metadata": {},
   "source": [
    "Reads FFT-files and prepares X_train and y_train. genre_list must consist of names of folders/genres consisting of the required FFT-files. base_dir must contain genre_list of directories"
   ]
  },
  {
   "cell_type": "code",
   "execution_count": 2,
   "metadata": {},
   "outputs": [],
   "source": [
    "\n",
    "def read_fft(genre_list, base_dir):\n",
    "\tX = []\n",
    "\ty = []\n",
    "\tfor label, genre in enumerate(genre_list):\n",
    "\t\t# create UNIX pathnames to id FFT-files.\n",
    "\t\tgenre_dir = os.path.join(base_dir, genre, \"*.fft.npy\")\n",
    "\t\t# get path names that math genre-dir\n",
    "\t\tfile_list = glob.glob(genre_dir)\n",
    "\t\tfor file in file_list:\n",
    "\t\t\tfft_features = np.load(file)\n",
    "\t\t\tX.append(fft_features)\n",
    "\t\t\ty.append(label)\n",
    "\t\n",
    "\t# print(X)\n",
    "\t# print(y)\n",
    "\t# print(len(X))\n",
    "\t# print(len(y))\n",
    "\n",
    "\treturn np.array(X), np.array(y)\n"
   ]
  },
  {
   "cell_type": "markdown",
   "metadata": {},
   "source": [
    "Rreads MFCC-files and prepares X_train and y_train.\n",
    "genre_list must consist of names of folders/genres consisting of the required MFCC-files\n",
    "base_dir must contain genre_list of directories"
   ]
  },
  {
   "cell_type": "code",
   "execution_count": 3,
   "metadata": {},
   "outputs": [],
   "source": [
    "\n",
    "def read_ceps(genre_list, base_dir):\n",
    "\tX, y = [], []\n",
    "\tfor label, genre in enumerate(genre_list):\n",
    "\t\tfor fn in glob.glob(os.path.join(base_dir, genre, \"*.ceps.npy\")):\n",
    "\t\t\tceps = np.load(fn)\n",
    "\t\t\tnum_ceps = len(ceps)\n",
    "\t\t\tX.append(np.mean(ceps[int(num_ceps*1/10):int(num_ceps*9/10)], axis=0))\n",
    "\t\t\ty.append(label)\n",
    "\t\n",
    "\treturn np.array(X), np.array(y)"
   ]
  },
  {
   "cell_type": "code",
   "execution_count": 4,
   "metadata": {},
   "outputs": [],
   "source": [
    "def train_score(classifier, Xtrain, Xtest, ytrain, ytest):\n",
    "        train_acc = classifier.score(Xtrain, ytrain)\n",
    "        test_acc = classifier.score(Xtest, ytest)\n",
    "        print(\"Training Data Accuracy: %0.2f\" % (train_acc))\n",
    "        print(\"Test Data Accuracy:     %0.2f\" % (test_acc))\n",
    "        ypred = classifier.predict(Xtest)\n",
    "        conf = confusion_matrix(ytest, ypred)\n",
    "        precision = (conf[0, 0] / (conf[0, 0] + conf[1, 0]))\n",
    "        recall = (conf[0, 0] / (conf[0, 0] + conf[0, 1]))\n",
    "        f1_score = 2 * ((precision * recall)/(precision + recall))\n",
    "        print(\"Precision:              %0.2f\" % precision)\n",
    "        print(\"Recall:                 %0.2f\" % recall)\n",
    "        print(\"F1 Score:                 %0.2f\" % f1_score)\n",
    "        print('\\n')\n"
   ]
  },
  {
   "cell_type": "code",
   "execution_count": 5,
   "metadata": {},
   "outputs": [],
   "source": [
    "def plot_confusion_matrix(cm, title, genre_list, cmap=plt.cm.Blues):\n",
    "        plt.imshow(cm, interpolation='nearest', cmap=cmap)\n",
    "        plt.title(title)\n",
    "        plt.colorbar()\n",
    "        tick_marks = np.arange(len(genre_list))\n",
    "        plt.xticks(tick_marks, genre_list, rotation=45)\n",
    "        plt.yticks(tick_marks, genre_list)\n",
    "        plt.tight_layout()\n",
    "        plt.ylabel('True label')\n",
    "        plt.xlabel('Predicted label')\n",
    "        plt.show()"
   ]
  },
  {
   "cell_type": "markdown",
   "metadata": {},
   "source": [
    "### From now on,  the program will be started actually. a main routine  is as follows. \n"
   ]
  },
  {
   "cell_type": "code",
   "execution_count": 6,
   "metadata": {},
   "outputs": [],
   "source": [
    "# List of genres (these must be folder names consisting .wav of respective genre in the base_dir) Change list if needed.\n",
    "# For example, IF YOU WANT TO CLASSIFY ONLY CLASSICAL AND JAZZ,  specify genre_list = [\"classical\", \"jazz\"] \n",
    "genre_list = [\"classical\", \"hiphop\", \"jazz\", \"pop\", \"rock\", \"metal\"]\n",
    "target_names = genre_list"
   ]
  },
  {
   "cell_type": "code",
   "execution_count": 7,
   "metadata": {},
   "outputs": [],
   "source": [
    "# use FFT\n",
    "# base_dir_fft  = \"genres.FFT/\"\n",
    "#X, y = read_fft(genre_list, base_dir_fft)\n",
    "#X_train, X_test, y_train, y_test = train_test_split(X, y, test_size = .25)\n",
    "#print('\\n******USING FFT******')\n",
    "\n",
    "# print(\"X_train = \" + str(len(X_train)), \"y_train = \" + str(len(y_train)), \"X_test = \" + str(len(X_test)), \"y_test = \" + str(len(y_test)))"
   ]
  },
  {
   "cell_type": "code",
   "execution_count": 8,
   "metadata": {},
   "outputs": [
    {
     "name": "stdout",
     "output_type": "stream",
     "text": [
      "******USING MFCC******\n"
     ]
    }
   ],
   "source": [
    "# use MFCC\n",
    "base_dir_mfcc = \"genres.MFCC/\"\n",
    "X, y = read_ceps(genre_list, base_dir_mfcc)\n",
    "X_train, X_test, y_train, y_test = train_test_split(X, y, test_size = 0.25)\n",
    "print('******USING MFCC******')\n"
   ]
  },
  {
   "cell_type": "code",
   "execution_count": 9,
   "metadata": {},
   "outputs": [
    {
     "name": "stdout",
     "output_type": "stream",
     "text": [
      "######## CLASSIFICATION REPORT with Logistic Regression ########\n",
      "logistic accuracy (test set)= 0.7333333333333333\n",
      "logistic confusion matrix:\n",
      "[[27  0  1  0  1  0]\n",
      " [ 1 15  1  3  1  5]\n",
      " [ 0  1 10  3  6  0]\n",
      " [ 0  0  0 22  0  0]\n",
      " [ 0  3  4  2  9  5]\n",
      " [ 0  1  1  1  0 27]]\n",
      "              precision    recall  f1-score   support\n",
      "\n",
      "   classical       0.96      0.93      0.95        29\n",
      "      hiphop       0.75      0.58      0.65        26\n",
      "        jazz       0.59      0.50      0.54        20\n",
      "         pop       0.71      1.00      0.83        22\n",
      "        rock       0.53      0.39      0.45        23\n",
      "       metal       0.73      0.90      0.81        30\n",
      "\n",
      "   micro avg       0.73      0.73      0.73       150\n",
      "   macro avg       0.71      0.72      0.70       150\n",
      "weighted avg       0.73      0.73      0.72       150\n",
      "\n"
     ]
    },
    {
     "name": "stderr",
     "output_type": "stream",
     "text": [
      "/var/www/invain/anaconda3/envs/python27/lib/python2.7/site-packages/sklearn/linear_model/logistic.py:433: FutureWarning: Default solver will be changed to 'lbfgs' in 0.22. Specify a solver to silence this warning.\n",
      "  FutureWarning)\n",
      "/var/www/invain/anaconda3/envs/python27/lib/python2.7/site-packages/sklearn/linear_model/logistic.py:460: FutureWarning: Default multi_class will be changed to 'auto' in 0.22. Specify the multi_class option to silence this warning.\n",
      "  \"this warning.\", FutureWarning)\n"
     ]
    },
    {
     "data": {
      "image/png": "[encoded data removed]",
      "text/plain": [
       "<Figure size 432x288 with 2 Axes>"
      ]
     },
     "metadata": {
      "needs_background": "light"
     },
     "output_type": "display_data"
    }
   ],
   "source": [
    "\n",
    "# print(\"X_train = \" + str(len(X_train)), \"y_train = \" + str(len(y_train)), \"X_test = \" + str(len(X_test)), \"y_test = \" + str(len(y_test)))\n",
    "\n",
    "print(\"######## CLASSIFICATION REPORT with Logistic Regression ########\")\n",
    "logistic_classifier = linear_model.LogisticRegression()\n",
    "logistic_classifier.fit(X_train, y_train)\n",
    "\n",
    "logistic_predictions = logistic_classifier.predict(X_test)\n",
    "logistic_accuracy = accuracy_score(y_test, logistic_predictions)\n",
    "logistic_cm = confusion_matrix(y_test, logistic_predictions)\n",
    "# print(\"logistic accuracy (validation set)= \" + str(logistic_classifier.best_score_))\n",
    "print(\"logistic accuracy (test set)= \" + str(logistic_accuracy))\n",
    "print(\"logistic confusion matrix:\")\n",
    "print(logistic_cm)\n",
    "\n",
    "print(classification_report(y_test, logistic_predictions,target_names=target_names))\n",
    "\n",
    "plot_confusion_matrix(logistic_cm, \"Confusion matrix for classification (Logistic)\", genre_list)\n"
   ]
  },
  {
   "cell_type": "code",
   "execution_count": 10,
   "metadata": {},
   "outputs": [
    {
     "name": "stdout",
     "output_type": "stream",
     "text": [
      "######## CLASSIFICATION REPORT with KNeighbors Classifier ########\n",
      "knn accuracy (test set)= 0.6533333333333333\n",
      "knn confusion matrix:\n",
      "[[26  0  2  0  1  0]\n",
      " [ 0 13  1  5  5  2]\n",
      " [ 3  1  7  2  7  0]\n",
      " [ 0  4  0 18  0  0]\n",
      " [ 1  2  2  3 14  1]\n",
      " [ 0  5  1  0  4 20]]\n",
      "              precision    recall  f1-score   support\n",
      "\n",
      "   classical       0.87      0.90      0.88        29\n",
      "      hiphop       0.52      0.50      0.51        26\n",
      "        jazz       0.54      0.35      0.42        20\n",
      "         pop       0.64      0.82      0.72        22\n",
      "        rock       0.45      0.61      0.52        23\n",
      "       metal       0.87      0.67      0.75        30\n",
      "\n",
      "   micro avg       0.65      0.65      0.65       150\n",
      "   macro avg       0.65      0.64      0.63       150\n",
      "weighted avg       0.67      0.65      0.65       150\n",
      "\n"
     ]
    },
    {
     "data": {
      "image/png": "[encoded data removed]",
      "text/plain": [
       "<Figure size 432x288 with 2 Axes>"
      ]
     },
     "metadata": {
      "needs_background": "light"
     },
     "output_type": "display_data"
    }
   ],
   "source": [
    "print(\"######## CLASSIFICATION REPORT with KNeighbors Classifier ########\")\n",
    "knn_classifier = KNeighborsClassifier()\n",
    "knn_classifier.fit(X_train, y_train)\n",
    "knn_predictions = knn_classifier.predict(X_test)\n",
    "knn_accuracy = accuracy_score(y_test, knn_predictions)\n",
    "knn_cm = confusion_matrix(y_test, knn_predictions)\n",
    "\n",
    "#print(\"knn accuracy (validation set)= \" + str(knn_classifier.best_score_))\n",
    "print(\"knn accuracy (test set)= \" + str(knn_accuracy))\n",
    "print(\"knn confusion matrix:\") \n",
    "print(knn_cm)\n",
    "\n",
    "print(classification_report(y_test, knn_predictions,target_names=target_names))\n",
    "\n",
    "plot_confusion_matrix(knn_cm, \"Confusion matrix for classification (KNN)\", genre_list)"
   ]
  },
  {
   "cell_type": "code",
   "execution_count": 11,
   "metadata": {},
   "outputs": [
    {
     "name": "stdout",
     "output_type": "stream",
     "text": [
      "######## CLASSIFICATION REPORT with SVM (Support Vector Machin)########\n"
     ]
    },
    {
     "name": "stderr",
     "output_type": "stream",
     "text": [
      "/var/www/invain/anaconda3/envs/python27/lib/python2.7/site-packages/sklearn/model_selection/_search.py:841: DeprecationWarning: The default of the `iid` parameter will change from True to False in version 0.22 and will be removed in 0.24. This will change numeric results when test-set sizes are unequal.\n",
      "  DeprecationWarning)\n"
     ]
    },
    {
     "name": "stdout",
     "output_type": "stream",
     "text": [
      "svm accuracy (test set)= 0.7533333333333333\n",
      "svm confusion matrix:\n",
      "[[29  0  0  0  0  0]\n",
      " [ 1 10  0  4  3  8]\n",
      " [ 2  2 15  1  0  0]\n",
      " [ 0  2  0 20  0  0]\n",
      " [ 0  3  3  3 12  2]\n",
      " [ 0  2  0  0  1 27]]\n",
      "              precision    recall  f1-score   support\n",
      "\n",
      "   classical       0.91      1.00      0.95        29\n",
      "      hiphop       0.53      0.38      0.44        26\n",
      "        jazz       0.83      0.75      0.79        20\n",
      "         pop       0.71      0.91      0.80        22\n",
      "        rock       0.75      0.52      0.62        23\n",
      "       metal       0.73      0.90      0.81        30\n",
      "\n",
      "   micro avg       0.75      0.75      0.75       150\n",
      "   macro avg       0.74      0.74      0.73       150\n",
      "weighted avg       0.74      0.75      0.74       150\n",
      "\n"
     ]
    },
    {
     "data": {
      "image/png": "[encoded data removed]",
      "text/plain": [
       "<Figure size 432x288 with 2 Axes>"
      ]
     },
     "metadata": {
      "needs_background": "light"
     },
     "output_type": "display_data"
    }
   ],
   "source": [
    "print(\"######## CLASSIFICATION REPORT with SVM (Support Vector Machin)########\")\n",
    "params = {\n",
    "\t\"cls__C\": [0.5, 1, 2, 5],\n",
    "\t\"cls__kernel\": ['rbf', 'linear', 'sigmoid'],\n",
    "}\n",
    "\n",
    "pipe_svm = Pipeline([\n",
    "\t('scale', StandardScaler()),\n",
    "\t('var_tresh', VarianceThreshold(threshold=(.8 * (1 - .8)))),\n",
    "\t('feature_selection', SelectFromModel(lgbm.LGBMClassifier())),\n",
    "\t('cls', SVC())\n",
    "])\n",
    "\n",
    "svm_classifier = GridSearchCV(pipe_svm, params, scoring='accuracy', n_jobs=6, cv=5)\n",
    "svm_classifier.fit(X_train, y_train)\n",
    "svm_predictions = svm_classifier.predict(X_test)\n",
    "svm_cm = confusion_matrix(y_test, svm_predictions)\n",
    "svm_accuracy = accuracy_score(y_test, svm_predictions)\n",
    "#print(\"svm accuracy (validation set)= \" + str(svm_classifier.best_score_))\n",
    "print(\"svm accuracy (test set)= \" + str(svm_accuracy))\n",
    "print(\"svm confusion matrix:\") \n",
    "print(svm_cm)\n",
    "\n",
    "print(classification_report(y_test, svm_predictions,target_names=target_names))\n",
    "\n",
    "plot_confusion_matrix(knn_cm, \"Confusion matrix for classification (SVM)\", genre_list)"
   ]
  }
 ],
 "metadata": {
  "kernelspec": {
   "display_name": "Python 2",
   "language": "python",
   "name": "python2"
  },
  "language_info": {
   "codemirror_mode": {
    "name": "ipython",
    "version": 2
   },
   "file_extension": ".py",
   "mimetype": "text/x-python",
   "name": "python",
   "nbconvert_exporter": "python",
   "pygments_lexer": "ipython2",
   "version": "2.7.18"
  }
 },
 "nbformat": 4,
 "nbformat_minor": 4
}
