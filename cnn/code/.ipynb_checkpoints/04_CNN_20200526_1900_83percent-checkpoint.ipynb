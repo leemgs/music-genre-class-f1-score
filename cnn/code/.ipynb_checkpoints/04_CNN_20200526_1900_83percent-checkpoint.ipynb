{
 "cells": [
  {
   "cell_type": "markdown",
   "metadata": {},
   "source": [
    "# Convolutional Neural Network (CNN)\n",
    "\n",
    "An automatic genre classification algorithm could greatly increase efficiency for music databases such as AllMusic. It could also help music recommender systems and playlist generators that companies like Spotify and Pandora use.\n",
    "\n",
    "* 1. Data Preprocessing\n",
    "* 2. Feed Forward Neural Network (FFNN)\n",
    "* 3. Convolutional Neural Network (CNN)\n",
    "* 4. Conclusion\n",
    "\n",
    "This file is created by Geunsik Lim <leemgs@gmail.com>.\n",
    "\n",
    "* Requirement:\n",
    "  - Python 3.7.6\n",
    "  - Keras 2.3.1\n",
    "  - Tensorflow 2.0.1\n",
    "  - ~/.keras/keras.json \n",
    "    - You must use a \"image_data_format: channels_last\" statement.\n",
    "    - https://keras.io/api/utils/backend_utils/\n",
    "```bash\n",
    "$ cat ~/.keras/keras.json\n",
    "{\n",
    "    \"epsilon\": 1e-07,\n",
    "    \"floatx\": \"float32\",\n",
    "    \"image_data_format\": \"channels_last\",\n",
    "    \"backend\": \"tensorflow\"\n",
    "}\n",
    "```\n",
    "\n"
   ]
  },
  {
   "cell_type": "markdown",
   "metadata": {},
   "source": [
    "## 1. Data Preprocessing\n",
    "I will use the function \"extract_mel_spectrogram\" created in the first notebook to get the features and targets. Before constructing the model though, a few additional steps have to be taken:\n",
    "1. Values of the mel spectrograms should be scaled so that they are between 0 and 1 for computational efficiency.\n",
    "2. The data is currently 1000 rows of mel spectrograms that are 128 x 660. We need to reshape this to be 1000 rows of 128 x 660 x 1 to represent that there is a single color channel. If our image had three color channels, RGB, we would need this additional dimension to be 3.\n",
    "3. Target values have to be one-hot-encoded in order to be fed into a neural network."
   ]
  },
  {
   "cell_type": "code",
   "execution_count": 1,
   "metadata": {},
   "outputs": [
    {
     "name": "stdout",
     "output_type": "stream",
     "text": [
      "Collecting tensorflow==2.0.1\n",
      "  Using cached tensorflow-2.0.1-cp37-cp37m-manylinux2010_x86_64.whl (86.3 MB)\n",
      "Requirement already satisfied: wrapt>=1.11.1 in /var/www/invain/anaconda3/envs/cnn/lib/python3.7/site-packages (from tensorflow==2.0.1) (1.12.1)\n",
      "Requirement already satisfied: termcolor>=1.1.0 in /var/www/invain/anaconda3/envs/cnn/lib/python3.7/site-packages (from tensorflow==2.0.1) (1.1.0)\n",
      "Collecting tensorboard<2.1.0,>=2.0.0\n",
      "  Using cached tensorboard-2.0.2-py3-none-any.whl (3.8 MB)\n",
      "Requirement already satisfied: grpcio>=1.8.6 in /var/www/invain/anaconda3/envs/cnn/lib/python3.7/site-packages (from tensorflow==2.0.1) (1.27.2)\n",
      "Requirement already satisfied: google-pasta>=0.1.6 in /var/www/invain/anaconda3/envs/cnn/lib/python3.7/site-packages (from tensorflow==2.0.1) (0.2.0)\n",
      "Requirement already satisfied: keras-preprocessing>=1.0.5 in /var/www/invain/anaconda3/envs/cnn/lib/python3.7/site-packages (from tensorflow==2.0.1) (1.1.0)\n",
      "Requirement already satisfied: six>=1.10.0 in /var/www/invain/anaconda3/envs/cnn/lib/python3.7/site-packages (from tensorflow==2.0.1) (1.14.0)\n",
      "Requirement already satisfied: wheel>=0.26; python_version >= \"3\" in /var/www/invain/anaconda3/envs/cnn/lib/python3.7/site-packages (from tensorflow==2.0.1) (0.33.6)\n",
      "Requirement already satisfied: gast==0.2.2 in /var/www/invain/anaconda3/envs/cnn/lib/python3.7/site-packages (from tensorflow==2.0.1) (0.2.2)\n",
      "Requirement already satisfied: opt-einsum>=2.3.2 in /var/www/invain/anaconda3/envs/cnn/lib/python3.7/site-packages (from tensorflow==2.0.1) (3.1.0)\n",
      "Requirement already satisfied: numpy<2.0,>=1.16.0 in /var/www/invain/anaconda3/envs/cnn/lib/python3.7/site-packages (from tensorflow==2.0.1) (1.16.5)\n",
      "Collecting tensorflow-estimator<2.1.0,>=2.0.0\n",
      "  Using cached tensorflow_estimator-2.0.1-py2.py3-none-any.whl (449 kB)\n",
      "Requirement already satisfied: astor>=0.6.0 in /var/www/invain/anaconda3/envs/cnn/lib/python3.7/site-packages (from tensorflow==2.0.1) (0.8.0)\n",
      "Requirement already satisfied: keras-applications>=1.0.8 in /var/www/invain/anaconda3/envs/cnn/lib/python3.7/site-packages (from tensorflow==2.0.1) (1.0.8)\n",
      "Requirement already satisfied: absl-py>=0.7.0 in /var/www/invain/anaconda3/envs/cnn/lib/python3.7/site-packages (from tensorflow==2.0.1) (0.9.0)\n",
      "Requirement already satisfied: protobuf>=3.6.1 in /var/www/invain/anaconda3/envs/cnn/lib/python3.7/site-packages (from tensorflow==2.0.1) (3.11.4)\n",
      "Requirement already satisfied: requests<3,>=2.21.0 in /var/www/invain/anaconda3/envs/cnn/lib/python3.7/site-packages (from tensorboard<2.1.0,>=2.0.0->tensorflow==2.0.1) (2.23.0)\n",
      "Requirement already satisfied: setuptools>=41.0.0 in /var/www/invain/anaconda3/envs/cnn/lib/python3.7/site-packages (from tensorboard<2.1.0,>=2.0.0->tensorflow==2.0.1) (46.4.0.post20200518)\n",
      "Requirement already satisfied: werkzeug>=0.11.15 in /var/www/invain/anaconda3/envs/cnn/lib/python3.7/site-packages (from tensorboard<2.1.0,>=2.0.0->tensorflow==2.0.1) (1.0.1)\n",
      "Requirement already satisfied: google-auth-oauthlib<0.5,>=0.4.1 in /var/www/invain/anaconda3/envs/cnn/lib/python3.7/site-packages (from tensorboard<2.1.0,>=2.0.0->tensorflow==2.0.1) (0.4.1)\n",
      "Requirement already satisfied: google-auth<2,>=1.6.3 in /var/www/invain/anaconda3/envs/cnn/lib/python3.7/site-packages (from tensorboard<2.1.0,>=2.0.0->tensorflow==2.0.1) (1.14.1)\n",
      "Requirement already satisfied: markdown>=2.6.8 in /var/www/invain/anaconda3/envs/cnn/lib/python3.7/site-packages (from tensorboard<2.1.0,>=2.0.0->tensorflow==2.0.1) (3.1.1)\n",
      "Requirement already satisfied: h5py in /var/www/invain/anaconda3/envs/cnn/lib/python3.7/site-packages (from keras-applications>=1.0.8->tensorflow==2.0.1) (2.10.0)\n",
      "Requirement already satisfied: chardet<4,>=3.0.2 in /var/www/invain/anaconda3/envs/cnn/lib/python3.7/site-packages (from requests<3,>=2.21.0->tensorboard<2.1.0,>=2.0.0->tensorflow==2.0.1) (3.0.4)\n",
      "Requirement already satisfied: urllib3!=1.25.0,!=1.25.1,<1.26,>=1.21.1 in /var/www/invain/anaconda3/envs/cnn/lib/python3.7/site-packages (from requests<3,>=2.21.0->tensorboard<2.1.0,>=2.0.0->tensorflow==2.0.1) (1.25.8)\n",
      "Requirement already satisfied: idna<3,>=2.5 in /var/www/invain/anaconda3/envs/cnn/lib/python3.7/site-packages (from requests<3,>=2.21.0->tensorboard<2.1.0,>=2.0.0->tensorflow==2.0.1) (2.9)\n",
      "Requirement already satisfied: certifi>=2017.4.17 in /var/www/invain/anaconda3/envs/cnn/lib/python3.7/site-packages (from requests<3,>=2.21.0->tensorboard<2.1.0,>=2.0.0->tensorflow==2.0.1) (2020.4.5.1)\n",
      "Requirement already satisfied: requests-oauthlib>=0.7.0 in /var/www/invain/anaconda3/envs/cnn/lib/python3.7/site-packages (from google-auth-oauthlib<0.5,>=0.4.1->tensorboard<2.1.0,>=2.0.0->tensorflow==2.0.1) (1.3.0)\n",
      "Requirement already satisfied: pyasn1-modules>=0.2.1 in /var/www/invain/anaconda3/envs/cnn/lib/python3.7/site-packages (from google-auth<2,>=1.6.3->tensorboard<2.1.0,>=2.0.0->tensorflow==2.0.1) (0.2.7)\n",
      "Requirement already satisfied: cachetools<5.0,>=2.0.0 in /var/www/invain/anaconda3/envs/cnn/lib/python3.7/site-packages (from google-auth<2,>=1.6.3->tensorboard<2.1.0,>=2.0.0->tensorflow==2.0.1) (3.1.1)\n",
      "Requirement already satisfied: rsa<4.1,>=3.1.4 in /var/www/invain/anaconda3/envs/cnn/lib/python3.7/site-packages (from google-auth<2,>=1.6.3->tensorboard<2.1.0,>=2.0.0->tensorflow==2.0.1) (4.0)\n",
      "Requirement already satisfied: oauthlib>=3.0.0 in /var/www/invain/anaconda3/envs/cnn/lib/python3.7/site-packages (from requests-oauthlib>=0.7.0->google-auth-oauthlib<0.5,>=0.4.1->tensorboard<2.1.0,>=2.0.0->tensorflow==2.0.1) (3.1.0)\n",
      "Requirement already satisfied: pyasn1<0.5.0,>=0.4.6 in /var/www/invain/anaconda3/envs/cnn/lib/python3.7/site-packages (from pyasn1-modules>=0.2.1->google-auth<2,>=1.6.3->tensorboard<2.1.0,>=2.0.0->tensorflow==2.0.1) (0.4.8)\n",
      "Installing collected packages: tensorboard, tensorflow-estimator, tensorflow\n",
      "  Attempting uninstall: tensorboard\n",
      "    Found existing installation: tensorboard 1.14.0\n",
      "    Uninstalling tensorboard-1.14.0:\n",
      "      Successfully uninstalled tensorboard-1.14.0\n",
      "  Attempting uninstall: tensorflow-estimator\n",
      "    Found existing installation: tensorflow-estimator 1.14.0\n",
      "    Uninstalling tensorflow-estimator-1.14.0:\n",
      "      Successfully uninstalled tensorflow-estimator-1.14.0\n",
      "  Attempting uninstall: tensorflow\n",
      "    Found existing installation: tensorflow 1.14.0\n",
      "    Uninstalling tensorflow-1.14.0:\n",
      "      Successfully uninstalled tensorflow-1.14.0\n",
      "Successfully installed tensorboard-2.0.2 tensorflow-2.0.1 tensorflow-estimator-2.0.1\n"
     ]
    }
   ],
   "source": [
    "!pip install tensorflow==2.0.1"
   ]
  },
  {
   "cell_type": "code",
   "execution_count": 2,
   "metadata": {},
   "outputs": [
    {
     "name": "stderr",
     "output_type": "stream",
     "text": [
      "Using TensorFlow backend.\n"
     ]
    }
   ],
   "source": [
    "# Imports\n",
    "import os\n",
    "import librosa\n",
    "import pandas as pd\n",
    "import numpy as np\n",
    "import seaborn as sns\n",
    "import matplotlib.pyplot as plt\n",
    "from sklearn.model_selection import train_test_split\n",
    "from sklearn.metrics import confusion_matrix\n",
    "from sklearn.metrics import classification_report\n",
    "from tensorflow.python.keras.models import Sequential\n",
    "from tensorflow.python.keras.layers import Dense, Dropout, Flatten, Conv2D, MaxPooling2D\n",
    "from tensorflow.python.keras import utils\n",
    "from keras.utils import to_categorical\n",
    "import tensorflow as tf "
   ]
  },
  {
   "cell_type": "code",
   "execution_count": 3,
   "metadata": {},
   "outputs": [
    {
     "name": "stdout",
     "output_type": "stream",
     "text": [
      "Tensorflow 2.0.1\n",
      "Keras 2.3.1\n"
     ]
    }
   ],
   "source": [
    "print(\"Tensorflow\", tf.__version__)\n",
    "\n",
    "tf.keras.backend.image_data_format()\n",
    "\n",
    "# !pip install keras==2.3.1\n",
    "import keras\n",
    "print(\"Keras\", keras.__version__)"
   ]
  },
  {
   "cell_type": "code",
   "execution_count": null,
   "metadata": {},
   "outputs": [],
   "source": []
  },
  {
   "cell_type": "code",
   "execution_count": 4,
   "metadata": {},
   "outputs": [],
   "source": [
    "label_dict = {\n",
    "    'classical': 0,\n",
    "    'hiphop': 1,\n",
    "    'jazz': 2,\n",
    "    'metal': 3,\n",
    "    'pop': 4,\n",
    "    'rock': 5\n",
    "}"
   ]
  },
  {
   "cell_type": "code",
   "execution_count": 5,
   "metadata": {},
   "outputs": [],
   "source": [
    "def extract_mel_spectrogram(directory):\n",
    "    '''\n",
    "    This function takes in a directory of audio files in .wav format, computes the\n",
    "    mel spectrogram for each audio file, reshapes them so that they are all the \n",
    "    same size, and stores them in a numpy array. \n",
    "    \n",
    "    It also creates a list of genre labels and maps them to numeric values.\n",
    "    \n",
    "    Parameters:\n",
    "    directory (int): a directory of audio files in .wav format\n",
    "    \n",
    "    Returns:\n",
    "    X (array): array of mel spectrogram data from all audio files in the given\n",
    "    directory\n",
    "    y (array): array of the corresponding genre labels in numeric form\n",
    "    '''\n",
    "    \n",
    "    # Creating empty lists for mel spectrograms and labels\n",
    "    labels = []\n",
    "    mel_specs = []\n",
    "    \n",
    "    \n",
    "    # Looping through each file in the directory\n",
    "    for file in os.scandir(directory):\n",
    "        \n",
    "        # Loading in the audio file\n",
    "        y, sr = librosa.core.load(file)\n",
    "        \n",
    "        # Extracting the label and adding it to the list\n",
    "        label = str(file).split('.')[0][11:]\n",
    "        labels.append(label)\n",
    "        \n",
    "        # Computing the mel spectrograms\n",
    "        spect = librosa.feature.melspectrogram(y=y, sr=sr, n_fft=2048, hop_length=1024)\n",
    "        spect = librosa.power_to_db(spect, ref=np.max)\n",
    "        \n",
    "        # Adjusting the size to be 128 x 660\n",
    "        if spect.shape[1] != 660:\n",
    "            spect.resize(128,660, refcheck=False)\n",
    "            \n",
    "        # Adding the mel spectrogram to the list\n",
    "        mel_specs.append(spect)\n",
    "        \n",
    "    # Converting the list or arrays to an array\n",
    "    X = np.array(mel_specs)\n",
    "    \n",
    "    # Converting labels to numeric values\n",
    "    labels = pd.Series(labels)\n",
    "\n",
    "    y = labels.map(label_dict).values\n",
    "    \n",
    "    # Returning the mel spectrograms and labels\n",
    "    return X, y"
   ]
  },
  {
   "cell_type": "code",
   "execution_count": 6,
   "metadata": {},
   "outputs": [],
   "source": [
    "# Using the function to read and extract mel spectrograms from the GTZAN Genre Dataset audio files\n",
    "X, y = extract_mel_spectrogram('../data/wavfiles')"
   ]
  },
  {
   "cell_type": "code",
   "execution_count": 7,
   "metadata": {},
   "outputs": [],
   "source": [
    "# Train test split\n",
    "X_train, X_test, y_train, y_test = train_test_split(X, y, random_state=42, stratify=y, test_size=.2)"
   ]
  },
  {
   "cell_type": "markdown",
   "metadata": {},
   "source": [
    "**Note:** It is important that we train test split before scaling and reshaping the data to avoid data leakage."
   ]
  },
  {
   "cell_type": "code",
   "execution_count": 8,
   "metadata": {},
   "outputs": [
    {
     "data": {
      "text/plain": [
       "-80.0"
      ]
     },
     "execution_count": 8,
     "metadata": {},
     "output_type": "execute_result"
    }
   ],
   "source": [
    "# Checking the minimum value (the scale ranges from zero to some negative value) to see how we should scale the data\n",
    "X_train.min()"
   ]
  },
  {
   "cell_type": "code",
   "execution_count": 9,
   "metadata": {},
   "outputs": [],
   "source": [
    "# Scaling our data to be between 0 and 1 using the minimum value from above\n",
    "X_train /= -80\n",
    "X_test /= -80"
   ]
  },
  {
   "cell_type": "code",
   "execution_count": 10,
   "metadata": {},
   "outputs": [],
   "source": [
    "# Reshaping images to be 128 x 660 x 1, where the 1 represents the single color channel\n",
    "X_train = X_train.reshape(X_train.shape[0], 128, 660, 1)\n",
    "X_test = X_test.reshape(X_test.shape[0], 128, 660, 1)"
   ]
  },
  {
   "cell_type": "code",
   "execution_count": 11,
   "metadata": {},
   "outputs": [],
   "source": [
    "# One hot encoding our labels\n",
    "y_train = to_categorical(y_train, 10)\n",
    "y_test = to_categorical(y_test, 10)"
   ]
  },
  {
   "cell_type": "markdown",
   "metadata": {},
   "source": [
    "## 2. Feed Forward Neural Network (FFNN)\n",
    "Before running a CNN, I wanted to train a feed forward neural network (FFNN) for comparison. CNNs have additional layers for edge detection that make them well suited for image classification problems, but they tend to be more computationally expensive than FFNNs. If a FFNN could perform just as well, there would be no need to use a CNN."
   ]
  },
  {
   "cell_type": "code",
   "execution_count": 12,
   "metadata": {},
   "outputs": [],
   "source": [
    "#### FFNN: Model"
   ]
  },
  {
   "cell_type": "code",
   "execution_count": 13,
   "metadata": {
    "scrolled": false
   },
   "outputs": [],
   "source": [
    "# Initializing a random seed for replication purposes\n",
    "np.random.seed(23456)\n",
    "\n",
    "# Initiating an empty neural network\n",
    "model = Sequential()\n",
    "\n",
    "# Adding a flattened layer to input our image data\n",
    "model.add(Flatten(input_shape = (128, 660, 1)))\n",
    "\n",
    "# Adding a dense layer with 128 neurons\n",
    "model.add(Dense(128, activation='relu'))\n",
    "\n",
    "# Adding a dense layer with 128 neurons\n",
    "model.add(Dense(128, activation='relu'))\n",
    "\n",
    "# Adding a dense layer with 64 neurons\n",
    "model.add(Dense(64, activation='relu'))\n",
    "\n",
    "# Adding an output layer\n",
    "model.add(Dense(10, activation='softmax'))\n",
    "\n",
    "# Compiling our neural network\n",
    "model.compile(loss='categorical_crossentropy',\n",
    "              optimizer='adam',\n",
    "              metrics=['accuracy'])\n"
   ]
  },
  {
   "cell_type": "code",
   "execution_count": 14,
   "metadata": {},
   "outputs": [
    {
     "name": "stdout",
     "output_type": "stream",
     "text": [
      "Model: \"sequential\"\n",
      "_________________________________________________________________\n",
      "Layer (type)                 Output Shape              Param #   \n",
      "=================================================================\n",
      "flatten (Flatten)            (None, 84480)             0         \n",
      "_________________________________________________________________\n",
      "dense (Dense)                (None, 128)               10813568  \n",
      "_________________________________________________________________\n",
      "dense_1 (Dense)              (None, 128)               16512     \n",
      "_________________________________________________________________\n",
      "dense_2 (Dense)              (None, 64)                8256      \n",
      "_________________________________________________________________\n",
      "dense_3 (Dense)              (None, 10)                650       \n",
      "=================================================================\n",
      "Total params: 10,838,986\n",
      "Trainable params: 10,838,986\n",
      "Non-trainable params: 0\n",
      "_________________________________________________________________\n"
     ]
    }
   ],
   "source": [
    "# Checking the model summary\n",
    "model.summary()"
   ]
  },
  {
   "cell_type": "markdown",
   "metadata": {},
   "source": [
    "#### FFNN: Train"
   ]
  },
  {
   "cell_type": "code",
   "execution_count": 15,
   "metadata": {},
   "outputs": [
    {
     "name": "stdout",
     "output_type": "stream",
     "text": [
      "Train on 480 samples, validate on 120 samples\n",
      "Epoch 1/10\n",
      "480/480 [==============================] - 2s 4ms/sample - loss: 9.8596 - accuracy: 0.2208 - val_loss: 2.9027 - val_accuracy: 0.2083\n",
      "Epoch 2/10\n",
      "480/480 [==============================] - 1s 3ms/sample - loss: 2.2339 - accuracy: 0.3354 - val_loss: 1.8773 - val_accuracy: 0.3750\n",
      "Epoch 3/10\n",
      "480/480 [==============================] - 1s 3ms/sample - loss: 1.4615 - accuracy: 0.4437 - val_loss: 1.7817 - val_accuracy: 0.3667\n",
      "Epoch 4/10\n",
      "480/480 [==============================] - 1s 3ms/sample - loss: 1.4997 - accuracy: 0.4500 - val_loss: 1.4632 - val_accuracy: 0.5083\n",
      "Epoch 5/10\n",
      "480/480 [==============================] - 1s 3ms/sample - loss: 1.3466 - accuracy: 0.4771 - val_loss: 1.1121 - val_accuracy: 0.5583\n",
      "Epoch 6/10\n",
      "480/480 [==============================] - 1s 3ms/sample - loss: 1.2363 - accuracy: 0.5437 - val_loss: 1.3816 - val_accuracy: 0.5000\n",
      "Epoch 7/10\n",
      "480/480 [==============================] - 1s 3ms/sample - loss: 0.9986 - accuracy: 0.6187 - val_loss: 1.1185 - val_accuracy: 0.5750\n",
      "Epoch 8/10\n",
      "480/480 [==============================] - 1s 3ms/sample - loss: 1.0025 - accuracy: 0.6021 - val_loss: 1.4759 - val_accuracy: 0.4417\n",
      "Epoch 9/10\n",
      "480/480 [==============================] - 1s 3ms/sample - loss: 1.1114 - accuracy: 0.5708 - val_loss: 1.1892 - val_accuracy: 0.5000\n",
      "Epoch 10/10\n",
      "480/480 [==============================] - 1s 3ms/sample - loss: 1.1220 - accuracy: 0.5958 - val_loss: 0.9759 - val_accuracy: 0.6333\n"
     ]
    }
   ],
   "source": [
    "_epochs=40\n",
    "# Fitting our neural network\n",
    "history = model.fit(X_train,\n",
    "                    y_train, \n",
    "                    batch_size=16,\n",
    "                    validation_data=(X_test, y_test),\n",
    "                    epochs=_epochs)"
   ]
  },
  {
   "cell_type": "markdown",
   "metadata": {},
   "source": [
    "**Note:** After trying several different architectures, the best model (based on test accuracy) achieved a training score of 69% and a test score of 45%."
   ]
  },
  {
   "cell_type": "markdown",
   "metadata": {},
   "source": [
    "#### FFNN: Plot"
   ]
  },
  {
   "cell_type": "code",
   "execution_count": 16,
   "metadata": {},
   "outputs": [
    {
     "data": {
      "image/png": "[encoded data removed]",
      "text/plain": [
       "<Figure size 576x432 with 1 Axes>"
      ]
     },
     "metadata": {
      "needs_background": "light"
     },
     "output_type": "display_data"
    }
   ],
   "source": [
    "# The code in this cell was adapted from a lecture at General Assembly\n",
    "\n",
    "# Check out our train loss and test loss over epochs.\n",
    "train_loss = history.history['loss']\n",
    "test_loss = history.history['val_loss']\n",
    "\n",
    "# Set figure size.\n",
    "plt.figure(figsize=(8, 6))\n",
    "\n",
    "# Generate line plot of training, testing loss over epochs.\n",
    "plt.plot(train_loss, label='Training Loss', color='blue')\n",
    "plt.plot(test_loss, label='Testing Loss', color='red')\n",
    "\n",
    "# Set title\n",
    "plt.title('Training and Testing Loss by Epoch', fontsize = 20)\n",
    "plt.xlabel('Epoch', fontsize = 18)\n",
    "plt.ylabel('Categorical Crossentropy', fontsize = 18)\n",
    "plt.xticks(range(1,40), range(1,40))\n",
    "\n",
    "plt.legend(fontsize = 18);"
   ]
  },
  {
   "cell_type": "code",
   "execution_count": 17,
   "metadata": {},
   "outputs": [
    {
     "data": {
      "image/png": "[encoded data removed]",
      "text/plain": [
       "<Figure size 576x432 with 1 Axes>"
      ]
     },
     "metadata": {
      "needs_background": "light"
     },
     "output_type": "display_data"
    }
   ],
   "source": [
    "# The code in this cell was adapted from a lecture at General Assembly\n",
    "\n",
    "# Check out our train accuracy and test accuracy over epochs.\n",
    "train_loss = history.history['accuracy']\n",
    "test_loss = history.history['val_accuracy']\n",
    "\n",
    "# Set figure size.\n",
    "plt.figure(figsize=(8, 6))\n",
    "\n",
    "# Generate line plot of training, testing loss over epochs.\n",
    "plt.plot(train_loss, label='Training Accuracy', color='blue')\n",
    "plt.plot(test_loss, label='Testing Accuracy', color='red')\n",
    "\n",
    "# Set title\n",
    "plt.title('Training and Testing Accuracy by Epoch', fontsize = 20)\n",
    "plt.xlabel('Epoch', fontsize = 18)\n",
    "plt.ylabel('Accuracy', fontsize = 18)\n",
    "plt.xticks(range(1,40), range(1,40))\n",
    "\n",
    "plt.legend(fontsize = 18);"
   ]
  },
  {
   "cell_type": "code",
   "execution_count": 18,
   "metadata": {},
   "outputs": [],
   "source": [
    "# Making predictions from the cnn model\n",
    "fnn_predictions = model.predict(X_test, verbose=0)"
   ]
  },
  {
   "cell_type": "markdown",
   "metadata": {},
   "source": [
    "#### FFNN: F-Score"
   ]
  },
  {
   "cell_type": "code",
   "execution_count": 19,
   "metadata": {},
   "outputs": [
    {
     "name": "stdout",
     "output_type": "stream",
     "text": [
      "              precision    recall  f1-score   support\n",
      "\n",
      "   classical       0.61      0.85      0.71        20\n",
      "      hiphop       0.50      0.80      0.62        20\n",
      "        jazz       0.64      0.45      0.53        20\n",
      "       metal       0.92      0.60      0.73        20\n",
      "         pop       0.80      0.60      0.69        20\n",
      "        rock       0.56      0.50      0.53        20\n",
      "\n",
      "    accuracy                           0.63       120\n",
      "   macro avg       0.67      0.63      0.63       120\n",
      "weighted avg       0.67      0.63      0.63       120\n",
      "\n"
     ]
    }
   ],
   "source": [
    "# Making precision, recall, and f1-score\n",
    "#print(classification_report(y_test, fnn_predictions,target_names=label_dict))\n",
    "print(classification_report(np.argmax(y_test, 1), np.argmax(fnn_predictions, 1),target_names=label_dict))\n"
   ]
  },
  {
   "cell_type": "markdown",
   "metadata": {},
   "source": [
    "## 3. Convolutional Neural Network (CNN\n",
    "\n",
    "As suspected, the CNN model did much better! The best CNN model (based on test score accuracy) achieved a score of 68%. That’s not too shabby, especially considering the difficulty of the problem, but it still isn’t great. The training score was 84%, so the model was overfit. This means that it was tuning really well to the training data and not generalizing as well to new data. Even so, it’s certainly learning."
   ]
  },
  {
   "cell_type": "markdown",
   "metadata": {},
   "source": [
    "#### CNN: Model"
   ]
  },
  {
   "cell_type": "code",
   "execution_count": 20,
   "metadata": {},
   "outputs": [],
   "source": [
    "# Initializing a random seed for replication purposes\n",
    "np.random.seed(23456)\n",
    "tf.random.set_seed(123)\n",
    "\n",
    "# Initiating an empty neural network\n",
    "cnn_model = Sequential(name='cnn_1')\n",
    "\n",
    "# Adding convolutional layer\n",
    "# https://www.programcreek.com/python/example/89658/keras.layers.Conv2D  ( EXAMPLE 15)\n",
    "# https://www.programcreek.com/python/example/89662/keras.layers.Convolution2D\n",
    "\n",
    "cnn_model.add(Conv2D(filters=16,\n",
    "                     kernel_size=(3,3),\n",
    "                     activation='relu',\n",
    "                     input_shape=(128,660,1)))\n",
    "\n",
    "# Adding max pooling layer\n",
    "cnn_model.add(MaxPooling2D(pool_size=(2,4)))\n",
    "\n",
    "# Adding convolutional layer\n",
    "cnn_model.add(Conv2D(filters=32,\n",
    "                     kernel_size=(3,3),\n",
    "                     activation='relu'))\n",
    "\n",
    "# Adding max pooling layer\n",
    "cnn_model.add(MaxPooling2D(pool_size=(2,4)))\n",
    "\n",
    "# Adding a flattened layer to input our image data\n",
    "cnn_model.add(Flatten())\n",
    "\n",
    "# Adding a dense layer with 64 neurons\n",
    "cnn_model.add(Dense(64, activation='relu'))\n",
    "\n",
    "# Adding a dropout layer for regularization\n",
    "cnn_model.add(Dropout(0.25))\n",
    "\n",
    "# Adding an output layer\n",
    "cnn_model.add(Dense(10, activation='softmax'))\n",
    "\n",
    "# Compiling our neural network\n",
    "cnn_model.compile(loss='categorical_crossentropy',\n",
    "                  optimizer='adam',\n",
    "                  metrics=['accuracy'])\n",
    "\n",
    "# Fitting our neural network\n",
    "history = cnn_model.fit(X_train,\n",
    "                        y_train, \n",
    "                        batch_size=16,\n",
    "                        validation_data=(X_test, y_test),\n",
    "                        epochs=15)"
   ]
  },
  {
   "cell_type": "code",
   "execution_count": 21,
   "metadata": {},
   "outputs": [
    {
     "name": "stdout",
     "output_type": "stream",
     "text": [
      "Model: \"cnn_1\"\n",
      "_________________________________________________________________\n",
      "Layer (type)                 Output Shape              Param #   \n",
      "=================================================================\n",
      "conv2d (Conv2D)              (None, 126, 658, 100)     1000      \n",
      "_________________________________________________________________\n",
      "max_pooling2d (MaxPooling2D) (None, 63, 164, 100)      0         \n",
      "_________________________________________________________________\n",
      "conv2d_1 (Conv2D)            (None, 61, 162, 32)       28832     \n",
      "_________________________________________________________________\n",
      "max_pooling2d_1 (MaxPooling2 (None, 30, 40, 32)        0         \n",
      "_________________________________________________________________\n",
      "flatten_1 (Flatten)          (None, 38400)             0         \n",
      "_________________________________________________________________\n",
      "dense_4 (Dense)              (None, 64)                2457664   \n",
      "_________________________________________________________________\n",
      "dropout (Dropout)            (None, 64)                0         \n",
      "_________________________________________________________________\n",
      "dense_5 (Dense)              (None, 10)                650       \n",
      "=================================================================\n",
      "Total params: 2,488,146\n",
      "Trainable params: 2,488,146\n",
      "Non-trainable params: 0\n",
      "_________________________________________________________________\n"
     ]
    }
   ],
   "source": [
    "# Checking the model summary\n",
    "cnn_model.summary()"
   ]
  },
  {
   "cell_type": "markdown",
   "metadata": {},
   "source": [
    "#### CNN: Train"
   ]
  },
  {
   "cell_type": "code",
   "execution_count": 22,
   "metadata": {},
   "outputs": [
    {
     "name": "stdout",
     "output_type": "stream",
     "text": [
      "Train on 480 samples, validate on 120 samples\n",
      "Epoch 1/15\n",
      "480/480 [==============================] - 36s 75ms/sample - loss: 2.0488 - accuracy: 0.1688 - val_loss: 1.8659 - val_accuracy: 0.1667\n",
      "Epoch 2/15\n",
      "480/480 [==============================] - 35s 72ms/sample - loss: 1.9477 - accuracy: 0.1479 - val_loss: 1.8024 - val_accuracy: 0.2083\n",
      "Epoch 3/15\n",
      "480/480 [==============================] - 35s 72ms/sample - loss: 1.8404 - accuracy: 0.2271 - val_loss: 1.7506 - val_accuracy: 0.2417\n",
      "Epoch 4/15\n",
      "480/480 [==============================] - 35s 73ms/sample - loss: 1.7925 - accuracy: 0.2167 - val_loss: 1.6249 - val_accuracy: 0.4333\n",
      "Epoch 5/15\n",
      "480/480 [==============================] - 35s 72ms/sample - loss: 1.5615 - accuracy: 0.3604 - val_loss: 1.3247 - val_accuracy: 0.5250\n",
      "Epoch 6/15\n",
      "480/480 [==============================] - 35s 72ms/sample - loss: 1.3761 - accuracy: 0.4563 - val_loss: 1.2938 - val_accuracy: 0.4083\n",
      "Epoch 7/15\n",
      "480/480 [==============================] - 35s 73ms/sample - loss: 1.2213 - accuracy: 0.5042 - val_loss: 1.1159 - val_accuracy: 0.5250\n",
      "Epoch 8/15\n",
      "480/480 [==============================] - 35s 73ms/sample - loss: 1.0488 - accuracy: 0.5813 - val_loss: 0.9939 - val_accuracy: 0.6500\n",
      "Epoch 9/15\n",
      "480/480 [==============================] - 35s 73ms/sample - loss: 0.9444 - accuracy: 0.6125 - val_loss: 0.8288 - val_accuracy: 0.6667\n",
      "Epoch 10/15\n",
      "480/480 [==============================] - 35s 73ms/sample - loss: 0.8125 - accuracy: 0.6896 - val_loss: 0.7651 - val_accuracy: 0.7167\n",
      "Epoch 11/15\n",
      "480/480 [==============================] - 35s 73ms/sample - loss: 0.8149 - accuracy: 0.6917 - val_loss: 0.7396 - val_accuracy: 0.7333\n",
      "Epoch 12/15\n",
      "480/480 [==============================] - 35s 73ms/sample - loss: 0.7099 - accuracy: 0.7083 - val_loss: 0.8307 - val_accuracy: 0.6750\n",
      "Epoch 13/15\n",
      "480/480 [==============================] - 35s 73ms/sample - loss: 0.6870 - accuracy: 0.7437 - val_loss: 0.6402 - val_accuracy: 0.7500\n",
      "Epoch 14/15\n",
      "480/480 [==============================] - 35s 74ms/sample - loss: 0.5624 - accuracy: 0.7750 - val_loss: 0.6751 - val_accuracy: 0.7417\n",
      "Epoch 15/15\n",
      "480/480 [==============================] - 36s 75ms/sample - loss: 0.4692 - accuracy: 0.8313 - val_loss: 0.5692 - val_accuracy: 0.8333\n"
     ]
    }
   ],
   "source": [
    "# Fitting our neural network\n",
    "_epochs=15\n",
    "history = cnn_model.fit(X_train,\n",
    "                        y_train, \n",
    "                        batch_size=16,\n",
    "                        validation_data=(X_test, y_test),\n",
    "                        epochs=_epochs)"
   ]
  },
  {
   "cell_type": "markdown",
   "metadata": {},
   "source": [
    "#### CNN: Plot"
   ]
  },
  {
   "cell_type": "code",
   "execution_count": 23,
   "metadata": {
    "scrolled": true
   },
   "outputs": [
    {
     "data": {
      "image/png": "[encoded data removed]",
      "text/plain": [
       "<Figure size 576x432 with 1 Axes>"
      ]
     },
     "metadata": {
      "needs_background": "light"
     },
     "output_type": "display_data"
    }
   ],
   "source": [
    "# The code in this cell was adapted from a lecture at General Assembly\n",
    "\n",
    "# Check out our train loss and test loss over epochs.\n",
    "train_loss = history.history['loss']\n",
    "test_loss = history.history['val_loss']\n",
    "\n",
    "# Set figure size.\n",
    "plt.figure(figsize=(8, 6))\n",
    "\n",
    "# Generate line plot of training, testing loss over epochs.\n",
    "plt.plot(train_loss, label='Training Loss', color='blue')\n",
    "plt.plot(test_loss, label='Testing Loss', color='red')\n",
    "\n",
    "# Set title\n",
    "plt.title('Training and Testing Loss by Epoch', fontsize = 20)\n",
    "plt.xlabel('Epoch', fontsize = 18)\n",
    "plt.ylabel('Categorical Crossentropy', fontsize = 18)\n",
    "plt.xticks(range(1,16), range(1,16))\n",
    "\n",
    "plt.legend(fontsize = 18);"
   ]
  },
  {
   "cell_type": "code",
   "execution_count": 24,
   "metadata": {
    "scrolled": false
   },
   "outputs": [
    {
     "data": {
      "image/png": "[encoded data removed]",
      "text/plain": [
       "<Figure size 576x432 with 1 Axes>"
      ]
     },
     "metadata": {
      "needs_background": "light"
     },
     "output_type": "display_data"
    }
   ],
   "source": [
    "# The code in this cell was adapted from a lecture at General Assembly\n",
    "\n",
    "# Check out our train accuracy and test accuracy over epochs.\n",
    "train_loss = history.history['accuracy']\n",
    "test_loss = history.history['val_accuracy']\n",
    "\n",
    "# Set figure size.\n",
    "plt.figure(figsize=(8, 6))\n",
    "\n",
    "# Generate line plot of training, testing loss over epochs.\n",
    "plt.plot(train_loss, label='Training Accuracy', color='blue')\n",
    "plt.plot(test_loss, label='Testing Accuracy', color='red')\n",
    "\n",
    "# Set title\n",
    "plt.title('Training and Testing Accuracy by Epoch', fontsize = 20)\n",
    "plt.xlabel('Epoch', fontsize = 18)\n",
    "plt.ylabel('Accuracy', fontsize = 18)\n",
    "plt.xticks(range(1,16), range(1,16))\n",
    "\n",
    "plt.legend(fontsize = 18);"
   ]
  },
  {
   "cell_type": "markdown",
   "metadata": {},
   "source": [
    "**Note:** Most of the models I ran became increasingly overfit after about 15-20 epochs, so increasing the number of epochs would likely not improve the model."
   ]
  },
  {
   "cell_type": "code",
   "execution_count": 25,
   "metadata": {},
   "outputs": [],
   "source": [
    "# Making predictions from the cnn model\n",
    "predictions = cnn_model.predict(X_test, verbose=0)"
   ]
  },
  {
   "cell_type": "markdown",
   "metadata": {},
   "source": [
    "#### CNN: Confusion Matrix\n",
    "To look deeper into what was happening with the model, I computed a confusion matrix to visualize the model's predictions against the actual values.\n",
    "\n",
    "**Note:** since the confusion matrix function from sklearn does not return the labels for predicted values and actual values, I checked how many predicted and actual values there were for each genre to be able to figure it out."
   ]
  },
  {
   "cell_type": "code",
   "execution_count": 26,
   "metadata": {},
   "outputs": [
    {
     "name": "stdout",
     "output_type": "stream",
     "text": [
      "0: 20\n",
      "1: 20\n",
      "2: 20\n",
      "3: 20\n",
      "4: 20\n",
      "5: 20\n"
     ]
    }
   ],
   "source": [
    "# Checking the number of targets per class\n",
    "for i in range(6): \n",
    "    print(f'{i}: {sum([1 for target in y_test if target[i] == 1])}')"
   ]
  },
  {
   "cell_type": "code",
   "execution_count": 27,
   "metadata": {
    "scrolled": true
   },
   "outputs": [
    {
     "name": "stdout",
     "output_type": "stream",
     "text": [
      "0: 20\n",
      "1: 26\n",
      "2: 20\n",
      "3: 21\n",
      "4: 18\n",
      "5: 15\n"
     ]
    }
   ],
   "source": [
    "# Checking the number of predicted values in each class\n",
    "for i in range(6): \n",
    "    print(f'{i}: {sum([1 for prediction in predictions if np.argmax(prediction) == i])}')"
   ]
  },
  {
   "cell_type": "code",
   "execution_count": 28,
   "metadata": {},
   "outputs": [
    {
     "data": {
      "text/plain": [
       "array([[19,  0,  1,  0,  0,  0],\n",
       "       [ 0, 18,  0,  1,  1,  0],\n",
       "       [ 1,  2, 16,  0,  1,  0],\n",
       "       [ 0,  0,  0, 19,  0,  1],\n",
       "       [ 0,  4,  0,  0, 15,  1],\n",
       "       [ 0,  2,  3,  1,  1, 13]])"
      ]
     },
     "execution_count": 28,
     "metadata": {},
     "output_type": "execute_result"
    }
   ],
   "source": [
    "# Calculating the confusion matrix \n",
    "# row: actual\n",
    "# columns: predicted\n",
    "conf_matrix = confusion_matrix(np.argmax(y_test, 1), np.argmax(predictions, 1))\n",
    "conf_matrix"
   ]
  },
  {
   "cell_type": "code",
   "execution_count": 29,
   "metadata": {
    "scrolled": true
   },
   "outputs": [
    {
     "data": {
      "text/html": [
       "<div>\n",
       "<style scoped>\n",
       "    .dataframe tbody tr th:only-of-type {\n",
       "        vertical-align: middle;\n",
       "    }\n",
       "\n",
       "    .dataframe tbody tr th {\n",
       "        vertical-align: top;\n",
       "    }\n",
       "\n",
       "    .dataframe thead th {\n",
       "        text-align: right;\n",
       "    }\n",
       "</style>\n",
       "<table border=\"1\" class=\"dataframe\">\n",
       "  <thead>\n",
       "    <tr style=\"text-align: right;\">\n",
       "      <th></th>\n",
       "      <th>0</th>\n",
       "      <th>1</th>\n",
       "      <th>2</th>\n",
       "      <th>3</th>\n",
       "      <th>4</th>\n",
       "      <th>5</th>\n",
       "    </tr>\n",
       "  </thead>\n",
       "  <tbody>\n",
       "    <tr>\n",
       "      <td>0</td>\n",
       "      <td>19</td>\n",
       "      <td>0</td>\n",
       "      <td>1</td>\n",
       "      <td>0</td>\n",
       "      <td>0</td>\n",
       "      <td>0</td>\n",
       "    </tr>\n",
       "    <tr>\n",
       "      <td>1</td>\n",
       "      <td>0</td>\n",
       "      <td>18</td>\n",
       "      <td>0</td>\n",
       "      <td>1</td>\n",
       "      <td>1</td>\n",
       "      <td>0</td>\n",
       "    </tr>\n",
       "    <tr>\n",
       "      <td>2</td>\n",
       "      <td>1</td>\n",
       "      <td>2</td>\n",
       "      <td>16</td>\n",
       "      <td>0</td>\n",
       "      <td>1</td>\n",
       "      <td>0</td>\n",
       "    </tr>\n",
       "    <tr>\n",
       "      <td>3</td>\n",
       "      <td>0</td>\n",
       "      <td>0</td>\n",
       "      <td>0</td>\n",
       "      <td>19</td>\n",
       "      <td>0</td>\n",
       "      <td>1</td>\n",
       "    </tr>\n",
       "    <tr>\n",
       "      <td>4</td>\n",
       "      <td>0</td>\n",
       "      <td>4</td>\n",
       "      <td>0</td>\n",
       "      <td>0</td>\n",
       "      <td>15</td>\n",
       "      <td>1</td>\n",
       "    </tr>\n",
       "    <tr>\n",
       "      <td>5</td>\n",
       "      <td>0</td>\n",
       "      <td>2</td>\n",
       "      <td>3</td>\n",
       "      <td>1</td>\n",
       "      <td>1</td>\n",
       "      <td>13</td>\n",
       "    </tr>\n",
       "  </tbody>\n",
       "</table>\n",
       "</div>"
      ],
      "text/plain": [
       "    0   1   2   3   4   5\n",
       "0  19   0   1   0   0   0\n",
       "1   0  18   0   1   1   0\n",
       "2   1   2  16   0   1   0\n",
       "3   0   0   0  19   0   1\n",
       "4   0   4   0   0  15   1\n",
       "5   0   2   3   1   1  13"
      ]
     },
     "execution_count": 29,
     "metadata": {},
     "output_type": "execute_result"
    }
   ],
   "source": [
    "# Creating a dataframe of the confusion matrix with labels for readability \n",
    "confusion_df = pd.DataFrame(conf_matrix)\n",
    "confusion_df"
   ]
  },
  {
   "cell_type": "code",
   "execution_count": 30,
   "metadata": {},
   "outputs": [],
   "source": [
    "# Creating a dictionary of labels\n",
    "#labels_dict = {\n",
    "#    0: 'classical',\n",
    "#    1: 'hiphop',\n",
    "#    2: 'jazz',\n",
    "#    3: 'metal',\n",
    "#    4: 'pop',\n",
    "#    5: 'rock'\n",
    "#}"
   ]
  },
  {
   "cell_type": "code",
   "execution_count": 31,
   "metadata": {},
   "outputs": [
    {
     "data": {
      "text/html": [
       "<div>\n",
       "<style scoped>\n",
       "    .dataframe tbody tr th:only-of-type {\n",
       "        vertical-align: middle;\n",
       "    }\n",
       "\n",
       "    .dataframe tbody tr th {\n",
       "        vertical-align: top;\n",
       "    }\n",
       "\n",
       "    .dataframe thead th {\n",
       "        text-align: right;\n",
       "    }\n",
       "</style>\n",
       "<table border=\"1\" class=\"dataframe\">\n",
       "  <thead>\n",
       "    <tr style=\"text-align: right;\">\n",
       "      <th></th>\n",
       "      <th>0</th>\n",
       "      <th>1</th>\n",
       "      <th>2</th>\n",
       "      <th>3</th>\n",
       "      <th>4</th>\n",
       "      <th>5</th>\n",
       "    </tr>\n",
       "  </thead>\n",
       "  <tbody>\n",
       "    <tr>\n",
       "      <td>0</td>\n",
       "      <td>19</td>\n",
       "      <td>0</td>\n",
       "      <td>1</td>\n",
       "      <td>0</td>\n",
       "      <td>0</td>\n",
       "      <td>0</td>\n",
       "    </tr>\n",
       "    <tr>\n",
       "      <td>1</td>\n",
       "      <td>0</td>\n",
       "      <td>18</td>\n",
       "      <td>0</td>\n",
       "      <td>1</td>\n",
       "      <td>1</td>\n",
       "      <td>0</td>\n",
       "    </tr>\n",
       "    <tr>\n",
       "      <td>2</td>\n",
       "      <td>1</td>\n",
       "      <td>2</td>\n",
       "      <td>16</td>\n",
       "      <td>0</td>\n",
       "      <td>1</td>\n",
       "      <td>0</td>\n",
       "    </tr>\n",
       "    <tr>\n",
       "      <td>3</td>\n",
       "      <td>0</td>\n",
       "      <td>0</td>\n",
       "      <td>0</td>\n",
       "      <td>19</td>\n",
       "      <td>0</td>\n",
       "      <td>1</td>\n",
       "    </tr>\n",
       "    <tr>\n",
       "      <td>4</td>\n",
       "      <td>0</td>\n",
       "      <td>4</td>\n",
       "      <td>0</td>\n",
       "      <td>0</td>\n",
       "      <td>15</td>\n",
       "      <td>1</td>\n",
       "    </tr>\n",
       "    <tr>\n",
       "      <td>5</td>\n",
       "      <td>0</td>\n",
       "      <td>2</td>\n",
       "      <td>3</td>\n",
       "      <td>1</td>\n",
       "      <td>1</td>\n",
       "      <td>13</td>\n",
       "    </tr>\n",
       "  </tbody>\n",
       "</table>\n",
       "</div>"
      ],
      "text/plain": [
       "    0   1   2   3   4   5\n",
       "0  19   0   1   0   0   0\n",
       "1   0  18   0   1   1   0\n",
       "2   1   2  16   0   1   0\n",
       "3   0   0   0  19   0   1\n",
       "4   0   4   0   0  15   1\n",
       "5   0   2   3   1   1  13"
      ]
     },
     "execution_count": 31,
     "metadata": {},
     "output_type": "execute_result"
    }
   ],
   "source": [
    "# Renaming rows and columns with labes\n",
    "confusion_df = confusion_df.rename(columns=label_dict)\n",
    "confusion_df.index = confusion_df.columns\n",
    "confusion_df"
   ]
  },
  {
   "cell_type": "code",
   "execution_count": 35,
   "metadata": {
    "scrolled": false
   },
   "outputs": [
    {
     "data": {
      "image/png": "[encoded data removed]",
      "text/plain": [
       "<Figure size 576x432 with 2 Axes>"
      ]
     },
     "metadata": {},
     "output_type": "display_data"
    }
   ],
   "source": [
    "# Creating a heatmap for the confusion matrix for display\n",
    "plt.figure(figsize= (8,6))\n",
    "sns.set(font_scale = 2);\n",
    "ax = sns.heatmap(confusion_df, annot=True, cmap=sns.cubehelix_palette(50));\n",
    "ax.set(xlabel='Predicted Values', ylabel='Actual Values');"
   ]
  },
  {
   "cell_type": "markdown",
   "metadata": {},
   "source": [
    "#### CNN: F1-Score"
   ]
  },
  {
   "cell_type": "code",
   "execution_count": 36,
   "metadata": {},
   "outputs": [
    {
     "name": "stdout",
     "output_type": "stream",
     "text": [
      "              precision    recall  f1-score   support\n",
      "\n",
      "   classical       0.95      0.95      0.95        20\n",
      "      hiphop       0.69      0.90      0.78        20\n",
      "        jazz       0.80      0.80      0.80        20\n",
      "       metal       0.90      0.95      0.93        20\n",
      "         pop       0.83      0.75      0.79        20\n",
      "        rock       0.87      0.65      0.74        20\n",
      "\n",
      "    accuracy                           0.83       120\n",
      "   macro avg       0.84      0.83      0.83       120\n",
      "weighted avg       0.84      0.83      0.83       120\n",
      "\n"
     ]
    }
   ],
   "source": [
    "# Making precision, recall, and f1-score\n",
    "#print(classification_report(y_test, fnn_predictions,target_names=label_dict))\n",
    "print(classification_report(np.argmax(y_test, 1), np.argmax(predictions, 1),target_names=label_dict))"
   ]
  },
  {
   "cell_type": "markdown",
   "metadata": {},
   "source": [
    "## 4. Conclusion\n",
    "The best CNN model (based on test score accuracy) achieved a score of 68%. **The training score was 84%, so the model was overfit.** This means that it was tuning really well to the training data and not generalizing as well to new data. Even so, it's certainly learning.\n",
    "\n",
    "I tried several different architectures to try to improve the model, and most of them achieved accuracies between 55 and 65 percent, but I couldn't get it much above that. **Most of the models became increasingly overfit after about 15-20 epochs**, so increasing the number of epochs likely would not improve the model.\n",
    "\n",
    "Based on the confusion matrix, the computer was confusing some genres for others similarly to how humans would. For example, most of the misclassifications for blues was either jazz or rock. This makes sense because blues heavily influenced rock music, and shares several characteristics with both rock and jazz. Raggea and hiphop were also mixed up, which makes sense because hiphop was influenced by reggae. \n",
    "\n",
    "This is actually really good news! Our model is running into the same difficulties that a human would. It's clearly learning some of the distinguishing factors of the musical genres, but it is having trouble with genres that share characteristics with other genres. "
   ]
  },
  {
   "cell_type": "code",
   "execution_count": 38,
   "metadata": {},
   "outputs": [
    {
     "name": "stdout",
     "output_type": "stream",
     "text": [
      "The task is successfully completed.\n"
     ]
    }
   ],
   "source": [
    "print (\"The task is successfully completed.\")"
   ]
  },
  {
   "cell_type": "code",
   "execution_count": null,
   "metadata": {},
   "outputs": [],
   "source": []
  }
 ],
 "metadata": {
  "kernelspec": {
   "display_name": "Python 3",
   "language": "python",
   "name": "python3"
  },
  "language_info": {
   "codemirror_mode": {
    "name": "ipython",
    "version": 3
   },
   "file_extension": ".py",
   "mimetype": "text/x-python",
   "name": "python",
   "nbconvert_exporter": "python",
   "pygments_lexer": "ipython3",
   "version": "3.7.7"
  }
 },
 "nbformat": 4,
 "nbformat_minor": 2
}
