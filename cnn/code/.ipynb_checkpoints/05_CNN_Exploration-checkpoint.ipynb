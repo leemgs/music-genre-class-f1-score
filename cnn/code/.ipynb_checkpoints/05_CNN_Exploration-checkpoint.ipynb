{
 "cells": [
  {
   "cell_type": "markdown",
   "metadata": {},
   "source": [
    "# CNN Exploration"
   ]
  },
  {
   "cell_type": "code",
   "execution_count": 1,
   "metadata": {},
   "outputs": [
    {
     "name": "stderr",
     "output_type": "stream",
     "text": [
      "Using TensorFlow backend.\n"
     ]
    }
   ],
   "source": [
    "# Imports\n",
    "import os\n",
    "import librosa\n",
    "import pandas as pd\n",
    "import numpy as np\n",
    "import matplotlib.pyplot as plt\n",
    "from sklearn.model_selection import train_test_split\n",
    "from sklearn.metrics import confusion_matrix\n",
    "from tensorflow.python.keras.models import Sequential\n",
    "from tensorflow.python.keras.layers import Dense, Dropout, Flatten, Conv2D, MaxPooling2D\n",
    "from tensorflow.python.keras import utils\n",
    "from keras.utils import to_categorical"
   ]
  },
  {
   "cell_type": "code",
   "execution_count": 3,
   "metadata": {},
   "outputs": [],
   "source": [
    "# Reading in the data\n",
    "mel_specs = pd.read_csv('../data/genre_mel_specs_clean.csv')"
   ]
  },
  {
   "cell_type": "code",
   "execution_count": 4,
   "metadata": {},
   "outputs": [
    {
     "data": {
      "text/html": [
       "<div>\n",
       "<style scoped>\n",
       "    .dataframe tbody tr th:only-of-type {\n",
       "        vertical-align: middle;\n",
       "    }\n",
       "\n",
       "    .dataframe tbody tr th {\n",
       "        vertical-align: top;\n",
       "    }\n",
       "\n",
       "    .dataframe thead th {\n",
       "        text-align: right;\n",
       "    }\n",
       "</style>\n",
       "<table border=\"1\" class=\"dataframe\">\n",
       "  <thead>\n",
       "    <tr style=\"text-align: right;\">\n",
       "      <th></th>\n",
       "      <th>0</th>\n",
       "      <th>1</th>\n",
       "      <th>2</th>\n",
       "      <th>3</th>\n",
       "      <th>4</th>\n",
       "      <th>5</th>\n",
       "      <th>6</th>\n",
       "      <th>7</th>\n",
       "      <th>8</th>\n",
       "      <th>9</th>\n",
       "      <th>...</th>\n",
       "      <th>84472</th>\n",
       "      <th>84473</th>\n",
       "      <th>84474</th>\n",
       "      <th>84475</th>\n",
       "      <th>84476</th>\n",
       "      <th>84477</th>\n",
       "      <th>84478</th>\n",
       "      <th>84479</th>\n",
       "      <th>labels</th>\n",
       "      <th>y</th>\n",
       "    </tr>\n",
       "  </thead>\n",
       "  <tbody>\n",
       "    <tr>\n",
       "      <th>0</th>\n",
       "      <td>-24.185581</td>\n",
       "      <td>-27.340237</td>\n",
       "      <td>-27.214727</td>\n",
       "      <td>-23.694857</td>\n",
       "      <td>-10.349419</td>\n",
       "      <td>-11.817766</td>\n",
       "      <td>-19.678226</td>\n",
       "      <td>-26.396507</td>\n",
       "      <td>-25.827953</td>\n",
       "      <td>-30.779963</td>\n",
       "      <td>...</td>\n",
       "      <td>0.0</td>\n",
       "      <td>0.0</td>\n",
       "      <td>0.0</td>\n",
       "      <td>0.0</td>\n",
       "      <td>0.0</td>\n",
       "      <td>0.0</td>\n",
       "      <td>0.0</td>\n",
       "      <td>0.0</td>\n",
       "      <td>reggae</td>\n",
       "      <td>9</td>\n",
       "    </tr>\n",
       "    <tr>\n",
       "      <th>1</th>\n",
       "      <td>-34.482864</td>\n",
       "      <td>-29.062458</td>\n",
       "      <td>-34.239838</td>\n",
       "      <td>-41.848854</td>\n",
       "      <td>-38.884560</td>\n",
       "      <td>-46.740932</td>\n",
       "      <td>-41.780075</td>\n",
       "      <td>-42.449265</td>\n",
       "      <td>-37.310295</td>\n",
       "      <td>-38.989906</td>\n",
       "      <td>...</td>\n",
       "      <td>0.0</td>\n",
       "      <td>0.0</td>\n",
       "      <td>0.0</td>\n",
       "      <td>0.0</td>\n",
       "      <td>0.0</td>\n",
       "      <td>0.0</td>\n",
       "      <td>0.0</td>\n",
       "      <td>0.0</td>\n",
       "      <td>jazz</td>\n",
       "      <td>6</td>\n",
       "    </tr>\n",
       "    <tr>\n",
       "      <th>2</th>\n",
       "      <td>-31.571878</td>\n",
       "      <td>-38.357210</td>\n",
       "      <td>-37.502674</td>\n",
       "      <td>-32.508842</td>\n",
       "      <td>-22.891088</td>\n",
       "      <td>-28.224280</td>\n",
       "      <td>-33.885254</td>\n",
       "      <td>-35.000267</td>\n",
       "      <td>-35.614574</td>\n",
       "      <td>-36.325577</td>\n",
       "      <td>...</td>\n",
       "      <td>0.0</td>\n",
       "      <td>0.0</td>\n",
       "      <td>0.0</td>\n",
       "      <td>0.0</td>\n",
       "      <td>0.0</td>\n",
       "      <td>0.0</td>\n",
       "      <td>0.0</td>\n",
       "      <td>0.0</td>\n",
       "      <td>disco</td>\n",
       "      <td>4</td>\n",
       "    </tr>\n",
       "    <tr>\n",
       "      <th>3</th>\n",
       "      <td>-38.706380</td>\n",
       "      <td>-58.008110</td>\n",
       "      <td>-51.764940</td>\n",
       "      <td>-48.831757</td>\n",
       "      <td>-54.745650</td>\n",
       "      <td>-56.272590</td>\n",
       "      <td>-52.029984</td>\n",
       "      <td>-54.152860</td>\n",
       "      <td>-57.492695</td>\n",
       "      <td>-55.962650</td>\n",
       "      <td>...</td>\n",
       "      <td>0.0</td>\n",
       "      <td>0.0</td>\n",
       "      <td>0.0</td>\n",
       "      <td>0.0</td>\n",
       "      <td>0.0</td>\n",
       "      <td>0.0</td>\n",
       "      <td>0.0</td>\n",
       "      <td>0.0</td>\n",
       "      <td>jazz</td>\n",
       "      <td>6</td>\n",
       "    </tr>\n",
       "    <tr>\n",
       "      <th>4</th>\n",
       "      <td>-13.395082</td>\n",
       "      <td>-22.886148</td>\n",
       "      <td>-39.371693</td>\n",
       "      <td>-39.873516</td>\n",
       "      <td>-44.111927</td>\n",
       "      <td>-41.430832</td>\n",
       "      <td>-35.432774</td>\n",
       "      <td>-43.907005</td>\n",
       "      <td>-44.259710</td>\n",
       "      <td>-45.559254</td>\n",
       "      <td>...</td>\n",
       "      <td>0.0</td>\n",
       "      <td>0.0</td>\n",
       "      <td>0.0</td>\n",
       "      <td>0.0</td>\n",
       "      <td>0.0</td>\n",
       "      <td>0.0</td>\n",
       "      <td>0.0</td>\n",
       "      <td>0.0</td>\n",
       "      <td>disco</td>\n",
       "      <td>4</td>\n",
       "    </tr>\n",
       "  </tbody>\n",
       "</table>\n",
       "<p>5 rows × 84482 columns</p>\n",
       "</div>"
      ],
      "text/plain": [
       "           0          1          2          3          4          5  \\\n",
       "0 -24.185581 -27.340237 -27.214727 -23.694857 -10.349419 -11.817766   \n",
       "1 -34.482864 -29.062458 -34.239838 -41.848854 -38.884560 -46.740932   \n",
       "2 -31.571878 -38.357210 -37.502674 -32.508842 -22.891088 -28.224280   \n",
       "3 -38.706380 -58.008110 -51.764940 -48.831757 -54.745650 -56.272590   \n",
       "4 -13.395082 -22.886148 -39.371693 -39.873516 -44.111927 -41.430832   \n",
       "\n",
       "           6          7          8          9  ...  84472  84473  84474  \\\n",
       "0 -19.678226 -26.396507 -25.827953 -30.779963  ...    0.0    0.0    0.0   \n",
       "1 -41.780075 -42.449265 -37.310295 -38.989906  ...    0.0    0.0    0.0   \n",
       "2 -33.885254 -35.000267 -35.614574 -36.325577  ...    0.0    0.0    0.0   \n",
       "3 -52.029984 -54.152860 -57.492695 -55.962650  ...    0.0    0.0    0.0   \n",
       "4 -35.432774 -43.907005 -44.259710 -45.559254  ...    0.0    0.0    0.0   \n",
       "\n",
       "   84475  84476  84477  84478  84479  labels  y  \n",
       "0    0.0    0.0    0.0    0.0    0.0  reggae  9  \n",
       "1    0.0    0.0    0.0    0.0    0.0    jazz  6  \n",
       "2    0.0    0.0    0.0    0.0    0.0   disco  4  \n",
       "3    0.0    0.0    0.0    0.0    0.0    jazz  6  \n",
       "4    0.0    0.0    0.0    0.0    0.0   disco  4  \n",
       "\n",
       "[5 rows x 84482 columns]"
      ]
     },
     "execution_count": 4,
     "metadata": {},
     "output_type": "execute_result"
    }
   ],
   "source": [
    "# First 5 rows for reference\n",
    "mel_specs.head()"
   ]
  },
  {
   "cell_type": "markdown",
   "metadata": {},
   "source": [
    "## Data Preprocessing\n",
    "\n",
    "### Function to Get a Subset of the Genres"
   ]
  },
  {
   "cell_type": "code",
   "execution_count": 5,
   "metadata": {},
   "outputs": [],
   "source": [
    "def get_genre_subset(data, genre_subset):\n",
    "    '''\n",
    "    This function takes in a dataframe and a list of genres and returns a new dataframe only including\n",
    "    the genres in the given list. Its index is reset and new labels are created so that the labels are 0 \n",
    "    through one less than the number of genres. \n",
    "    '''\n",
    "    \n",
    "    # Filtering the dataframe for the subset of the genres and resetting the index\n",
    "    df = data.loc[data['labels'].isin(genre_subset)]\n",
    "    df = df.reset_index().drop(columns=['index'])\n",
    "    \n",
    "    # Creating a new label dictionary\n",
    "    new_label_dict = {}\n",
    "    for i in range(len(genre_subset)):\n",
    "        new_label_dict[genre_subset[i]] = i\n",
    "    \n",
    "    # Changing labels to be the new labels\n",
    "    df['y'] = df['labels'].map(new_label_dict)\n",
    "\n",
    "    return df"
   ]
  },
  {
   "cell_type": "markdown",
   "metadata": {},
   "source": [
    "### Function to Preprocess the Features and Targets"
   ]
  },
  {
   "cell_type": "code",
   "execution_count": 6,
   "metadata": {},
   "outputs": [],
   "source": [
    "def preprocess_mel_spec_data(data, genre_subset):\n",
    "    '''\n",
    "    This function takes in a dataframe of audio files and a list of genres,\n",
    "    calls the function get_genre_subset to get a dataframe including only the given genres,\n",
    "    and completes all of the data preprocessing steps needed to run a neural network.\n",
    "    \n",
    "    Preprecessing steps include:\n",
    "    1. Reshaping the mel spectrograms to their original form (128 x 660)\n",
    "    2. Defining the array of targets\n",
    "    3. Train test split\n",
    "    4. Standardizing the data\n",
    "    5. Reshaping the data to be 128 x 660 x 1, where the 1 represents a single color channel\n",
    "    6. One-hot-encoding target data\n",
    "    \n",
    "    Parameters:\n",
    "    data (DataFrame): a dataframe of audio files, flattened mel spectrograms, and genre labels\n",
    "    genre_subset (list): a list of genres included in the dataframe\n",
    "    \n",
    "    Returns:\n",
    "    X_train (array): training set of features\n",
    "    X_test (array): testing set of features\n",
    "    y_train (array): training set of targets\n",
    "    y_test (array): testing set of targets\n",
    "    '''\n",
    "    \n",
    "    # Getting a subset of the genres using our genre_subset function\n",
    "    subset = get_genre_subset(data, genre_subset)\n",
    "    \n",
    "    # Dropping label columns to prepare our feature vector\n",
    "    specs = subset.drop(columns=['labels', 'y'])\n",
    "    \n",
    "    # Reshaping the arrays to their original \"image\" form\n",
    "    X = []\n",
    "    for i in range(len(genre_subset)*100):\n",
    "        X.append(np.array(specs.iloc[i]).reshape(128,660))\n",
    "        \n",
    "    # Converting list X to an array\n",
    "    X = np.array(X)\n",
    "    \n",
    "    # Defining our targets\n",
    "    y = subset.loc[subset['labels'].isin(genre_subset), 'y'].values\n",
    "    \n",
    "    # train test split\n",
    "    X_train, X_test, y_train, y_test = train_test_split(X, y, random_state=42, stratify=y, test_size=.2)\n",
    "    \n",
    "    # Scaling our data to be between 0 and 1\n",
    "    X_train /= -80\n",
    "    X_test /= -80\n",
    "    \n",
    "    # Reshaping images to be 128 x 660 x 1\n",
    "    X_train = X_train.reshape(X_train.shape[0], 128, 660, 1)\n",
    "    X_test = X_test.reshape(X_test.shape[0], 128, 660, 1)\n",
    "    \n",
    "    # One hot encoding our labels\n",
    "    y_train = to_categorical(y_train, len(genre_subset))\n",
    "    y_test = to_categorical(y_test, len(genre_subset))\n",
    "    \n",
    "    return X_train, X_test, y_train, y_test"
   ]
  },
  {
   "cell_type": "code",
   "execution_count": 7,
   "metadata": {},
   "outputs": [],
   "source": [
    "# List of all the genres\n",
    "genre_list = {\n",
    "    'classical': 0,\n",
    "    'hiphop': 1,\n",
    "    'jazz': 2,\n",
    "    'metal': 3,\n",
    "    'pop': 4,\n",
    "    'rock': 5\n",
    "}"
   ]
  },
  {
   "cell_type": "code",
   "execution_count": 8,
   "metadata": {},
   "outputs": [],
   "source": [
    "# List of a subset of the genres\n",
    "genre_subset = [\n",
    "    'hiphop',\n",
    "    'jazz',\n",
    "    'metal',\n",
    "    'pop'\n",
    "]"
   ]
  },
  {
   "cell_type": "code",
   "execution_count": 9,
   "metadata": {},
   "outputs": [],
   "source": [
    "# Using our function to get our features and targets\n",
    "X_train, X_test, y_train, y_test = preprocess_mel_spec_data(mel_specs, genre_subset)"
   ]
  },
  {
   "cell_type": "markdown",
   "metadata": {},
   "source": [
    "## CNN Model for Subset of Genres"
   ]
  },
  {
   "cell_type": "code",
   "execution_count": 23,
   "metadata": {},
   "outputs": [
    {
     "name": "stdout",
     "output_type": "stream",
     "text": [
      "Train on 560 samples, validate on 140 samples\n",
      "Epoch 1/15\n",
      "560/560 [==============================] - 9s 16ms/sample - loss: 1.8997 - accuracy: 0.2321 - val_loss: 1.6767 - val_accuracy: 0.4786\n",
      "Epoch 2/15\n",
      "560/560 [==============================] - 7s 13ms/sample - loss: 1.5573 - accuracy: 0.3821 - val_loss: 1.2844 - val_accuracy: 0.5143\n",
      "Epoch 3/15\n",
      "560/560 [==============================] - 8s 14ms/sample - loss: 1.2515 - accuracy: 0.5107 - val_loss: 1.0868 - val_accuracy: 0.6143\n",
      "Epoch 4/15\n",
      "560/560 [==============================] - 8s 13ms/sample - loss: 1.0465 - accuracy: 0.5946 - val_loss: 1.0620 - val_accuracy: 0.5786\n",
      "Epoch 5/15\n",
      "560/560 [==============================] - 8s 13ms/sample - loss: 0.8966 - accuracy: 0.6661 - val_loss: 0.8558 - val_accuracy: 0.7143\n",
      "Epoch 6/15\n",
      "560/560 [==============================] - 8s 13ms/sample - loss: 0.7738 - accuracy: 0.7518 - val_loss: 0.7752 - val_accuracy: 0.7143\n",
      "Epoch 7/15\n",
      "560/560 [==============================] - 8s 14ms/sample - loss: 0.7329 - accuracy: 0.7411 - val_loss: 0.8297 - val_accuracy: 0.6929\n",
      "Epoch 8/15\n",
      "560/560 [==============================] - 8s 14ms/sample - loss: 0.5573 - accuracy: 0.8125 - val_loss: 0.6663 - val_accuracy: 0.7857\n",
      "Epoch 9/15\n",
      "560/560 [==============================] - 8s 14ms/sample - loss: 0.4562 - accuracy: 0.8625 - val_loss: 0.7147 - val_accuracy: 0.7643\n",
      "Epoch 10/15\n",
      "560/560 [==============================] - 8s 14ms/sample - loss: 0.4599 - accuracy: 0.8607 - val_loss: 0.6388 - val_accuracy: 0.7500\n",
      "Epoch 11/15\n",
      "560/560 [==============================] - 8s 14ms/sample - loss: 0.3405 - accuracy: 0.8875 - val_loss: 0.7339 - val_accuracy: 0.6857\n",
      "Epoch 12/15\n",
      "560/560 [==============================] - 8s 14ms/sample - loss: 0.2887 - accuracy: 0.9036 - val_loss: 0.6064 - val_accuracy: 0.8286\n",
      "Epoch 13/15\n",
      "560/560 [==============================] - 8s 14ms/sample - loss: 0.2751 - accuracy: 0.9071 - val_loss: 0.6423 - val_accuracy: 0.7714\n",
      "Epoch 14/15\n",
      "560/560 [==============================] - 8s 14ms/sample - loss: 0.2270 - accuracy: 0.9304 - val_loss: 0.7626 - val_accuracy: 0.7714\n",
      "Epoch 15/15\n",
      "560/560 [==============================] - 8s 14ms/sample - loss: 0.2210 - accuracy: 0.9304 - val_loss: 0.5821 - val_accuracy: 0.8143\n"
     ]
    }
   ],
   "source": [
    "np.random.seed(23456)\n",
    "\n",
    "# Initiating an empty neural network\n",
    "cnn_model = Sequential(name='cnn_1')\n",
    "\n",
    "# Adding convolutional layer\n",
    "cnn_model.add(Conv2D(filters=16,\n",
    "                     kernel_size=(3,3),\n",
    "                     activation='relu',\n",
    "                     input_shape=(128,660,1)))\n",
    "\n",
    "# Adding max pooling layer\n",
    "cnn_model.add(MaxPooling2D(pool_size=(2,4)))\n",
    "\n",
    "# Adding convolutional layer\n",
    "cnn_model.add(Conv2D(filters=32,\n",
    "                     kernel_size=(3,3),\n",
    "                     activation='relu'))\n",
    "\n",
    "# Adding max pooling layer\n",
    "cnn_model.add(MaxPooling2D(pool_size=(2,4)))\n",
    "\n",
    "# Adding a flattened layer to input our image data\n",
    "cnn_model.add(Flatten())\n",
    "\n",
    "# Adding a dense layer with 64 neurons\n",
    "cnn_model.add(Dense(64, activation='relu'))\n",
    "\n",
    "# Adding a dropout layer for regularization\n",
    "cnn_model.add(Dropout(0.25))\n",
    "\n",
    "# Adding an output layer\n",
    "cnn_model.add(Dense(7, activation='softmax'))\n",
    "\n",
    "# Compiling our neural network\n",
    "cnn_model.compile(loss='categorical_crossentropy',\n",
    "                  optimizer='adam',\n",
    "                  metrics=['accuracy'])\n",
    "\n",
    "# Fitting our neural network\n",
    "history = cnn_model.fit(X_train,\n",
    "                        y_train, \n",
    "                        batch_size=16,\n",
    "                        validation_data=(X_test, y_test),\n",
    "                        epochs=15)"
   ]
  },
  {
   "cell_type": "code",
   "execution_count": 24,
   "metadata": {},
   "outputs": [
    {
     "name": "stdout",
     "output_type": "stream",
     "text": [
      "Model: \"cnn_1\"\n",
      "_________________________________________________________________\n",
      "Layer (type)                 Output Shape              Param #   \n",
      "=================================================================\n",
      "conv2d_2 (Conv2D)            (None, 126, 658, 16)      160       \n",
      "_________________________________________________________________\n",
      "max_pooling2d_2 (MaxPooling2 (None, 63, 164, 16)       0         \n",
      "_________________________________________________________________\n",
      "conv2d_3 (Conv2D)            (None, 61, 162, 32)       4640      \n",
      "_________________________________________________________________\n",
      "max_pooling2d_3 (MaxPooling2 (None, 30, 40, 32)        0         \n",
      "_________________________________________________________________\n",
      "flatten_1 (Flatten)          (None, 38400)             0         \n",
      "_________________________________________________________________\n",
      "dense_2 (Dense)              (None, 64)                2457664   \n",
      "_________________________________________________________________\n",
      "dropout_1 (Dropout)          (None, 64)                0         \n",
      "_________________________________________________________________\n",
      "dense_3 (Dense)              (None, 7)                 455       \n",
      "=================================================================\n",
      "Total params: 2,462,919\n",
      "Trainable params: 2,462,919\n",
      "Non-trainable params: 0\n",
      "_________________________________________________________________\n"
     ]
    }
   ],
   "source": [
    "# Checking the model summary\n",
    "cnn_model.summary()"
   ]
  },
  {
   "cell_type": "code",
   "execution_count": 25,
   "metadata": {},
   "outputs": [
    {
     "data": {
      "image/png": "[encoded data removed]",
      "text/plain": [
       "<Figure size 864x576 with 1 Axes>"
      ]
     },
     "metadata": {
      "needs_background": "light"
     },
     "output_type": "display_data"
    }
   ],
   "source": [
    "# The code in this cell was adapted from a lecture at General Assembly\n",
    "\n",
    "# Check out our train loss and test loss over epochs.\n",
    "train_loss = history.history['loss']\n",
    "test_loss = history.history['val_loss']\n",
    "\n",
    "# Set figure size.\n",
    "plt.figure(figsize=(12, 8))\n",
    "\n",
    "# Generate line plot of training, testing loss over epochs.\n",
    "plt.plot(train_loss, label='Training Loss', color='blue')\n",
    "plt.plot(test_loss, label='Testing Loss', color='red')\n",
    "\n",
    "# Set title\n",
    "plt.title('Training and Testing Loss by Epoch', fontsize = 25)\n",
    "plt.xlabel('Epoch', fontsize = 18)\n",
    "plt.ylabel('Categorical Crossentropy', fontsize = 18)\n",
    "plt.xticks(range(1,11), range(1,11))\n",
    "\n",
    "plt.legend(fontsize = 18);"
   ]
  },
  {
   "cell_type": "code",
   "execution_count": 26,
   "metadata": {},
   "outputs": [
    {
     "name": "stdout",
     "output_type": "stream",
     "text": [
      "140/140 [==============================] - 1s 4ms/sample\n"
     ]
    }
   ],
   "source": [
    "# Making predictions from the cnn model\n",
    "predictions = cnn_model.predict(X_test, verbose=1)"
   ]
  },
  {
   "cell_type": "markdown",
   "metadata": {},
   "source": [
    "### Confusion Matrix"
   ]
  },
  {
   "cell_type": "code",
   "execution_count": 27,
   "metadata": {},
   "outputs": [
    {
     "data": {
      "text/plain": [
       "array([[17,  0,  1,  0,  2,  0,  0],\n",
       "       [ 0, 17,  0,  1,  0,  2,  0],\n",
       "       [ 2,  1, 13,  0,  1,  1,  2],\n",
       "       [ 0,  2,  0, 17,  0,  1,  0],\n",
       "       [ 0,  0,  0,  0, 20,  0,  0],\n",
       "       [ 0,  2,  1,  0,  1, 14,  2],\n",
       "       [ 2,  0,  0,  0,  0,  2, 16]])"
      ]
     },
     "execution_count": 27,
     "metadata": {},
     "output_type": "execute_result"
    }
   ],
   "source": [
    "# Calculating the confusion matrix \n",
    "# row: actual\n",
    "# columns: predicted\n",
    "conf_matrix = confusion_matrix(np.argmax(y_test, 1), np.argmax(predictions, 1))\n",
    "conf_matrix"
   ]
  },
  {
   "cell_type": "code",
   "execution_count": 28,
   "metadata": {},
   "outputs": [
    {
     "data": {
      "text/html": [
       "<div>\n",
       "<style scoped>\n",
       "    .dataframe tbody tr th:only-of-type {\n",
       "        vertical-align: middle;\n",
       "    }\n",
       "\n",
       "    .dataframe tbody tr th {\n",
       "        vertical-align: top;\n",
       "    }\n",
       "\n",
       "    .dataframe thead th {\n",
       "        text-align: right;\n",
       "    }\n",
       "</style>\n",
       "<table border=\"1\" class=\"dataframe\">\n",
       "  <thead>\n",
       "    <tr style=\"text-align: right;\">\n",
       "      <th></th>\n",
       "      <th>0</th>\n",
       "      <th>1</th>\n",
       "      <th>2</th>\n",
       "      <th>3</th>\n",
       "      <th>4</th>\n",
       "      <th>5</th>\n",
       "      <th>6</th>\n",
       "    </tr>\n",
       "  </thead>\n",
       "  <tbody>\n",
       "    <tr>\n",
       "      <th>0</th>\n",
       "      <td>17</td>\n",
       "      <td>0</td>\n",
       "      <td>1</td>\n",
       "      <td>0</td>\n",
       "      <td>2</td>\n",
       "      <td>0</td>\n",
       "      <td>0</td>\n",
       "    </tr>\n",
       "    <tr>\n",
       "      <th>1</th>\n",
       "      <td>0</td>\n",
       "      <td>17</td>\n",
       "      <td>0</td>\n",
       "      <td>1</td>\n",
       "      <td>0</td>\n",
       "      <td>2</td>\n",
       "      <td>0</td>\n",
       "    </tr>\n",
       "    <tr>\n",
       "      <th>2</th>\n",
       "      <td>2</td>\n",
       "      <td>1</td>\n",
       "      <td>13</td>\n",
       "      <td>0</td>\n",
       "      <td>1</td>\n",
       "      <td>1</td>\n",
       "      <td>2</td>\n",
       "    </tr>\n",
       "    <tr>\n",
       "      <th>3</th>\n",
       "      <td>0</td>\n",
       "      <td>2</td>\n",
       "      <td>0</td>\n",
       "      <td>17</td>\n",
       "      <td>0</td>\n",
       "      <td>1</td>\n",
       "      <td>0</td>\n",
       "    </tr>\n",
       "    <tr>\n",
       "      <th>4</th>\n",
       "      <td>0</td>\n",
       "      <td>0</td>\n",
       "      <td>0</td>\n",
       "      <td>0</td>\n",
       "      <td>20</td>\n",
       "      <td>0</td>\n",
       "      <td>0</td>\n",
       "    </tr>\n",
       "    <tr>\n",
       "      <th>5</th>\n",
       "      <td>0</td>\n",
       "      <td>2</td>\n",
       "      <td>1</td>\n",
       "      <td>0</td>\n",
       "      <td>1</td>\n",
       "      <td>14</td>\n",
       "      <td>2</td>\n",
       "    </tr>\n",
       "    <tr>\n",
       "      <th>6</th>\n",
       "      <td>2</td>\n",
       "      <td>0</td>\n",
       "      <td>0</td>\n",
       "      <td>0</td>\n",
       "      <td>0</td>\n",
       "      <td>2</td>\n",
       "      <td>16</td>\n",
       "    </tr>\n",
       "  </tbody>\n",
       "</table>\n",
       "</div>"
      ],
      "text/plain": [
       "    0   1   2   3   4   5   6\n",
       "0  17   0   1   0   2   0   0\n",
       "1   0  17   0   1   0   2   0\n",
       "2   2   1  13   0   1   1   2\n",
       "3   0   2   0  17   0   1   0\n",
       "4   0   0   0   0  20   0   0\n",
       "5   0   2   1   0   1  14   2\n",
       "6   2   0   0   0   0   2  16"
      ]
     },
     "execution_count": 28,
     "metadata": {},
     "output_type": "execute_result"
    }
   ],
   "source": [
    "# Creating a dataframe of the confusion matrix with labels for readability \n",
    "confusion_df = pd.DataFrame(conf_matrix)\n",
    "confusion_df"
   ]
  },
  {
   "cell_type": "code",
   "execution_count": 29,
   "metadata": {},
   "outputs": [],
   "source": [
    "# List of a subset of the genres\n",
    "genre_labels = [\n",
    "    0:'hiphop',\n",
    "    1:'jazz',\n",
    "    2:'meta',\n",
    "    3:'pop'\n",
    "]\n",
    "\n",
    "genre_subset = [\n",
    "    'hiphop',\n",
    "    'jazz',\n",
    "    'metal',\n",
    "    'pop'\n",
    "]"
   ]
  },
  {
   "cell_type": "code",
   "execution_count": null,
   "metadata": {},
   "outputs": [],
   "source": []
  },
  {
   "cell_type": "code",
   "execution_count": 30,
   "metadata": {},
   "outputs": [
    {
     "data": {
      "text/html": [
       "<div>\n",
       "<style scoped>\n",
       "    .dataframe tbody tr th:only-of-type {\n",
       "        vertical-align: middle;\n",
       "    }\n",
       "\n",
       "    .dataframe tbody tr th {\n",
       "        vertical-align: top;\n",
       "    }\n",
       "\n",
       "    .dataframe thead th {\n",
       "        text-align: right;\n",
       "    }\n",
       "</style>\n",
       "<table border=\"1\" class=\"dataframe\">\n",
       "  <thead>\n",
       "    <tr style=\"text-align: right;\">\n",
       "      <th></th>\n",
       "      <th>jazz</th>\n",
       "      <th>hiphop</th>\n",
       "      <th>country</th>\n",
       "      <th>metal</th>\n",
       "      <th>classical</th>\n",
       "      <th>disco</th>\n",
       "      <th>pop</th>\n",
       "    </tr>\n",
       "  </thead>\n",
       "  <tbody>\n",
       "    <tr>\n",
       "      <th>jazz</th>\n",
       "      <td>17</td>\n",
       "      <td>0</td>\n",
       "      <td>1</td>\n",
       "      <td>0</td>\n",
       "      <td>2</td>\n",
       "      <td>0</td>\n",
       "      <td>0</td>\n",
       "    </tr>\n",
       "    <tr>\n",
       "      <th>hiphop</th>\n",
       "      <td>0</td>\n",
       "      <td>17</td>\n",
       "      <td>0</td>\n",
       "      <td>1</td>\n",
       "      <td>0</td>\n",
       "      <td>2</td>\n",
       "      <td>0</td>\n",
       "    </tr>\n",
       "    <tr>\n",
       "      <th>country</th>\n",
       "      <td>2</td>\n",
       "      <td>1</td>\n",
       "      <td>13</td>\n",
       "      <td>0</td>\n",
       "      <td>1</td>\n",
       "      <td>1</td>\n",
       "      <td>2</td>\n",
       "    </tr>\n",
       "    <tr>\n",
       "      <th>metal</th>\n",
       "      <td>0</td>\n",
       "      <td>2</td>\n",
       "      <td>0</td>\n",
       "      <td>17</td>\n",
       "      <td>0</td>\n",
       "      <td>1</td>\n",
       "      <td>0</td>\n",
       "    </tr>\n",
       "    <tr>\n",
       "      <th>classical</th>\n",
       "      <td>0</td>\n",
       "      <td>0</td>\n",
       "      <td>0</td>\n",
       "      <td>0</td>\n",
       "      <td>20</td>\n",
       "      <td>0</td>\n",
       "      <td>0</td>\n",
       "    </tr>\n",
       "    <tr>\n",
       "      <th>disco</th>\n",
       "      <td>0</td>\n",
       "      <td>2</td>\n",
       "      <td>1</td>\n",
       "      <td>0</td>\n",
       "      <td>1</td>\n",
       "      <td>14</td>\n",
       "      <td>2</td>\n",
       "    </tr>\n",
       "    <tr>\n",
       "      <th>pop</th>\n",
       "      <td>2</td>\n",
       "      <td>0</td>\n",
       "      <td>0</td>\n",
       "      <td>0</td>\n",
       "      <td>0</td>\n",
       "      <td>2</td>\n",
       "      <td>16</td>\n",
       "    </tr>\n",
       "  </tbody>\n",
       "</table>\n",
       "</div>"
      ],
      "text/plain": [
       "           jazz  hiphop  country  metal  classical  disco  pop\n",
       "jazz         17       0        1      0          2      0    0\n",
       "hiphop        0      17        0      1          0      2    0\n",
       "country       2       1       13      0          1      1    2\n",
       "metal         0       2        0     17          0      1    0\n",
       "classical     0       0        0      0         20      0    0\n",
       "disco         0       2        1      0          1     14    2\n",
       "pop           2       0        0      0          0      2   16"
      ]
     },
     "execution_count": 30,
     "metadata": {},
     "output_type": "execute_result"
    }
   ],
   "source": [
    "# Renaming rows and columns with labes\n",
    "confusion_df = confusion_df.rename(columns=genre_labels)\n",
    "confusion_df.index = confusion_df.columns\n",
    "confusion_df"
   ]
  },
  {
   "cell_type": "markdown",
   "metadata": {},
   "source": [
    "## CNN Model for Binary Classification of Genres"
   ]
  },
  {
   "cell_type": "code",
   "execution_count": 10,
   "metadata": {},
   "outputs": [],
   "source": [
    "# List of a subset of the genres\n",
    "genre_subset_2 = [\n",
    "    'metal',\n",
    "    'classical'\n",
    "]"
   ]
  },
  {
   "cell_type": "code",
   "execution_count": 11,
   "metadata": {},
   "outputs": [],
   "source": [
    "# Using our function to get our features and targets\n",
    "X_train, X_test, y_train, y_test = preprocess_mel_spec_data(mel_specs, genre_subset_2)"
   ]
  },
  {
   "cell_type": "code",
   "execution_count": 13,
   "metadata": {},
   "outputs": [
    {
     "name": "stdout",
     "output_type": "stream",
     "text": [
      "Train on 160 samples, validate on 40 samples\n",
      "Epoch 1/15\n",
      "160/160 [==============================] - 3s 16ms/sample - loss: 1.1331 - accuracy: 0.4500 - val_loss: 0.6777 - val_accuracy: 0.5000\n",
      "Epoch 2/15\n",
      "160/160 [==============================] - 2s 15ms/sample - loss: 0.6458 - accuracy: 0.5750 - val_loss: 0.6123 - val_accuracy: 0.6250\n",
      "Epoch 3/15\n",
      "160/160 [==============================] - 3s 16ms/sample - loss: 0.5704 - accuracy: 0.6812 - val_loss: 0.4934 - val_accuracy: 0.9500\n",
      "Epoch 4/15\n",
      "160/160 [==============================] - 2s 15ms/sample - loss: 0.4385 - accuracy: 0.8562 - val_loss: 0.3548 - val_accuracy: 0.9500\n",
      "Epoch 5/15\n",
      "160/160 [==============================] - 2s 13ms/sample - loss: 0.2824 - accuracy: 0.9312 - val_loss: 0.1859 - val_accuracy: 0.9750\n",
      "Epoch 6/15\n",
      "160/160 [==============================] - 2s 13ms/sample - loss: 0.1794 - accuracy: 0.9500 - val_loss: 0.1556 - val_accuracy: 0.9250\n",
      "Epoch 7/15\n",
      "160/160 [==============================] - 2s 13ms/sample - loss: 0.1274 - accuracy: 0.9625 - val_loss: 0.1492 - val_accuracy: 0.9250\n",
      "Epoch 8/15\n",
      "160/160 [==============================] - 2s 14ms/sample - loss: 0.0987 - accuracy: 0.9625 - val_loss: 0.1047 - val_accuracy: 0.9500\n",
      "Epoch 9/15\n",
      "160/160 [==============================] - 2s 13ms/sample - loss: 0.0680 - accuracy: 0.9750 - val_loss: 0.0839 - val_accuracy: 0.9750\n",
      "Epoch 10/15\n",
      "160/160 [==============================] - 2s 14ms/sample - loss: 0.0825 - accuracy: 0.9750 - val_loss: 0.0512 - val_accuracy: 0.9750\n",
      "Epoch 11/15\n",
      "160/160 [==============================] - 2s 13ms/sample - loss: 0.0553 - accuracy: 0.9750 - val_loss: 0.0808 - val_accuracy: 0.9750\n",
      "Epoch 12/15\n",
      "160/160 [==============================] - 2s 13ms/sample - loss: 0.0538 - accuracy: 0.9875 - val_loss: 0.1025 - val_accuracy: 0.9500\n",
      "Epoch 13/15\n",
      "160/160 [==============================] - 2s 13ms/sample - loss: 0.0250 - accuracy: 1.0000 - val_loss: 0.0244 - val_accuracy: 1.0000\n",
      "Epoch 14/15\n",
      "160/160 [==============================] - 2s 14ms/sample - loss: 0.0230 - accuracy: 0.9875 - val_loss: 0.0663 - val_accuracy: 0.9750\n",
      "Epoch 15/15\n",
      "160/160 [==============================] - 2s 14ms/sample - loss: 0.0189 - accuracy: 1.0000 - val_loss: 0.0175 - val_accuracy: 1.0000\n"
     ]
    }
   ],
   "source": [
    "np.random.seed(23456)\n",
    "\n",
    "# Initiating an empty neural network\n",
    "cnn_model_2 = Sequential(name='cnn_2')\n",
    "\n",
    "# Adding convolutional layer\n",
    "cnn_model_2.add(Conv2D(filters=16,\n",
    "                     kernel_size=(3,3),\n",
    "                     activation='relu',\n",
    "                     input_shape=(128,660,1)))\n",
    "\n",
    "# Adding max pooling layer\n",
    "cnn_model_2.add(MaxPooling2D(pool_size=(2,4)))\n",
    "\n",
    "# Adding convolutional layer\n",
    "cnn_model_2.add(Conv2D(filters=32,\n",
    "                     kernel_size=(3,3),\n",
    "                     activation='relu'))\n",
    "\n",
    "# Adding max pooling layer\n",
    "cnn_model_2.add(MaxPooling2D(pool_size=(2,4)))\n",
    "\n",
    "# Adding a flattened layer to input our image data\n",
    "cnn_model_2.add(Flatten())\n",
    "\n",
    "# Adding a dense layer with 64 neurons\n",
    "cnn_model_2.add(Dense(64, activation='relu'))\n",
    "\n",
    "# Adding a dropout layer for regularization\n",
    "cnn_model_2.add(Dropout(0.25))\n",
    "\n",
    "# Adding an output layer\n",
    "cnn_model_2.add(Dense(2, activation='softmax'))\n",
    "\n",
    "# Compiling our neural network\n",
    "cnn_model_2.compile(loss='categorical_crossentropy',\n",
    "                  optimizer='adam',\n",
    "                  metrics=['accuracy'])\n",
    "\n",
    "# Fitting our neural network\n",
    "history = cnn_model_2.fit(X_train,\n",
    "                        y_train, \n",
    "                        batch_size=16,\n",
    "                        validation_data=(X_test, y_test),\n",
    "                        epochs=15)"
   ]
  },
  {
   "cell_type": "code",
   "execution_count": 14,
   "metadata": {},
   "outputs": [
    {
     "name": "stdout",
     "output_type": "stream",
     "text": [
      "Model: \"cnn_2\"\n",
      "_________________________________________________________________\n",
      "Layer (type)                 Output Shape              Param #   \n",
      "=================================================================\n",
      "conv2d_2 (Conv2D)            (None, 126, 658, 16)      160       \n",
      "_________________________________________________________________\n",
      "max_pooling2d_2 (MaxPooling2 (None, 63, 164, 16)       0         \n",
      "_________________________________________________________________\n",
      "conv2d_3 (Conv2D)            (None, 61, 162, 32)       4640      \n",
      "_________________________________________________________________\n",
      "max_pooling2d_3 (MaxPooling2 (None, 30, 40, 32)        0         \n",
      "_________________________________________________________________\n",
      "flatten_1 (Flatten)          (None, 38400)             0         \n",
      "_________________________________________________________________\n",
      "dense_2 (Dense)              (None, 64)                2457664   \n",
      "_________________________________________________________________\n",
      "dropout_1 (Dropout)          (None, 64)                0         \n",
      "_________________________________________________________________\n",
      "dense_3 (Dense)              (None, 2)                 130       \n",
      "=================================================================\n",
      "Total params: 2,462,594\n",
      "Trainable params: 2,462,594\n",
      "Non-trainable params: 0\n",
      "_________________________________________________________________\n"
     ]
    }
   ],
   "source": [
    "# Checking the model summary\n",
    "cnn_model_2.summary()"
   ]
  },
  {
   "cell_type": "code",
   "execution_count": 15,
   "metadata": {},
   "outputs": [
    {
     "data": {
      "image/png": "[encoded data removed]",
      "text/plain": [
       "<Figure size 864x576 with 1 Axes>"
      ]
     },
     "metadata": {
      "needs_background": "light"
     },
     "output_type": "display_data"
    }
   ],
   "source": [
    "# The code in this cell was adapted from a lecture at General Assembly\n",
    "\n",
    "# Check out our train loss and test loss over epochs.\n",
    "train_loss = history.history['loss']\n",
    "test_loss = history.history['val_loss']\n",
    "\n",
    "# Set figure size.\n",
    "plt.figure(figsize=(12, 8))\n",
    "\n",
    "# Generate line plot of training, testing loss over epochs.\n",
    "plt.plot(train_loss, label='Training Loss', color='blue')\n",
    "plt.plot(test_loss, label='Testing Loss', color='red')\n",
    "\n",
    "# Set title\n",
    "plt.title('Training and Testing Loss by Epoch', fontsize = 25)\n",
    "plt.xlabel('Epoch', fontsize = 18)\n",
    "plt.ylabel('Categorical Crossentropy', fontsize = 18)\n",
    "plt.xticks(range(1,11), range(1,11))\n",
    "\n",
    "plt.legend(fontsize = 18);"
   ]
  },
  {
   "cell_type": "code",
   "execution_count": 16,
   "metadata": {},
   "outputs": [
    {
     "name": "stdout",
     "output_type": "stream",
     "text": [
      "40/40 [==============================] - 0s 5ms/sample\n"
     ]
    }
   ],
   "source": [
    "# Making predictions from the cnn model\n",
    "predictions_2 = cnn_model_2.predict(X_test, verbose=1)"
   ]
  },
  {
   "cell_type": "markdown",
   "metadata": {},
   "source": [
    "### Confusion Matrix"
   ]
  },
  {
   "cell_type": "code",
   "execution_count": 17,
   "metadata": {},
   "outputs": [
    {
     "data": {
      "text/plain": [
       "array([[20,  0],\n",
       "       [ 0, 20]])"
      ]
     },
     "execution_count": 17,
     "metadata": {},
     "output_type": "execute_result"
    }
   ],
   "source": [
    "# Calculating the confusion matrix \n",
    "# row: actual\n",
    "# columns: predicted\n",
    "conf_matrix_2 = confusion_matrix(np.argmax(y_test, 1), np.argmax(predictions_2, 1))\n",
    "conf_matrix_2"
   ]
  },
  {
   "cell_type": "code",
   "execution_count": 18,
   "metadata": {},
   "outputs": [],
   "source": [
    "# Creating a dataframe of the confusion matrix with labels for readability \n",
    "confusion_df_2 = pd.DataFrame(conf_matrix_2)"
   ]
  },
  {
   "cell_type": "code",
   "execution_count": 20,
   "metadata": {},
   "outputs": [],
   "source": [
    "# List of a subset of the genres\n",
    "genre_labels_2 = {\n",
    "    0:'metal',\n",
    "    1:'classical'\n",
    "}"
   ]
  },
  {
   "cell_type": "code",
   "execution_count": 21,
   "metadata": {},
   "outputs": [
    {
     "data": {
      "text/html": [
       "<div>\n",
       "<style scoped>\n",
       "    .dataframe tbody tr th:only-of-type {\n",
       "        vertical-align: middle;\n",
       "    }\n",
       "\n",
       "    .dataframe tbody tr th {\n",
       "        vertical-align: top;\n",
       "    }\n",
       "\n",
       "    .dataframe thead th {\n",
       "        text-align: right;\n",
       "    }\n",
       "</style>\n",
       "<table border=\"1\" class=\"dataframe\">\n",
       "  <thead>\n",
       "    <tr style=\"text-align: right;\">\n",
       "      <th></th>\n",
       "      <th>metal</th>\n",
       "      <th>classical</th>\n",
       "    </tr>\n",
       "  </thead>\n",
       "  <tbody>\n",
       "    <tr>\n",
       "      <th>metal</th>\n",
       "      <td>20</td>\n",
       "      <td>0</td>\n",
       "    </tr>\n",
       "    <tr>\n",
       "      <th>classical</th>\n",
       "      <td>0</td>\n",
       "      <td>20</td>\n",
       "    </tr>\n",
       "  </tbody>\n",
       "</table>\n",
       "</div>"
      ],
      "text/plain": [
       "           metal  classical\n",
       "metal         20          0\n",
       "classical      0         20"
      ]
     },
     "execution_count": 21,
     "metadata": {},
     "output_type": "execute_result"
    }
   ],
   "source": [
    "# Renaming rows and columns with labes\n",
    "confusion_df_2 = confusion_df_2.rename(columns=genre_labels_2)\n",
    "confusion_df_2.index = confusion_df_2.columns\n",
    "confusion_df_2"
   ]
  },
  {
   "cell_type": "code",
   "execution_count": null,
   "metadata": {},
   "outputs": [],
   "source": []
  }
 ],
 "metadata": {
  "kernelspec": {
   "display_name": "Python 3",
   "language": "python",
   "name": "python3"
  },
  "language_info": {
   "codemirror_mode": {
    "name": "ipython",
    "version": 3
   },
   "file_extension": ".py",
   "mimetype": "text/x-python",
   "name": "python",
   "nbconvert_exporter": "python",
   "pygments_lexer": "ipython3",
   "version": "3.7.7"
  }
 },
 "nbformat": 4,
 "nbformat_minor": 2
}
