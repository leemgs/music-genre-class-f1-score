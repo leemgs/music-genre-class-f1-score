{
 "cells": [
  {
   "cell_type": "markdown",
   "metadata": {},
   "source": [
    "### Script reads from fft and mfcc files and trains using logistic regression and knn\n",
    "* Author: Geunsik Lim <leemgs@gmail.com> \n",
    "* IN: Paths to directories consisting of FFT files, and MFCC files.\n",
    "* OUT: Splits dataset as per code into train and test sets, performs training and tests. Displays classification accuracy along with confusion matrix.\n",
    "* Run instructions:  $ python train-classify.py path_dir1 path_dir2 \n",
    "* Note: \n",
    "1. Where path_dir1 is the base_dir that consists of subdirs consisting of fft files. path_dir2 is the base-dir that consists of subdirs consisting of mfcc files.\n",
    "2. Use ONLY absolute paths. \n"
   ]
  },
  {
   "cell_type": "code",
   "execution_count": 1,
   "metadata": {},
   "outputs": [],
   "source": [
    "import sklearn \n",
    "from sklearn import linear_model\n",
    "from sklearn.neighbors import KNeighborsClassifier\n",
    "# from sklearn.cross_validation import train_test_split\n",
    "from sklearn.model_selection import train_test_split\n",
    "from sklearn.metrics import confusion_matrix\n",
    "from sklearn.metrics import classification_report\n",
    "from sklearn.metrics import accuracy_score\n",
    "import matplotlib.pyplot as plt\n",
    "import scipy\n",
    "import os\n",
    "import sys\n",
    "import glob\n",
    "import numpy as np\n"
   ]
  },
  {
   "cell_type": "markdown",
   "metadata": {},
   "source": [
    "Reads FFT-files and prepares X_train and y_train. genre_list must consist of names of folders/genres consisting of the required FFT-files. base_dir must contain genre_list of directories"
   ]
  },
  {
   "cell_type": "code",
   "execution_count": 2,
   "metadata": {},
   "outputs": [],
   "source": [
    "\n",
    "def read_fft(genre_list, base_dir):\n",
    "\tX = []\n",
    "\ty = []\n",
    "\tfor label, genre in enumerate(genre_list):\n",
    "\t\t# create UNIX pathnames to id FFT-files.\n",
    "\t\tgenre_dir = os.path.join(base_dir, genre, \"*.fft.npy\")\n",
    "\t\t# get path names that math genre-dir\n",
    "\t\tfile_list = glob.glob(genre_dir)\n",
    "\t\tfor file in file_list:\n",
    "\t\t\tfft_features = np.load(file)\n",
    "\t\t\tX.append(fft_features)\n",
    "\t\t\ty.append(label)\n",
    "\t\n",
    "\t# print(X)\n",
    "\t# print(y)\n",
    "\t# print(len(X))\n",
    "\t# print(len(y))\n",
    "\n",
    "\treturn np.array(X), np.array(y)\n"
   ]
  },
  {
   "cell_type": "markdown",
   "metadata": {},
   "source": [
    "Rreads MFCC-files and prepares X_train and y_train.\n",
    "genre_list must consist of names of folders/genres consisting of the required MFCC-files\n",
    "base_dir must contain genre_list of directories"
   ]
  },
  {
   "cell_type": "code",
   "execution_count": 3,
   "metadata": {},
   "outputs": [],
   "source": [
    "\n",
    "def read_ceps(genre_list, base_dir):\n",
    "\tX, y = [], []\n",
    "\tfor label, genre in enumerate(genre_list):\n",
    "\t\tfor fn in glob.glob(os.path.join(base_dir, genre, \"*.ceps.npy\")):\n",
    "\t\t\tceps = np.load(fn)\n",
    "\t\t\tnum_ceps = len(ceps)\n",
    "\t\t\tX.append(np.mean(ceps[int(num_ceps*1/10):int(num_ceps*9/10)], axis=0))\n",
    "\t\t\ty.append(label)\n",
    "\t\n",
    "\treturn np.array(X), np.array(y)"
   ]
  },
  {
   "cell_type": "code",
   "execution_count": 4,
   "metadata": {},
   "outputs": [],
   "source": [
    "def train_score(classifier, Xtrain, Xtest, ytrain, ytest):\n",
    "        train_acc = classifier.score(Xtrain, ytrain)\n",
    "        test_acc = classifier.score(Xtest, ytest)\n",
    "        print(\"Training Data Accuracy: %0.2f\" % (train_acc))\n",
    "        print(\"Test Data Accuracy:     %0.2f\" % (test_acc))\n",
    "        ypred = classifier.predict(Xtest)\n",
    "        conf = confusion_matrix(ytest, ypred)\n",
    "        precision = (conf[0, 0] / (conf[0, 0] + conf[1, 0]))\n",
    "        recall = (conf[0, 0] / (conf[0, 0] + conf[0, 1]))\n",
    "        f1_score = 2 * ((precision * recall)/(precision + recall))\n",
    "        print(\"Precision:              %0.2f\" % precision)\n",
    "        print(\"Recall:                 %0.2f\" % recall)\n",
    "        print(\"F1 Score:                 %0.2f\" % f1_score)\n",
    "        print('\\n')\n"
   ]
  },
  {
   "cell_type": "code",
   "execution_count": 5,
   "metadata": {},
   "outputs": [],
   "source": [
    "def learn_and_classify(X_train, y_train, X_test, y_test, genre_list):\n",
    "\n",
    "\t# print(\"X_train = \" + str(len(X_train)), \"y_train = \" + str(len(y_train)), \"X_test = \" + str(len(X_test)), \"y_test = \" + str(len(y_test)))\n",
    "\n",
    "        #  Method 1: Logistic Regression\n",
    "\tlogistic_classifier = linear_model.LogisticRegression()\n",
    "\tlogistic_classifier.fit(X_train, y_train)\n",
    "\n",
    "\tlogistic_predictions = logistic_classifier.predict(X_test)\n",
    "\tlogistic_accuracy = accuracy_score(y_test, logistic_predictions)\n",
    "\tlogistic_cm = confusion_matrix(y_test, logistic_predictions)\n",
    "\tprint(\"logistic accuracy = \" + str(logistic_accuracy))\n",
    "\tprint(\"logistic_cm:\")\n",
    "\tprint(logistic_cm)\n",
    "\n",
    "\t\n",
    "\tprint(\"######## [F1-SCORE] CLASSIFICATION REPORT with Logistic Regression ########\")\n",
    "\ttarget_names = ['classical', 'hiphop', 'jazz', 'metal', 'pop', 'rock']\n",
    "\tprint(classification_report(y_test, logistic_predictions,target_names=target_names))\n",
    "\t\n",
    "\tplot_confusion_matrix(logistic_cm, \"Confusion matrix\", genre_list)\n",
    "\t\n",
    "\t#  Method 2: KNeighbors Classifier\n",
    "\tknn_classifier = KNeighborsClassifier()\n",
    "\tknn_classifier.fit(X_train, y_train)\n",
    "\tknn_predictions = knn_classifier.predict(X_test)\n",
    "\tknn_accuracy = accuracy_score(y_test, knn_predictions)\n",
    "\tknn_cm = confusion_matrix(y_test, knn_predictions)\n",
    "\tprint(\"knn accuracy = \" + str(knn_accuracy))\n",
    "\tprint(\"knn_cm:\") \n",
    "\tprint(knn_cm)\n",
    "\t\n",
    "\tprint(\"######## [F1-SCORE] CLASSIFICATION REPORT with KNeighbors Classifier ########\")\n",
    "\ttarget_names = ['classical', 'hiphop', 'jazz', 'metal', 'pop', 'rock']\n",
    "\tprint(classification_report(y_test, logistic_predictions,target_names=target_names))\n",
    "\t\n",
    "\tplot_confusion_matrix(knn_cm, \"Confusion matrix for FFT classification\", genre_list)"
   ]
  },
  {
   "cell_type": "code",
   "execution_count": 6,
   "metadata": {},
   "outputs": [],
   "source": [
    "def plot_confusion_matrix(cm, title, genre_list, cmap=plt.cm.Blues):\n",
    "        plt.imshow(cm, interpolation='nearest', cmap=cmap)\n",
    "        plt.title(title)\n",
    "        plt.colorbar()\n",
    "        tick_marks = np.arange(len(genre_list))\n",
    "        plt.xticks(tick_marks, genre_list, rotation=45)\n",
    "        plt.yticks(tick_marks, genre_list)\n",
    "        plt.tight_layout()\n",
    "        plt.ylabel('True label')\n",
    "        plt.xlabel('Predicted label')\n",
    "        plt.show()"
   ]
  },
  {
   "cell_type": "code",
   "execution_count": 7,
   "metadata": {},
   "outputs": [],
   "source": [
    "def main():\n",
    "\t# first command line argument is the base folder that consists of the fft files for each genre\n",
    "\tbase_dir_fft  = sys.argv[1]\n",
    "\t# second command line argument is the base folder that consists of the mfcc files for each genre\n",
    "\tbase_dir_mfcc = sys.argv[2]\n",
    "\n",
    "        if base_dir_fft == \"\":\n",
    "\t        base_dir_fft  = \"genres.FFT/\"\n",
    "        if base_dir_mfcc == \"\":\n",
    "\t        base_dir_mfcc = \"genres.MFCC/\"\n",
    "                \t\n",
    "\t\"\"\"list of genres (these must be folder names consisting .wav of respective genre in the base_dir)\n",
    "\tChange list if needed.\n",
    "\t\"\"\"\n",
    "\tgenre_list = [\"classical\", \"hiphop\", \"jazz\", \"pop\", \"rock\", \"metal\"]\n",
    "\t\n",
    "\t#genre_list = [\"classical\", \"jazz\"] IF YOU WANT TO CLASSIFY ONLY CLASSICAL AND JAZZ\n",
    "\n",
    "\t# use FFT\n",
    "\tX, y = read_fft(genre_list, base_dir_fft)\n",
    "\tX_train, X_test, y_train, y_test = train_test_split(X, y, test_size = .25)\n",
    "\n",
    "\t# print(\"X_train = \" + str(len(X_train)), \"y_train = \" + str(len(y_train)), \"X_test = \" + str(len(X_test)), \"y_test = \" + str(len(y_test)))\n",
    "\t\n",
    "\tprint('\\n******USING FFT******')\n",
    "\tlearn_and_classify(X_train, y_train, X_test, y_test, genre_list)\n",
    "\tprint('*********************\\n')\n",
    "\n",
    "\t# use MFCC\n",
    "\tX, y = read_ceps(genre_list, base_dir_mfcc)\n",
    "\tX_train, X_test, y_train, y_test = train_test_split(X, y, test_size = 0.25)\n",
    "\tprint('******USING MFCC******')\n",
    "\tlearn_and_classify(X_train, y_train, X_test, y_test, genre_list)\n",
    "\tprint('*********************')\n",
    "\n",
    "# if __name__ == \"__main__\":\n",
    "# main()"
   ]
  },
  {
   "cell_type": "code",
   "execution_count": 8,
   "metadata": {},
   "outputs": [],
   "source": [
    "# Main Routine\n",
    "base_dir_fft  = \"genres.FFT/\"\n",
    "base_dir_mfcc = \"genres.MFCC/\"\n"
   ]
  },
  {
   "cell_type": "code",
   "execution_count": 9,
   "metadata": {},
   "outputs": [],
   "source": [
    "#list of genres (these must be folder names consisting .wav of respective genre in the base_dir) Change list if needed.\n",
    "#genre_list = [\"classical\", \"jazz\"] IF YOU WANT TO CLASSIFY ONLY CLASSICAL AND JAZZ\n",
    "genre_list = [\"classical\", \"hiphop\", \"jazz\", \"pop\", \"rock\", \"metal\"]\n"
   ]
  },
  {
   "cell_type": "code",
   "execution_count": 10,
   "metadata": {},
   "outputs": [
    {
     "name": "stdout",
     "output_type": "stream",
     "text": [
      "\n",
      "******USING FFT******\n"
     ]
    },
    {
     "name": "stderr",
     "output_type": "stream",
     "text": [
      "/var/www/invain/anaconda3/envs/python27/lib/python2.7/site-packages/sklearn/linear_model/logistic.py:433: FutureWarning: Default solver will be changed to 'lbfgs' in 0.22. Specify a solver to silence this warning.\n",
      "  FutureWarning)\n",
      "/var/www/invain/anaconda3/envs/python27/lib/python2.7/site-packages/sklearn/linear_model/logistic.py:460: FutureWarning: Default multi_class will be changed to 'auto' in 0.22. Specify the multi_class option to silence this warning.\n",
      "  \"this warning.\", FutureWarning)\n"
     ]
    },
    {
     "name": "stdout",
     "output_type": "stream",
     "text": [
      "logistic accuracy = 0.47333333333333333\n",
      "logistic_cm:\n",
      "[[17  2  4  0  5  1]\n",
      " [ 2 11  1  3  6  1]\n",
      " [ 6  3 11  3  2  0]\n",
      " [ 1  6  5 11  1  0]\n",
      " [ 1  6  3  3  7  1]\n",
      " [ 0  6  1  0  6 14]]\n",
      "######## [F1-SCORE] CLASSIFICATION REPORT with Logistic Regression ########\n",
      "              precision    recall  f1-score   support\n",
      "\n",
      "   classical       0.63      0.59      0.61        29\n",
      "      hiphop       0.32      0.46      0.38        24\n",
      "        jazz       0.44      0.44      0.44        25\n",
      "       metal       0.55      0.46      0.50        24\n",
      "         pop       0.26      0.33      0.29        21\n",
      "        rock       0.82      0.52      0.64        27\n",
      "\n",
      "   micro avg       0.47      0.47      0.47       150\n",
      "   macro avg       0.50      0.47      0.48       150\n",
      "weighted avg       0.52      0.47      0.49       150\n",
      "\n"
     ]
    },
    {
     "data": {
      "image/png": "[encoded data removed]",
      "text/plain": [
       "<Figure size 432x288 with 2 Axes>"
      ]
     },
     "metadata": {
      "needs_background": "light"
     },
     "output_type": "display_data"
    },
    {
     "name": "stdout",
     "output_type": "stream",
     "text": [
      "knn accuracy = 0.38\n",
      "knn_cm:\n",
      "[[22  4  2  1  0  0]\n",
      " [ 2  6  0  4  6  6]\n",
      " [ 8  6  8  0  2  1]\n",
      " [ 2  9  2  7  3  1]\n",
      " [ 1  5  1  2  4  8]\n",
      " [ 2 12  1  0  2 10]]\n",
      "######## [F1-SCORE] CLASSIFICATION REPORT with KNeighbors Classifier ########\n",
      "              precision    recall  f1-score   support\n",
      "\n",
      "   classical       0.63      0.59      0.61        29\n",
      "      hiphop       0.32      0.46      0.38        24\n",
      "        jazz       0.44      0.44      0.44        25\n",
      "       metal       0.55      0.46      0.50        24\n",
      "         pop       0.26      0.33      0.29        21\n",
      "        rock       0.82      0.52      0.64        27\n",
      "\n",
      "   micro avg       0.47      0.47      0.47       150\n",
      "   macro avg       0.50      0.47      0.48       150\n",
      "weighted avg       0.52      0.47      0.49       150\n",
      "\n"
     ]
    },
    {
     "data": {
      "image/png": "[encoded data removed]",
      "text/plain": [
       "<Figure size 432x288 with 2 Axes>"
      ]
     },
     "metadata": {
      "needs_background": "light"
     },
     "output_type": "display_data"
    },
    {
     "name": "stdout",
     "output_type": "stream",
     "text": [
      "*********************\n",
      "\n"
     ]
    }
   ],
   "source": [
    "# use FFT\n",
    "X, y = read_fft(genre_list, base_dir_fft)\n",
    "X_train, X_test, y_train, y_test = train_test_split(X, y, test_size = .25)\n",
    "\n",
    "# print(\"X_train = \" + str(len(X_train)), \"y_train = \" + str(len(y_train)), \"X_test = \" + str(len(X_test)), \"y_test = \" + str(len(y_test)))\n",
    "\n",
    "print('\\n******USING FFT******')\n",
    "learn_and_classify(X_train, y_train, X_test, y_test, genre_list)\n",
    "print('*********************\\n')\n"
   ]
  },
  {
   "cell_type": "code",
   "execution_count": 11,
   "metadata": {},
   "outputs": [
    {
     "name": "stdout",
     "output_type": "stream",
     "text": [
      "******USING MFCC******\n",
      "logistic accuracy = 0.7333333333333333\n",
      "logistic_cm:\n",
      "[[24  0  2  1  0  1]\n",
      " [ 0 16  3  3  1  2]\n",
      " [ 0  5  9  1  3  0]\n",
      " [ 0  1  1 25  0  0]\n",
      " [ 0  2  4  2 13  1]\n",
      " [ 0  3  1  0  3 23]]\n",
      "######## [F1-SCORE] CLASSIFICATION REPORT with Logistic Regression ########\n",
      "              precision    recall  f1-score   support\n",
      "\n",
      "   classical       1.00      0.86      0.92        28\n",
      "      hiphop       0.59      0.64      0.62        25\n",
      "        jazz       0.45      0.50      0.47        18\n",
      "       metal       0.78      0.93      0.85        27\n",
      "         pop       0.65      0.59      0.62        22\n",
      "        rock       0.85      0.77      0.81        30\n",
      "\n",
      "   micro avg       0.73      0.73      0.73       150\n",
      "   macro avg       0.72      0.71      0.71       150\n",
      "weighted avg       0.75      0.73      0.74       150\n",
      "\n"
     ]
    },
    {
     "data": {
      "image/png": "[encoded data removed]",
      "text/plain": [
       "<Figure size 432x288 with 2 Axes>"
      ]
     },
     "metadata": {
      "needs_background": "light"
     },
     "output_type": "display_data"
    },
    {
     "name": "stdout",
     "output_type": "stream",
     "text": [
      "knn accuracy = 0.6866666666666666\n",
      "knn_cm:\n",
      "[[24  0  2  1  1  0]\n",
      " [ 0 11  2  3  6  3]\n",
      " [ 1  6  6  1  4  0]\n",
      " [ 0  1  0 25  1  0]\n",
      " [ 1  0  2  3 16  0]\n",
      " [ 0  3  0  0  6 21]]\n",
      "######## [F1-SCORE] CLASSIFICATION REPORT with KNeighbors Classifier ########\n",
      "              precision    recall  f1-score   support\n",
      "\n",
      "   classical       1.00      0.86      0.92        28\n",
      "      hiphop       0.59      0.64      0.62        25\n",
      "        jazz       0.45      0.50      0.47        18\n",
      "       metal       0.78      0.93      0.85        27\n",
      "         pop       0.65      0.59      0.62        22\n",
      "        rock       0.85      0.77      0.81        30\n",
      "\n",
      "   micro avg       0.73      0.73      0.73       150\n",
      "   macro avg       0.72      0.71      0.71       150\n",
      "weighted avg       0.75      0.73      0.74       150\n",
      "\n"
     ]
    },
    {
     "data": {
      "image/png": "[encoded data removed]",
      "text/plain": [
       "<Figure size 432x288 with 2 Axes>"
      ]
     },
     "metadata": {
      "needs_background": "light"
     },
     "output_type": "display_data"
    },
    {
     "name": "stdout",
     "output_type": "stream",
     "text": [
      "*********************\n"
     ]
    }
   ],
   "source": [
    "# use MFCC\n",
    "X, y = read_ceps(genre_list, base_dir_mfcc)\n",
    "X_train, X_test, y_train, y_test = train_test_split(X, y, test_size = 0.25)\n",
    "print('******USING MFCC******')\n",
    "learn_and_classify(X_train, y_train, X_test, y_test, genre_list)\n",
    "print('*********************')"
   ]
  },
  {
   "cell_type": "code",
   "execution_count": null,
   "metadata": {},
   "outputs": [],
   "source": []
  }
 ],
 "metadata": {
  "kernelspec": {
   "display_name": "Python 2",
   "language": "python",
   "name": "python2"
  },
  "language_info": {
   "codemirror_mode": {
    "name": "ipython",
    "version": 2
   },
   "file_extension": ".py",
   "mimetype": "text/x-python",
   "name": "python",
   "nbconvert_exporter": "python",
   "pygments_lexer": "ipython2",
   "version": "2.7.18"
  }
 },
 "nbformat": 4,
 "nbformat_minor": 4
}
